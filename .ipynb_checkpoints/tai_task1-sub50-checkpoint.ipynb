{
 "cells": [
  {
   "cell_type": "code",
   "execution_count": 1,
   "metadata": {},
   "outputs": [],
   "source": [
    "import pandas as pd\n",
    "import numpy as np"
   ]
  },
  {
   "cell_type": "code",
   "execution_count": 2,
   "metadata": {},
   "outputs": [],
   "source": [
    "original = pd.read_excel(\"Reduced Features for TAI project.xlsx\")"
   ]
  },
  {
   "cell_type": "code",
   "execution_count": 3,
   "metadata": {},
   "outputs": [
    {
     "data": {
      "text/html": [
       "<div>\n",
       "<style scoped>\n",
       "    .dataframe tbody tr th:only-of-type {\n",
       "        vertical-align: middle;\n",
       "    }\n",
       "\n",
       "    .dataframe tbody tr th {\n",
       "        vertical-align: top;\n",
       "    }\n",
       "\n",
       "    .dataframe thead th {\n",
       "        text-align: right;\n",
       "    }\n",
       "</style>\n",
       "<table border=\"1\" class=\"dataframe\">\n",
       "  <thead>\n",
       "    <tr style=\"text-align: right;\">\n",
       "      <th></th>\n",
       "      <th>Patient ID</th>\n",
       "      <th>original_shape_Elongation</th>\n",
       "      <th>original_firstorder_Kurtosis</th>\n",
       "      <th>original_firstorder_Skewness</th>\n",
       "      <th>wavelet-LHL_glrlm_RunVariance</th>\n",
       "      <th>wavelet2-LHL_gldm_LargeDependenceEmphasis</th>\n",
       "      <th>wavelet2-LLH_gldm_LargeDependenceEmphasis</th>\n",
       "      <th>wavelet-LHL_gldm_LargeDependenceEmphasis</th>\n",
       "      <th>wavelet2-LHL_gldm_DependenceVariance</th>\n",
       "      <th>wavelet2-LHL_glrlm_RunVariance</th>\n",
       "      <th>...</th>\n",
       "      <th>wavelet-LLL_glszm_LargeAreaLowGrayLevelEmphasis</th>\n",
       "      <th>wavelet2-HHH_firstorder_RootMeanSquared</th>\n",
       "      <th>wavelet2-LLH_firstorder_Kurtosis</th>\n",
       "      <th>wavelet-HHL_glcm_Imc2</th>\n",
       "      <th>wavelet2-LHH_firstorder_RobustMeanAbsoluteDeviation</th>\n",
       "      <th>original_shape_SphericalDisproportion</th>\n",
       "      <th>wavelet2-HHL_glcm_Idmn</th>\n",
       "      <th>wavelet2-LHH_firstorder_RootMeanSquared</th>\n",
       "      <th>wavelet2-HLL_firstorder_Maximum</th>\n",
       "      <th>Label</th>\n",
       "    </tr>\n",
       "  </thead>\n",
       "  <tbody>\n",
       "    <tr>\n",
       "      <th>0</th>\n",
       "      <td>1</td>\n",
       "      <td>0.661690</td>\n",
       "      <td>2.817688</td>\n",
       "      <td>0.769536</td>\n",
       "      <td>7.257078</td>\n",
       "      <td>3381.734540</td>\n",
       "      <td>3715.077716</td>\n",
       "      <td>3546.818663</td>\n",
       "      <td>634.748331</td>\n",
       "      <td>6.682128</td>\n",
       "      <td>...</td>\n",
       "      <td>4005.210235</td>\n",
       "      <td>0.408974</td>\n",
       "      <td>2.949406</td>\n",
       "      <td>0.231474</td>\n",
       "      <td>0.473838</td>\n",
       "      <td>1.572473</td>\n",
       "      <td>0.983853</td>\n",
       "      <td>0.875074</td>\n",
       "      <td>142.866201</td>\n",
       "      <td>0</td>\n",
       "    </tr>\n",
       "    <tr>\n",
       "      <th>1</th>\n",
       "      <td>1</td>\n",
       "      <td>0.750849</td>\n",
       "      <td>2.084800</td>\n",
       "      <td>0.442780</td>\n",
       "      <td>3.137745</td>\n",
       "      <td>2653.808184</td>\n",
       "      <td>1443.697357</td>\n",
       "      <td>2297.305200</td>\n",
       "      <td>616.359443</td>\n",
       "      <td>4.095513</td>\n",
       "      <td>...</td>\n",
       "      <td>32.058217</td>\n",
       "      <td>0.282009</td>\n",
       "      <td>2.790798</td>\n",
       "      <td>0.010531</td>\n",
       "      <td>0.401979</td>\n",
       "      <td>1.178144</td>\n",
       "      <td>0.905124</td>\n",
       "      <td>0.696716</td>\n",
       "      <td>21.693040</td>\n",
       "      <td>0</td>\n",
       "    </tr>\n",
       "    <tr>\n",
       "      <th>2</th>\n",
       "      <td>1</td>\n",
       "      <td>0.619781</td>\n",
       "      <td>2.590759</td>\n",
       "      <td>0.384512</td>\n",
       "      <td>7.005413</td>\n",
       "      <td>3551.125894</td>\n",
       "      <td>3568.780890</td>\n",
       "      <td>3342.865490</td>\n",
       "      <td>426.661231</td>\n",
       "      <td>8.535867</td>\n",
       "      <td>...</td>\n",
       "      <td>63032.030205</td>\n",
       "      <td>0.442902</td>\n",
       "      <td>3.211156</td>\n",
       "      <td>0.276207</td>\n",
       "      <td>0.446076</td>\n",
       "      <td>1.615550</td>\n",
       "      <td>0.993054</td>\n",
       "      <td>0.832938</td>\n",
       "      <td>163.039718</td>\n",
       "      <td>0</td>\n",
       "    </tr>\n",
       "    <tr>\n",
       "      <th>3</th>\n",
       "      <td>2</td>\n",
       "      <td>0.388733</td>\n",
       "      <td>2.932863</td>\n",
       "      <td>0.738215</td>\n",
       "      <td>2.178815</td>\n",
       "      <td>1564.039548</td>\n",
       "      <td>1370.065913</td>\n",
       "      <td>1839.930320</td>\n",
       "      <td>318.122386</td>\n",
       "      <td>1.939531</td>\n",
       "      <td>...</td>\n",
       "      <td>147.649047</td>\n",
       "      <td>0.330143</td>\n",
       "      <td>3.054401</td>\n",
       "      <td>0.023870</td>\n",
       "      <td>0.399957</td>\n",
       "      <td>1.306885</td>\n",
       "      <td>0.911141</td>\n",
       "      <td>0.727764</td>\n",
       "      <td>22.979554</td>\n",
       "      <td>0</td>\n",
       "    </tr>\n",
       "    <tr>\n",
       "      <th>4</th>\n",
       "      <td>2</td>\n",
       "      <td>0.820531</td>\n",
       "      <td>2.814081</td>\n",
       "      <td>0.773252</td>\n",
       "      <td>1.316850</td>\n",
       "      <td>1377.981413</td>\n",
       "      <td>1005.602230</td>\n",
       "      <td>1164.799257</td>\n",
       "      <td>325.473446</td>\n",
       "      <td>1.726775</td>\n",
       "      <td>...</td>\n",
       "      <td>65.872763</td>\n",
       "      <td>0.278449</td>\n",
       "      <td>2.074076</td>\n",
       "      <td>0.016973</td>\n",
       "      <td>0.350459</td>\n",
       "      <td>1.165727</td>\n",
       "      <td>0.906515</td>\n",
       "      <td>0.606753</td>\n",
       "      <td>24.490320</td>\n",
       "      <td>0</td>\n",
       "    </tr>\n",
       "    <tr>\n",
       "      <th>...</th>\n",
       "      <td>...</td>\n",
       "      <td>...</td>\n",
       "      <td>...</td>\n",
       "      <td>...</td>\n",
       "      <td>...</td>\n",
       "      <td>...</td>\n",
       "      <td>...</td>\n",
       "      <td>...</td>\n",
       "      <td>...</td>\n",
       "      <td>...</td>\n",
       "      <td>...</td>\n",
       "      <td>...</td>\n",
       "      <td>...</td>\n",
       "      <td>...</td>\n",
       "      <td>...</td>\n",
       "      <td>...</td>\n",
       "      <td>...</td>\n",
       "      <td>...</td>\n",
       "      <td>...</td>\n",
       "      <td>...</td>\n",
       "      <td>...</td>\n",
       "    </tr>\n",
       "    <tr>\n",
       "      <th>3557</th>\n",
       "      <td>96</td>\n",
       "      <td>0.225097</td>\n",
       "      <td>3.145095</td>\n",
       "      <td>0.887252</td>\n",
       "      <td>0.507042</td>\n",
       "      <td>113.521739</td>\n",
       "      <td>63.289855</td>\n",
       "      <td>158.304348</td>\n",
       "      <td>21.194707</td>\n",
       "      <td>0.420766</td>\n",
       "      <td>...</td>\n",
       "      <td>22.156250</td>\n",
       "      <td>0.148424</td>\n",
       "      <td>2.383944</td>\n",
       "      <td>0.025038</td>\n",
       "      <td>0.236198</td>\n",
       "      <td>1.412431</td>\n",
       "      <td>0.924402</td>\n",
       "      <td>0.649229</td>\n",
       "      <td>27.270149</td>\n",
       "      <td>1</td>\n",
       "    </tr>\n",
       "    <tr>\n",
       "      <th>3558</th>\n",
       "      <td>96</td>\n",
       "      <td>0.503842</td>\n",
       "      <td>2.484876</td>\n",
       "      <td>0.655281</td>\n",
       "      <td>4.641217</td>\n",
       "      <td>2475.349595</td>\n",
       "      <td>2771.461923</td>\n",
       "      <td>2684.326511</td>\n",
       "      <td>574.123960</td>\n",
       "      <td>4.591888</td>\n",
       "      <td>...</td>\n",
       "      <td>450.172765</td>\n",
       "      <td>0.403421</td>\n",
       "      <td>3.311709</td>\n",
       "      <td>0.546492</td>\n",
       "      <td>0.400437</td>\n",
       "      <td>1.494975</td>\n",
       "      <td>0.992242</td>\n",
       "      <td>0.734152</td>\n",
       "      <td>288.610250</td>\n",
       "      <td>1</td>\n",
       "    </tr>\n",
       "    <tr>\n",
       "      <th>3559</th>\n",
       "      <td>96</td>\n",
       "      <td>0.454726</td>\n",
       "      <td>3.363199</td>\n",
       "      <td>1.026167</td>\n",
       "      <td>6.014596</td>\n",
       "      <td>3310.430153</td>\n",
       "      <td>1430.379898</td>\n",
       "      <td>3536.925043</td>\n",
       "      <td>548.184562</td>\n",
       "      <td>5.595325</td>\n",
       "      <td>...</td>\n",
       "      <td>336.564815</td>\n",
       "      <td>0.114790</td>\n",
       "      <td>3.124013</td>\n",
       "      <td>0.028680</td>\n",
       "      <td>0.319474</td>\n",
       "      <td>1.609656</td>\n",
       "      <td>0.895515</td>\n",
       "      <td>0.566488</td>\n",
       "      <td>14.823064</td>\n",
       "      <td>1</td>\n",
       "    </tr>\n",
       "    <tr>\n",
       "      <th>3560</th>\n",
       "      <td>96</td>\n",
       "      <td>0.624101</td>\n",
       "      <td>2.205947</td>\n",
       "      <td>0.349004</td>\n",
       "      <td>1.626775</td>\n",
       "      <td>921.056338</td>\n",
       "      <td>280.690141</td>\n",
       "      <td>1045.957746</td>\n",
       "      <td>148.842690</td>\n",
       "      <td>1.583895</td>\n",
       "      <td>...</td>\n",
       "      <td>14.416448</td>\n",
       "      <td>0.131801</td>\n",
       "      <td>2.174953</td>\n",
       "      <td>0.072674</td>\n",
       "      <td>0.254557</td>\n",
       "      <td>1.280580</td>\n",
       "      <td>0.895171</td>\n",
       "      <td>0.542009</td>\n",
       "      <td>15.171972</td>\n",
       "      <td>1</td>\n",
       "    </tr>\n",
       "    <tr>\n",
       "      <th>3561</th>\n",
       "      <td>96</td>\n",
       "      <td>0.540562</td>\n",
       "      <td>2.317722</td>\n",
       "      <td>0.496575</td>\n",
       "      <td>1.933525</td>\n",
       "      <td>479.796178</td>\n",
       "      <td>393.770701</td>\n",
       "      <td>1347.133758</td>\n",
       "      <td>176.326464</td>\n",
       "      <td>0.912156</td>\n",
       "      <td>...</td>\n",
       "      <td>1.846151</td>\n",
       "      <td>0.994323</td>\n",
       "      <td>2.600714</td>\n",
       "      <td>0.293748</td>\n",
       "      <td>0.419372</td>\n",
       "      <td>1.394285</td>\n",
       "      <td>0.971497</td>\n",
       "      <td>1.223159</td>\n",
       "      <td>162.772856</td>\n",
       "      <td>1</td>\n",
       "    </tr>\n",
       "  </tbody>\n",
       "</table>\n",
       "<p>3562 rows × 152 columns</p>\n",
       "</div>"
      ],
      "text/plain": [
       "      Patient ID  original_shape_Elongation  original_firstorder_Kurtosis  \\\n",
       "0              1                   0.661690                      2.817688   \n",
       "1              1                   0.750849                      2.084800   \n",
       "2              1                   0.619781                      2.590759   \n",
       "3              2                   0.388733                      2.932863   \n",
       "4              2                   0.820531                      2.814081   \n",
       "...          ...                        ...                           ...   \n",
       "3557          96                   0.225097                      3.145095   \n",
       "3558          96                   0.503842                      2.484876   \n",
       "3559          96                   0.454726                      3.363199   \n",
       "3560          96                   0.624101                      2.205947   \n",
       "3561          96                   0.540562                      2.317722   \n",
       "\n",
       "      original_firstorder_Skewness  wavelet-LHL_glrlm_RunVariance  \\\n",
       "0                         0.769536                       7.257078   \n",
       "1                         0.442780                       3.137745   \n",
       "2                         0.384512                       7.005413   \n",
       "3                         0.738215                       2.178815   \n",
       "4                         0.773252                       1.316850   \n",
       "...                            ...                            ...   \n",
       "3557                      0.887252                       0.507042   \n",
       "3558                      0.655281                       4.641217   \n",
       "3559                      1.026167                       6.014596   \n",
       "3560                      0.349004                       1.626775   \n",
       "3561                      0.496575                       1.933525   \n",
       "\n",
       "      wavelet2-LHL_gldm_LargeDependenceEmphasis  \\\n",
       "0                                   3381.734540   \n",
       "1                                   2653.808184   \n",
       "2                                   3551.125894   \n",
       "3                                   1564.039548   \n",
       "4                                   1377.981413   \n",
       "...                                         ...   \n",
       "3557                                 113.521739   \n",
       "3558                                2475.349595   \n",
       "3559                                3310.430153   \n",
       "3560                                 921.056338   \n",
       "3561                                 479.796178   \n",
       "\n",
       "      wavelet2-LLH_gldm_LargeDependenceEmphasis  \\\n",
       "0                                   3715.077716   \n",
       "1                                   1443.697357   \n",
       "2                                   3568.780890   \n",
       "3                                   1370.065913   \n",
       "4                                   1005.602230   \n",
       "...                                         ...   \n",
       "3557                                  63.289855   \n",
       "3558                                2771.461923   \n",
       "3559                                1430.379898   \n",
       "3560                                 280.690141   \n",
       "3561                                 393.770701   \n",
       "\n",
       "      wavelet-LHL_gldm_LargeDependenceEmphasis  \\\n",
       "0                                  3546.818663   \n",
       "1                                  2297.305200   \n",
       "2                                  3342.865490   \n",
       "3                                  1839.930320   \n",
       "4                                  1164.799257   \n",
       "...                                        ...   \n",
       "3557                                158.304348   \n",
       "3558                               2684.326511   \n",
       "3559                               3536.925043   \n",
       "3560                               1045.957746   \n",
       "3561                               1347.133758   \n",
       "\n",
       "      wavelet2-LHL_gldm_DependenceVariance  wavelet2-LHL_glrlm_RunVariance  \\\n",
       "0                               634.748331                        6.682128   \n",
       "1                               616.359443                        4.095513   \n",
       "2                               426.661231                        8.535867   \n",
       "3                               318.122386                        1.939531   \n",
       "4                               325.473446                        1.726775   \n",
       "...                                    ...                             ...   \n",
       "3557                             21.194707                        0.420766   \n",
       "3558                            574.123960                        4.591888   \n",
       "3559                            548.184562                        5.595325   \n",
       "3560                            148.842690                        1.583895   \n",
       "3561                            176.326464                        0.912156   \n",
       "\n",
       "      ...  wavelet-LLL_glszm_LargeAreaLowGrayLevelEmphasis  \\\n",
       "0     ...                                      4005.210235   \n",
       "1     ...                                        32.058217   \n",
       "2     ...                                     63032.030205   \n",
       "3     ...                                       147.649047   \n",
       "4     ...                                        65.872763   \n",
       "...   ...                                              ...   \n",
       "3557  ...                                        22.156250   \n",
       "3558  ...                                       450.172765   \n",
       "3559  ...                                       336.564815   \n",
       "3560  ...                                        14.416448   \n",
       "3561  ...                                         1.846151   \n",
       "\n",
       "      wavelet2-HHH_firstorder_RootMeanSquared  \\\n",
       "0                                    0.408974   \n",
       "1                                    0.282009   \n",
       "2                                    0.442902   \n",
       "3                                    0.330143   \n",
       "4                                    0.278449   \n",
       "...                                       ...   \n",
       "3557                                 0.148424   \n",
       "3558                                 0.403421   \n",
       "3559                                 0.114790   \n",
       "3560                                 0.131801   \n",
       "3561                                 0.994323   \n",
       "\n",
       "      wavelet2-LLH_firstorder_Kurtosis  wavelet-HHL_glcm_Imc2  \\\n",
       "0                             2.949406               0.231474   \n",
       "1                             2.790798               0.010531   \n",
       "2                             3.211156               0.276207   \n",
       "3                             3.054401               0.023870   \n",
       "4                             2.074076               0.016973   \n",
       "...                                ...                    ...   \n",
       "3557                          2.383944               0.025038   \n",
       "3558                          3.311709               0.546492   \n",
       "3559                          3.124013               0.028680   \n",
       "3560                          2.174953               0.072674   \n",
       "3561                          2.600714               0.293748   \n",
       "\n",
       "      wavelet2-LHH_firstorder_RobustMeanAbsoluteDeviation  \\\n",
       "0                                              0.473838     \n",
       "1                                              0.401979     \n",
       "2                                              0.446076     \n",
       "3                                              0.399957     \n",
       "4                                              0.350459     \n",
       "...                                                 ...     \n",
       "3557                                           0.236198     \n",
       "3558                                           0.400437     \n",
       "3559                                           0.319474     \n",
       "3560                                           0.254557     \n",
       "3561                                           0.419372     \n",
       "\n",
       "      original_shape_SphericalDisproportion  wavelet2-HHL_glcm_Idmn  \\\n",
       "0                                  1.572473                0.983853   \n",
       "1                                  1.178144                0.905124   \n",
       "2                                  1.615550                0.993054   \n",
       "3                                  1.306885                0.911141   \n",
       "4                                  1.165727                0.906515   \n",
       "...                                     ...                     ...   \n",
       "3557                               1.412431                0.924402   \n",
       "3558                               1.494975                0.992242   \n",
       "3559                               1.609656                0.895515   \n",
       "3560                               1.280580                0.895171   \n",
       "3561                               1.394285                0.971497   \n",
       "\n",
       "      wavelet2-LHH_firstorder_RootMeanSquared  \\\n",
       "0                                    0.875074   \n",
       "1                                    0.696716   \n",
       "2                                    0.832938   \n",
       "3                                    0.727764   \n",
       "4                                    0.606753   \n",
       "...                                       ...   \n",
       "3557                                 0.649229   \n",
       "3558                                 0.734152   \n",
       "3559                                 0.566488   \n",
       "3560                                 0.542009   \n",
       "3561                                 1.223159   \n",
       "\n",
       "      wavelet2-HLL_firstorder_Maximum  Label  \n",
       "0                          142.866201      0  \n",
       "1                           21.693040      0  \n",
       "2                          163.039718      0  \n",
       "3                           22.979554      0  \n",
       "4                           24.490320      0  \n",
       "...                               ...    ...  \n",
       "3557                        27.270149      1  \n",
       "3558                       288.610250      1  \n",
       "3559                        14.823064      1  \n",
       "3560                        15.171972      1  \n",
       "3561                       162.772856      1  \n",
       "\n",
       "[3562 rows x 152 columns]"
      ]
     },
     "execution_count": 3,
     "metadata": {},
     "output_type": "execute_result"
    }
   ],
   "source": [
    "original"
   ]
  },
  {
   "cell_type": "code",
   "execution_count": 4,
   "metadata": {},
   "outputs": [
    {
     "data": {
      "text/plain": [
       "Patient ID                                 0\n",
       "original_shape_Elongation                  0\n",
       "original_firstorder_Kurtosis               0\n",
       "original_firstorder_Skewness               0\n",
       "wavelet-LHL_glrlm_RunVariance              0\n",
       "                                          ..\n",
       "original_shape_SphericalDisproportion      0\n",
       "wavelet2-HHL_glcm_Idmn                     0\n",
       "wavelet2-LHH_firstorder_RootMeanSquared    0\n",
       "wavelet2-HLL_firstorder_Maximum            0\n",
       "Label                                      0\n",
       "Length: 152, dtype: int64"
      ]
     },
     "execution_count": 4,
     "metadata": {},
     "output_type": "execute_result"
    }
   ],
   "source": [
    "original.isna().sum()"
   ]
  },
  {
   "cell_type": "markdown",
   "metadata": {},
   "source": [
    "The dataset has no NAN values."
   ]
  },
  {
   "cell_type": "code",
   "execution_count": 5,
   "metadata": {},
   "outputs": [
    {
     "data": {
      "text/plain": [
       "1"
      ]
     },
     "execution_count": 5,
     "metadata": {},
     "output_type": "execute_result"
    }
   ],
   "source": [
    "original[\"Patient ID\"][0]"
   ]
  },
  {
   "cell_type": "code",
   "execution_count": 6,
   "metadata": {},
   "outputs": [
    {
     "name": "stdout",
     "output_type": "stream",
     "text": [
      "34    342\n",
      "9     141\n",
      "36    138\n",
      "71    132\n",
      "42    129\n",
      "     ... \n",
      "95      3\n",
      "1       3\n",
      "91      2\n",
      "87      1\n",
      "81      1\n",
      "Name: Patient ID, Length: 96, dtype: int64\n"
     ]
    }
   ],
   "source": [
    "print(original[\"Patient ID\"].value_counts())"
   ]
  },
  {
   "cell_type": "markdown",
   "metadata": {},
   "source": [
    "We notice here that some patients have alot of data compared to other patients. For example patient number '34' has 342 rows of data whereas patient '81' has only 1 row of data. So we need to balance the data."
   ]
  },
  {
   "cell_type": "code",
   "execution_count": 7,
   "metadata": {},
   "outputs": [],
   "source": [
    "original_filtered = original.drop(columns=['Patient ID'])"
   ]
  },
  {
   "cell_type": "code",
   "execution_count": 8,
   "metadata": {},
   "outputs": [],
   "source": [
    "original_filtered = original_filtered.T.drop_duplicates().T"
   ]
  },
  {
   "cell_type": "code",
   "execution_count": 9,
   "metadata": {},
   "outputs": [
    {
     "data": {
      "text/html": [
       "<div>\n",
       "<style scoped>\n",
       "    .dataframe tbody tr th:only-of-type {\n",
       "        vertical-align: middle;\n",
       "    }\n",
       "\n",
       "    .dataframe tbody tr th {\n",
       "        vertical-align: top;\n",
       "    }\n",
       "\n",
       "    .dataframe thead th {\n",
       "        text-align: right;\n",
       "    }\n",
       "</style>\n",
       "<table border=\"1\" class=\"dataframe\">\n",
       "  <thead>\n",
       "    <tr style=\"text-align: right;\">\n",
       "      <th></th>\n",
       "      <th>original_shape_Elongation</th>\n",
       "      <th>original_firstorder_Kurtosis</th>\n",
       "      <th>original_firstorder_Skewness</th>\n",
       "      <th>wavelet-LHL_glrlm_RunVariance</th>\n",
       "      <th>wavelet2-LHL_gldm_LargeDependenceEmphasis</th>\n",
       "      <th>wavelet2-LLH_gldm_LargeDependenceEmphasis</th>\n",
       "      <th>wavelet-LHL_gldm_LargeDependenceEmphasis</th>\n",
       "      <th>wavelet2-LHL_gldm_DependenceVariance</th>\n",
       "      <th>wavelet2-LHL_glrlm_RunVariance</th>\n",
       "      <th>wavelet-LHL_glrlm_LongRunEmphasis</th>\n",
       "      <th>...</th>\n",
       "      <th>wavelet-LLL_glszm_LargeAreaLowGrayLevelEmphasis</th>\n",
       "      <th>wavelet2-HHH_firstorder_RootMeanSquared</th>\n",
       "      <th>wavelet2-LLH_firstorder_Kurtosis</th>\n",
       "      <th>wavelet-HHL_glcm_Imc2</th>\n",
       "      <th>wavelet2-LHH_firstorder_RobustMeanAbsoluteDeviation</th>\n",
       "      <th>original_shape_SphericalDisproportion</th>\n",
       "      <th>wavelet2-HHL_glcm_Idmn</th>\n",
       "      <th>wavelet2-LHH_firstorder_RootMeanSquared</th>\n",
       "      <th>wavelet2-HLL_firstorder_Maximum</th>\n",
       "      <th>Label</th>\n",
       "    </tr>\n",
       "  </thead>\n",
       "  <tbody>\n",
       "    <tr>\n",
       "      <th>0</th>\n",
       "      <td>0.661690</td>\n",
       "      <td>2.817688</td>\n",
       "      <td>0.769536</td>\n",
       "      <td>7.257078</td>\n",
       "      <td>3381.734540</td>\n",
       "      <td>3715.077716</td>\n",
       "      <td>3546.818663</td>\n",
       "      <td>634.748331</td>\n",
       "      <td>6.682128</td>\n",
       "      <td>16.208843</td>\n",
       "      <td>...</td>\n",
       "      <td>4005.210235</td>\n",
       "      <td>0.408974</td>\n",
       "      <td>2.949406</td>\n",
       "      <td>0.231474</td>\n",
       "      <td>0.473838</td>\n",
       "      <td>1.572473</td>\n",
       "      <td>0.983853</td>\n",
       "      <td>0.875074</td>\n",
       "      <td>142.866201</td>\n",
       "      <td>0.0</td>\n",
       "    </tr>\n",
       "    <tr>\n",
       "      <th>1</th>\n",
       "      <td>0.750849</td>\n",
       "      <td>2.084800</td>\n",
       "      <td>0.442780</td>\n",
       "      <td>3.137745</td>\n",
       "      <td>2653.808184</td>\n",
       "      <td>1443.697357</td>\n",
       "      <td>2297.305200</td>\n",
       "      <td>616.359443</td>\n",
       "      <td>4.095513</td>\n",
       "      <td>8.438487</td>\n",
       "      <td>...</td>\n",
       "      <td>32.058217</td>\n",
       "      <td>0.282009</td>\n",
       "      <td>2.790798</td>\n",
       "      <td>0.010531</td>\n",
       "      <td>0.401979</td>\n",
       "      <td>1.178144</td>\n",
       "      <td>0.905124</td>\n",
       "      <td>0.696716</td>\n",
       "      <td>21.693040</td>\n",
       "      <td>0.0</td>\n",
       "    </tr>\n",
       "    <tr>\n",
       "      <th>2</th>\n",
       "      <td>0.619781</td>\n",
       "      <td>2.590759</td>\n",
       "      <td>0.384512</td>\n",
       "      <td>7.005413</td>\n",
       "      <td>3551.125894</td>\n",
       "      <td>3568.780890</td>\n",
       "      <td>3342.865490</td>\n",
       "      <td>426.661231</td>\n",
       "      <td>8.535867</td>\n",
       "      <td>15.858577</td>\n",
       "      <td>...</td>\n",
       "      <td>63032.030205</td>\n",
       "      <td>0.442902</td>\n",
       "      <td>3.211156</td>\n",
       "      <td>0.276207</td>\n",
       "      <td>0.446076</td>\n",
       "      <td>1.615550</td>\n",
       "      <td>0.993054</td>\n",
       "      <td>0.832938</td>\n",
       "      <td>163.039718</td>\n",
       "      <td>0.0</td>\n",
       "    </tr>\n",
       "    <tr>\n",
       "      <th>3</th>\n",
       "      <td>0.388733</td>\n",
       "      <td>2.932863</td>\n",
       "      <td>0.738215</td>\n",
       "      <td>2.178815</td>\n",
       "      <td>1564.039548</td>\n",
       "      <td>1370.065913</td>\n",
       "      <td>1839.930320</td>\n",
       "      <td>318.122386</td>\n",
       "      <td>1.939531</td>\n",
       "      <td>7.685345</td>\n",
       "      <td>...</td>\n",
       "      <td>147.649047</td>\n",
       "      <td>0.330143</td>\n",
       "      <td>3.054401</td>\n",
       "      <td>0.023870</td>\n",
       "      <td>0.399957</td>\n",
       "      <td>1.306885</td>\n",
       "      <td>0.911141</td>\n",
       "      <td>0.727764</td>\n",
       "      <td>22.979554</td>\n",
       "      <td>0.0</td>\n",
       "    </tr>\n",
       "    <tr>\n",
       "      <th>4</th>\n",
       "      <td>0.820531</td>\n",
       "      <td>2.814081</td>\n",
       "      <td>0.773252</td>\n",
       "      <td>1.316850</td>\n",
       "      <td>1377.981413</td>\n",
       "      <td>1005.602230</td>\n",
       "      <td>1164.799257</td>\n",
       "      <td>325.473446</td>\n",
       "      <td>1.726775</td>\n",
       "      <td>4.956038</td>\n",
       "      <td>...</td>\n",
       "      <td>65.872763</td>\n",
       "      <td>0.278449</td>\n",
       "      <td>2.074076</td>\n",
       "      <td>0.016973</td>\n",
       "      <td>0.350459</td>\n",
       "      <td>1.165727</td>\n",
       "      <td>0.906515</td>\n",
       "      <td>0.606753</td>\n",
       "      <td>24.490320</td>\n",
       "      <td>0.0</td>\n",
       "    </tr>\n",
       "    <tr>\n",
       "      <th>...</th>\n",
       "      <td>...</td>\n",
       "      <td>...</td>\n",
       "      <td>...</td>\n",
       "      <td>...</td>\n",
       "      <td>...</td>\n",
       "      <td>...</td>\n",
       "      <td>...</td>\n",
       "      <td>...</td>\n",
       "      <td>...</td>\n",
       "      <td>...</td>\n",
       "      <td>...</td>\n",
       "      <td>...</td>\n",
       "      <td>...</td>\n",
       "      <td>...</td>\n",
       "      <td>...</td>\n",
       "      <td>...</td>\n",
       "      <td>...</td>\n",
       "      <td>...</td>\n",
       "      <td>...</td>\n",
       "      <td>...</td>\n",
       "      <td>...</td>\n",
       "    </tr>\n",
       "    <tr>\n",
       "      <th>3557</th>\n",
       "      <td>0.225097</td>\n",
       "      <td>3.145095</td>\n",
       "      <td>0.887252</td>\n",
       "      <td>0.507042</td>\n",
       "      <td>113.521739</td>\n",
       "      <td>63.289855</td>\n",
       "      <td>158.304348</td>\n",
       "      <td>21.194707</td>\n",
       "      <td>0.420766</td>\n",
       "      <td>3.084912</td>\n",
       "      <td>...</td>\n",
       "      <td>22.156250</td>\n",
       "      <td>0.148424</td>\n",
       "      <td>2.383944</td>\n",
       "      <td>0.025038</td>\n",
       "      <td>0.236198</td>\n",
       "      <td>1.412431</td>\n",
       "      <td>0.924402</td>\n",
       "      <td>0.649229</td>\n",
       "      <td>27.270149</td>\n",
       "      <td>1.0</td>\n",
       "    </tr>\n",
       "    <tr>\n",
       "      <th>3558</th>\n",
       "      <td>0.503842</td>\n",
       "      <td>2.484876</td>\n",
       "      <td>0.655281</td>\n",
       "      <td>4.641217</td>\n",
       "      <td>2475.349595</td>\n",
       "      <td>2771.461923</td>\n",
       "      <td>2684.326511</td>\n",
       "      <td>574.123960</td>\n",
       "      <td>4.591888</td>\n",
       "      <td>11.341994</td>\n",
       "      <td>...</td>\n",
       "      <td>450.172765</td>\n",
       "      <td>0.403421</td>\n",
       "      <td>3.311709</td>\n",
       "      <td>0.546492</td>\n",
       "      <td>0.400437</td>\n",
       "      <td>1.494975</td>\n",
       "      <td>0.992242</td>\n",
       "      <td>0.734152</td>\n",
       "      <td>288.610250</td>\n",
       "      <td>1.0</td>\n",
       "    </tr>\n",
       "    <tr>\n",
       "      <th>3559</th>\n",
       "      <td>0.454726</td>\n",
       "      <td>3.363199</td>\n",
       "      <td>1.026167</td>\n",
       "      <td>6.014596</td>\n",
       "      <td>3310.430153</td>\n",
       "      <td>1430.379898</td>\n",
       "      <td>3536.925043</td>\n",
       "      <td>548.184562</td>\n",
       "      <td>5.595325</td>\n",
       "      <td>17.657257</td>\n",
       "      <td>...</td>\n",
       "      <td>336.564815</td>\n",
       "      <td>0.114790</td>\n",
       "      <td>3.124013</td>\n",
       "      <td>0.028680</td>\n",
       "      <td>0.319474</td>\n",
       "      <td>1.609656</td>\n",
       "      <td>0.895515</td>\n",
       "      <td>0.566488</td>\n",
       "      <td>14.823064</td>\n",
       "      <td>1.0</td>\n",
       "    </tr>\n",
       "    <tr>\n",
       "      <th>3560</th>\n",
       "      <td>0.624101</td>\n",
       "      <td>2.205947</td>\n",
       "      <td>0.349004</td>\n",
       "      <td>1.626775</td>\n",
       "      <td>921.056338</td>\n",
       "      <td>280.690141</td>\n",
       "      <td>1045.957746</td>\n",
       "      <td>148.842690</td>\n",
       "      <td>1.583895</td>\n",
       "      <td>6.464167</td>\n",
       "      <td>...</td>\n",
       "      <td>14.416448</td>\n",
       "      <td>0.131801</td>\n",
       "      <td>2.174953</td>\n",
       "      <td>0.072674</td>\n",
       "      <td>0.254557</td>\n",
       "      <td>1.280580</td>\n",
       "      <td>0.895171</td>\n",
       "      <td>0.542009</td>\n",
       "      <td>15.171972</td>\n",
       "      <td>1.0</td>\n",
       "    </tr>\n",
       "    <tr>\n",
       "      <th>3561</th>\n",
       "      <td>0.540562</td>\n",
       "      <td>2.317722</td>\n",
       "      <td>0.496575</td>\n",
       "      <td>1.933525</td>\n",
       "      <td>479.796178</td>\n",
       "      <td>393.770701</td>\n",
       "      <td>1347.133758</td>\n",
       "      <td>176.326464</td>\n",
       "      <td>0.912156</td>\n",
       "      <td>6.300497</td>\n",
       "      <td>...</td>\n",
       "      <td>1.846151</td>\n",
       "      <td>0.994323</td>\n",
       "      <td>2.600714</td>\n",
       "      <td>0.293748</td>\n",
       "      <td>0.419372</td>\n",
       "      <td>1.394285</td>\n",
       "      <td>0.971497</td>\n",
       "      <td>1.223159</td>\n",
       "      <td>162.772856</td>\n",
       "      <td>1.0</td>\n",
       "    </tr>\n",
       "  </tbody>\n",
       "</table>\n",
       "<p>3562 rows × 149 columns</p>\n",
       "</div>"
      ],
      "text/plain": [
       "      original_shape_Elongation  original_firstorder_Kurtosis  \\\n",
       "0                      0.661690                      2.817688   \n",
       "1                      0.750849                      2.084800   \n",
       "2                      0.619781                      2.590759   \n",
       "3                      0.388733                      2.932863   \n",
       "4                      0.820531                      2.814081   \n",
       "...                         ...                           ...   \n",
       "3557                   0.225097                      3.145095   \n",
       "3558                   0.503842                      2.484876   \n",
       "3559                   0.454726                      3.363199   \n",
       "3560                   0.624101                      2.205947   \n",
       "3561                   0.540562                      2.317722   \n",
       "\n",
       "      original_firstorder_Skewness  wavelet-LHL_glrlm_RunVariance  \\\n",
       "0                         0.769536                       7.257078   \n",
       "1                         0.442780                       3.137745   \n",
       "2                         0.384512                       7.005413   \n",
       "3                         0.738215                       2.178815   \n",
       "4                         0.773252                       1.316850   \n",
       "...                            ...                            ...   \n",
       "3557                      0.887252                       0.507042   \n",
       "3558                      0.655281                       4.641217   \n",
       "3559                      1.026167                       6.014596   \n",
       "3560                      0.349004                       1.626775   \n",
       "3561                      0.496575                       1.933525   \n",
       "\n",
       "      wavelet2-LHL_gldm_LargeDependenceEmphasis  \\\n",
       "0                                   3381.734540   \n",
       "1                                   2653.808184   \n",
       "2                                   3551.125894   \n",
       "3                                   1564.039548   \n",
       "4                                   1377.981413   \n",
       "...                                         ...   \n",
       "3557                                 113.521739   \n",
       "3558                                2475.349595   \n",
       "3559                                3310.430153   \n",
       "3560                                 921.056338   \n",
       "3561                                 479.796178   \n",
       "\n",
       "      wavelet2-LLH_gldm_LargeDependenceEmphasis  \\\n",
       "0                                   3715.077716   \n",
       "1                                   1443.697357   \n",
       "2                                   3568.780890   \n",
       "3                                   1370.065913   \n",
       "4                                   1005.602230   \n",
       "...                                         ...   \n",
       "3557                                  63.289855   \n",
       "3558                                2771.461923   \n",
       "3559                                1430.379898   \n",
       "3560                                 280.690141   \n",
       "3561                                 393.770701   \n",
       "\n",
       "      wavelet-LHL_gldm_LargeDependenceEmphasis  \\\n",
       "0                                  3546.818663   \n",
       "1                                  2297.305200   \n",
       "2                                  3342.865490   \n",
       "3                                  1839.930320   \n",
       "4                                  1164.799257   \n",
       "...                                        ...   \n",
       "3557                                158.304348   \n",
       "3558                               2684.326511   \n",
       "3559                               3536.925043   \n",
       "3560                               1045.957746   \n",
       "3561                               1347.133758   \n",
       "\n",
       "      wavelet2-LHL_gldm_DependenceVariance  wavelet2-LHL_glrlm_RunVariance  \\\n",
       "0                               634.748331                        6.682128   \n",
       "1                               616.359443                        4.095513   \n",
       "2                               426.661231                        8.535867   \n",
       "3                               318.122386                        1.939531   \n",
       "4                               325.473446                        1.726775   \n",
       "...                                    ...                             ...   \n",
       "3557                             21.194707                        0.420766   \n",
       "3558                            574.123960                        4.591888   \n",
       "3559                            548.184562                        5.595325   \n",
       "3560                            148.842690                        1.583895   \n",
       "3561                            176.326464                        0.912156   \n",
       "\n",
       "      wavelet-LHL_glrlm_LongRunEmphasis  ...  \\\n",
       "0                             16.208843  ...   \n",
       "1                              8.438487  ...   \n",
       "2                             15.858577  ...   \n",
       "3                              7.685345  ...   \n",
       "4                              4.956038  ...   \n",
       "...                                 ...  ...   \n",
       "3557                           3.084912  ...   \n",
       "3558                          11.341994  ...   \n",
       "3559                          17.657257  ...   \n",
       "3560                           6.464167  ...   \n",
       "3561                           6.300497  ...   \n",
       "\n",
       "      wavelet-LLL_glszm_LargeAreaLowGrayLevelEmphasis  \\\n",
       "0                                         4005.210235   \n",
       "1                                           32.058217   \n",
       "2                                        63032.030205   \n",
       "3                                          147.649047   \n",
       "4                                           65.872763   \n",
       "...                                               ...   \n",
       "3557                                        22.156250   \n",
       "3558                                       450.172765   \n",
       "3559                                       336.564815   \n",
       "3560                                        14.416448   \n",
       "3561                                         1.846151   \n",
       "\n",
       "      wavelet2-HHH_firstorder_RootMeanSquared  \\\n",
       "0                                    0.408974   \n",
       "1                                    0.282009   \n",
       "2                                    0.442902   \n",
       "3                                    0.330143   \n",
       "4                                    0.278449   \n",
       "...                                       ...   \n",
       "3557                                 0.148424   \n",
       "3558                                 0.403421   \n",
       "3559                                 0.114790   \n",
       "3560                                 0.131801   \n",
       "3561                                 0.994323   \n",
       "\n",
       "      wavelet2-LLH_firstorder_Kurtosis  wavelet-HHL_glcm_Imc2  \\\n",
       "0                             2.949406               0.231474   \n",
       "1                             2.790798               0.010531   \n",
       "2                             3.211156               0.276207   \n",
       "3                             3.054401               0.023870   \n",
       "4                             2.074076               0.016973   \n",
       "...                                ...                    ...   \n",
       "3557                          2.383944               0.025038   \n",
       "3558                          3.311709               0.546492   \n",
       "3559                          3.124013               0.028680   \n",
       "3560                          2.174953               0.072674   \n",
       "3561                          2.600714               0.293748   \n",
       "\n",
       "      wavelet2-LHH_firstorder_RobustMeanAbsoluteDeviation  \\\n",
       "0                                              0.473838     \n",
       "1                                              0.401979     \n",
       "2                                              0.446076     \n",
       "3                                              0.399957     \n",
       "4                                              0.350459     \n",
       "...                                                 ...     \n",
       "3557                                           0.236198     \n",
       "3558                                           0.400437     \n",
       "3559                                           0.319474     \n",
       "3560                                           0.254557     \n",
       "3561                                           0.419372     \n",
       "\n",
       "      original_shape_SphericalDisproportion  wavelet2-HHL_glcm_Idmn  \\\n",
       "0                                  1.572473                0.983853   \n",
       "1                                  1.178144                0.905124   \n",
       "2                                  1.615550                0.993054   \n",
       "3                                  1.306885                0.911141   \n",
       "4                                  1.165727                0.906515   \n",
       "...                                     ...                     ...   \n",
       "3557                               1.412431                0.924402   \n",
       "3558                               1.494975                0.992242   \n",
       "3559                               1.609656                0.895515   \n",
       "3560                               1.280580                0.895171   \n",
       "3561                               1.394285                0.971497   \n",
       "\n",
       "      wavelet2-LHH_firstorder_RootMeanSquared  \\\n",
       "0                                    0.875074   \n",
       "1                                    0.696716   \n",
       "2                                    0.832938   \n",
       "3                                    0.727764   \n",
       "4                                    0.606753   \n",
       "...                                       ...   \n",
       "3557                                 0.649229   \n",
       "3558                                 0.734152   \n",
       "3559                                 0.566488   \n",
       "3560                                 0.542009   \n",
       "3561                                 1.223159   \n",
       "\n",
       "      wavelet2-HLL_firstorder_Maximum  Label  \n",
       "0                          142.866201    0.0  \n",
       "1                           21.693040    0.0  \n",
       "2                          163.039718    0.0  \n",
       "3                           22.979554    0.0  \n",
       "4                           24.490320    0.0  \n",
       "...                               ...    ...  \n",
       "3557                        27.270149    1.0  \n",
       "3558                       288.610250    1.0  \n",
       "3559                        14.823064    1.0  \n",
       "3560                        15.171972    1.0  \n",
       "3561                       162.772856    1.0  \n",
       "\n",
       "[3562 rows x 149 columns]"
      ]
     },
     "execution_count": 9,
     "metadata": {},
     "output_type": "execute_result"
    }
   ],
   "source": [
    "original_filtered"
   ]
  },
  {
   "cell_type": "code",
   "execution_count": 10,
   "metadata": {},
   "outputs": [
    {
     "data": {
      "text/html": [
       "<div>\n",
       "<style scoped>\n",
       "    .dataframe tbody tr th:only-of-type {\n",
       "        vertical-align: middle;\n",
       "    }\n",
       "\n",
       "    .dataframe tbody tr th {\n",
       "        vertical-align: top;\n",
       "    }\n",
       "\n",
       "    .dataframe thead th {\n",
       "        text-align: right;\n",
       "    }\n",
       "</style>\n",
       "<table border=\"1\" class=\"dataframe\">\n",
       "  <thead>\n",
       "    <tr style=\"text-align: right;\">\n",
       "      <th></th>\n",
       "      <th>original_shape_Elongation</th>\n",
       "      <th>original_firstorder_Kurtosis</th>\n",
       "      <th>original_firstorder_Skewness</th>\n",
       "      <th>wavelet-LHL_glrlm_RunVariance</th>\n",
       "      <th>wavelet2-LHL_gldm_LargeDependenceEmphasis</th>\n",
       "      <th>wavelet2-LLH_gldm_LargeDependenceEmphasis</th>\n",
       "      <th>wavelet-LHL_gldm_LargeDependenceEmphasis</th>\n",
       "      <th>wavelet2-LHL_gldm_DependenceVariance</th>\n",
       "      <th>wavelet2-LHL_glrlm_RunVariance</th>\n",
       "      <th>wavelet-LHL_glrlm_LongRunEmphasis</th>\n",
       "      <th>...</th>\n",
       "      <th>wavelet-HHH_glrlm_LongRunHighGrayLevelEmphasis</th>\n",
       "      <th>wavelet-LLL_glszm_LargeAreaLowGrayLevelEmphasis</th>\n",
       "      <th>wavelet2-HHH_firstorder_RootMeanSquared</th>\n",
       "      <th>wavelet2-LLH_firstorder_Kurtosis</th>\n",
       "      <th>wavelet-HHL_glcm_Imc2</th>\n",
       "      <th>wavelet2-LHH_firstorder_RobustMeanAbsoluteDeviation</th>\n",
       "      <th>original_shape_SphericalDisproportion</th>\n",
       "      <th>wavelet2-HHL_glcm_Idmn</th>\n",
       "      <th>wavelet2-LHH_firstorder_RootMeanSquared</th>\n",
       "      <th>wavelet2-HLL_firstorder_Maximum</th>\n",
       "    </tr>\n",
       "    <tr>\n",
       "      <th>Label</th>\n",
       "      <th></th>\n",
       "      <th></th>\n",
       "      <th></th>\n",
       "      <th></th>\n",
       "      <th></th>\n",
       "      <th></th>\n",
       "      <th></th>\n",
       "      <th></th>\n",
       "      <th></th>\n",
       "      <th></th>\n",
       "      <th></th>\n",
       "      <th></th>\n",
       "      <th></th>\n",
       "      <th></th>\n",
       "      <th></th>\n",
       "      <th></th>\n",
       "      <th></th>\n",
       "      <th></th>\n",
       "      <th></th>\n",
       "      <th></th>\n",
       "      <th></th>\n",
       "    </tr>\n",
       "  </thead>\n",
       "  <tbody>\n",
       "    <tr>\n",
       "      <th>0.0</th>\n",
       "      <td>2020</td>\n",
       "      <td>2020</td>\n",
       "      <td>2020</td>\n",
       "      <td>2020</td>\n",
       "      <td>2020</td>\n",
       "      <td>2020</td>\n",
       "      <td>2020</td>\n",
       "      <td>2020</td>\n",
       "      <td>2020</td>\n",
       "      <td>2020</td>\n",
       "      <td>...</td>\n",
       "      <td>2020</td>\n",
       "      <td>2020</td>\n",
       "      <td>2020</td>\n",
       "      <td>2020</td>\n",
       "      <td>2020</td>\n",
       "      <td>2020</td>\n",
       "      <td>2020</td>\n",
       "      <td>2020</td>\n",
       "      <td>2020</td>\n",
       "      <td>2020</td>\n",
       "    </tr>\n",
       "    <tr>\n",
       "      <th>1.0</th>\n",
       "      <td>1542</td>\n",
       "      <td>1542</td>\n",
       "      <td>1542</td>\n",
       "      <td>1542</td>\n",
       "      <td>1542</td>\n",
       "      <td>1542</td>\n",
       "      <td>1542</td>\n",
       "      <td>1542</td>\n",
       "      <td>1542</td>\n",
       "      <td>1542</td>\n",
       "      <td>...</td>\n",
       "      <td>1542</td>\n",
       "      <td>1542</td>\n",
       "      <td>1542</td>\n",
       "      <td>1542</td>\n",
       "      <td>1542</td>\n",
       "      <td>1542</td>\n",
       "      <td>1542</td>\n",
       "      <td>1542</td>\n",
       "      <td>1542</td>\n",
       "      <td>1542</td>\n",
       "    </tr>\n",
       "  </tbody>\n",
       "</table>\n",
       "<p>2 rows × 148 columns</p>\n",
       "</div>"
      ],
      "text/plain": [
       "       original_shape_Elongation  original_firstorder_Kurtosis  \\\n",
       "Label                                                            \n",
       "0.0                         2020                          2020   \n",
       "1.0                         1542                          1542   \n",
       "\n",
       "       original_firstorder_Skewness  wavelet-LHL_glrlm_RunVariance  \\\n",
       "Label                                                                \n",
       "0.0                            2020                           2020   \n",
       "1.0                            1542                           1542   \n",
       "\n",
       "       wavelet2-LHL_gldm_LargeDependenceEmphasis  \\\n",
       "Label                                              \n",
       "0.0                                         2020   \n",
       "1.0                                         1542   \n",
       "\n",
       "       wavelet2-LLH_gldm_LargeDependenceEmphasis  \\\n",
       "Label                                              \n",
       "0.0                                         2020   \n",
       "1.0                                         1542   \n",
       "\n",
       "       wavelet-LHL_gldm_LargeDependenceEmphasis  \\\n",
       "Label                                             \n",
       "0.0                                        2020   \n",
       "1.0                                        1542   \n",
       "\n",
       "       wavelet2-LHL_gldm_DependenceVariance  wavelet2-LHL_glrlm_RunVariance  \\\n",
       "Label                                                                         \n",
       "0.0                                    2020                            2020   \n",
       "1.0                                    1542                            1542   \n",
       "\n",
       "       wavelet-LHL_glrlm_LongRunEmphasis  ...  \\\n",
       "Label                                     ...   \n",
       "0.0                                 2020  ...   \n",
       "1.0                                 1542  ...   \n",
       "\n",
       "       wavelet-HHH_glrlm_LongRunHighGrayLevelEmphasis  \\\n",
       "Label                                                   \n",
       "0.0                                              2020   \n",
       "1.0                                              1542   \n",
       "\n",
       "       wavelet-LLL_glszm_LargeAreaLowGrayLevelEmphasis  \\\n",
       "Label                                                    \n",
       "0.0                                               2020   \n",
       "1.0                                               1542   \n",
       "\n",
       "       wavelet2-HHH_firstorder_RootMeanSquared  \\\n",
       "Label                                            \n",
       "0.0                                       2020   \n",
       "1.0                                       1542   \n",
       "\n",
       "       wavelet2-LLH_firstorder_Kurtosis  wavelet-HHL_glcm_Imc2  \\\n",
       "Label                                                            \n",
       "0.0                                2020                   2020   \n",
       "1.0                                1542                   1542   \n",
       "\n",
       "       wavelet2-LHH_firstorder_RobustMeanAbsoluteDeviation  \\\n",
       "Label                                                        \n",
       "0.0                                                 2020     \n",
       "1.0                                                 1542     \n",
       "\n",
       "       original_shape_SphericalDisproportion  wavelet2-HHL_glcm_Idmn  \\\n",
       "Label                                                                  \n",
       "0.0                                     2020                    2020   \n",
       "1.0                                     1542                    1542   \n",
       "\n",
       "       wavelet2-LHH_firstorder_RootMeanSquared  \\\n",
       "Label                                            \n",
       "0.0                                       2020   \n",
       "1.0                                       1542   \n",
       "\n",
       "       wavelet2-HLL_firstorder_Maximum  \n",
       "Label                                   \n",
       "0.0                               2020  \n",
       "1.0                               1542  \n",
       "\n",
       "[2 rows x 148 columns]"
      ]
     },
     "execution_count": 10,
     "metadata": {},
     "output_type": "execute_result"
    }
   ],
   "source": [
    "original_filtered.groupby('Label').count()"
   ]
  },
  {
   "cell_type": "code",
   "execution_count": 11,
   "metadata": {},
   "outputs": [],
   "source": [
    "labels = original_filtered['Label']"
   ]
  },
  {
   "cell_type": "code",
   "execution_count": 12,
   "metadata": {},
   "outputs": [
    {
     "data": {
      "text/plain": [
       "0       0.0\n",
       "1       0.0\n",
       "2       0.0\n",
       "3       0.0\n",
       "4       0.0\n",
       "       ... \n",
       "3557    1.0\n",
       "3558    1.0\n",
       "3559    1.0\n",
       "3560    1.0\n",
       "3561    1.0\n",
       "Name: Label, Length: 3562, dtype: float64"
      ]
     },
     "execution_count": 12,
     "metadata": {},
     "output_type": "execute_result"
    }
   ],
   "source": [
    "labels"
   ]
  },
  {
   "cell_type": "code",
   "execution_count": 13,
   "metadata": {},
   "outputs": [
    {
     "data": {
      "text/plain": [
       "3562"
      ]
     },
     "execution_count": 13,
     "metadata": {},
     "output_type": "execute_result"
    }
   ],
   "source": [
    "labels.count()"
   ]
  },
  {
   "cell_type": "code",
   "execution_count": 14,
   "metadata": {},
   "outputs": [],
   "source": [
    "unlabeled = original_filtered.drop(columns=['Label'])"
   ]
  },
  {
   "cell_type": "code",
   "execution_count": 15,
   "metadata": {},
   "outputs": [],
   "source": [
    "from sklearn.feature_selection import SelectKBest, f_classif\n",
    "dataset = SelectKBest(f_classif, k=\"all\").fit_transform(unlabeled, labels)"
   ]
  },
  {
   "cell_type": "code",
   "execution_count": 16,
   "metadata": {},
   "outputs": [
    {
     "data": {
      "text/plain": [
       "3562"
      ]
     },
     "execution_count": 16,
     "metadata": {},
     "output_type": "execute_result"
    }
   ],
   "source": [
    "len(dataset)"
   ]
  },
  {
   "cell_type": "markdown",
   "metadata": {},
   "source": [
    "We can see that the data from the 96 patients is balanced (46 Negative cases to 50 Negative cases)"
   ]
  },
  {
   "cell_type": "code",
   "execution_count": 17,
   "metadata": {},
   "outputs": [],
   "source": [
    "from sklearn.model_selection import train_test_split\n",
    "from sklearn.pipeline import Pipeline\n",
    "from sklearn.preprocessing import StandardScaler\n",
    "from sklearn.metrics import confusion_matrix\n",
    "from sklearn.metrics import balanced_accuracy_score\n",
    "from sklearn.metrics import roc_auc_score\n",
    "from sklearn import metrics\n",
    "from sklearn.metrics import confusion_matrix, ConfusionMatrixDisplay, classification_report\n",
    "from matplotlib import pyplot as plt\n",
    "from sklearn.model_selection import cross_validate\n",
    "from sklearn.model_selection import KFold\n",
    "from sklearn.linear_model import LogisticRegression\n",
    "from sklearn.ensemble import BaggingClassifier\n",
    "from sklearn import svm\n",
    "from sklearn.ensemble import AdaBoostClassifier\n",
    "from sklearn.naive_bayes import GaussianNB\n",
    "from sklearn.neighbors import KNeighborsClassifier\n",
    "from sklearn.ensemble import RandomForestClassifier"
   ]
  },
  {
   "cell_type": "code",
   "execution_count": 18,
   "metadata": {},
   "outputs": [],
   "source": [
    "X_train, X_testOr, y_train, y_testOr = train_test_split(dataset, labels, test_size=0.33, random_state=42)\n",
    "X_val, X_test, y_val, y_test = train_test_split(X_testOr, y_testOr, test_size=0.5)"
   ]
  },
  {
   "cell_type": "code",
   "execution_count": 19,
   "metadata": {},
   "outputs": [
    {
     "name": "stdout",
     "output_type": "stream",
     "text": [
      "2386 for training\n",
      "588 for validating\n",
      "588 for testing\n"
     ]
    }
   ],
   "source": [
    "print(f\"{len(X_train)} for training\")\n",
    "print(f\"{len(X_val)} for validating\")\n",
    "print(f\"{len(X_test)} for testing\")"
   ]
  },
  {
   "cell_type": "markdown",
   "metadata": {},
   "source": [
    "# SVM / SVC"
   ]
  },
  {
   "cell_type": "code",
   "execution_count": 20,
   "metadata": {},
   "outputs": [],
   "source": [
    "clf = svm.SVC(kernel='linear', gamma='auto', probability=True)\n",
    "pipe = Pipeline([('scaler', StandardScaler()), ('svc', clf)])"
   ]
  },
  {
   "cell_type": "code",
   "execution_count": 21,
   "metadata": {},
   "outputs": [
    {
     "data": {
      "text/plain": [
       "Pipeline(steps=[('scaler', StandardScaler()),\n",
       "                ('svc', SVC(gamma='auto', kernel='linear', probability=True))])"
      ]
     },
     "execution_count": 21,
     "metadata": {},
     "output_type": "execute_result"
    }
   ],
   "source": [
    "pipe.fit(X_train, y_train)"
   ]
  },
  {
   "cell_type": "code",
   "execution_count": 22,
   "metadata": {},
   "outputs": [],
   "source": [
    "y_pred_svm = pipe.predict(X_test)\n",
    "y_pred_svm_proba = pipe.predict_proba(X_test)[:,1]"
   ]
  },
  {
   "cell_type": "code",
   "execution_count": 23,
   "metadata": {},
   "outputs": [
    {
     "name": "stdout",
     "output_type": "stream",
     "text": [
      "Accuracy: 0.7857142857142857\n",
      "Precision: 0.7878787878787878\n",
      "Recall: 0.5882352941176471\n"
     ]
    }
   ],
   "source": [
    "confusion_matrix(y_test, y_pred_svm)\n",
    "print(\"Accuracy:\",metrics.accuracy_score(y_test, y_pred_svm))\n",
    "print(\"Precision:\",metrics.precision_score(y_test, y_pred_svm))\n",
    "print(\"Recall:\",metrics.recall_score(y_test, y_pred_svm))"
   ]
  },
  {
   "cell_type": "code",
   "execution_count": 24,
   "metadata": {},
   "outputs": [
    {
     "data": {
      "image/png": "[encoded data removed]",
      "text/plain": [
       "<Figure size 432x288 with 1 Axes>"
      ]
     },
     "metadata": {
      "needs_background": "light"
     },
     "output_type": "display_data"
    }
   ],
   "source": [
    "auc = metrics.roc_auc_score(y_test, y_pred_svm_proba)\n",
    "auc = \"{:.3f}\".format(auc)\n",
    "fprSVC, tprSVC, _ = metrics.roc_curve(y_test, y_pred_svm_proba)\n",
    "plt.plot(fprSVC, tprSVC, label=\"AUC=\"+ auc)\n",
    "plt.plot([0,1],[0,1], 'k--')\n",
    "plt.ylabel('True Positive Rate')\n",
    "plt.xlabel('False Positive Rate')\n",
    "plt.legend(loc=4)\n",
    "plt.rcParams[\"figure.figsize\"] = (7,5)\n",
    "plt.show()"
   ]
  },
  {
   "cell_type": "code",
   "execution_count": 25,
   "metadata": {},
   "outputs": [
    {
     "name": "stdout",
     "output_type": "stream",
     "text": [
      "              precision    recall  f1-score   support\n",
      "\n",
      "           0       0.78      0.90      0.84       367\n",
      "           1       0.79      0.59      0.67       221\n",
      "\n",
      "    accuracy                           0.79       588\n",
      "   macro avg       0.79      0.75      0.76       588\n",
      "weighted avg       0.79      0.79      0.78       588\n",
      "\n"
     ]
    }
   ],
   "source": [
    "print(classification_report(y_test, y_pred_svm, labels=[0,1]))"
   ]
  },
  {
   "cell_type": "code",
   "execution_count": 26,
   "metadata": {},
   "outputs": [
    {
     "data": {
      "text/plain": [
       "<sklearn.metrics._plot.confusion_matrix.ConfusionMatrixDisplay at 0x294045a61f0>"
      ]
     },
     "execution_count": 26,
     "metadata": {},
     "output_type": "execute_result"
    },
    {
     "data": {
      "image/png": "[encoded data removed]",
      "text/plain": [
       "<Figure size 504x360 with 2 Axes>"
      ]
     },
     "metadata": {
      "needs_background": "light"
     },
     "output_type": "display_data"
    }
   ],
   "source": [
    "cm = confusion_matrix(y_test, y_pred_svm,  labels=[0,1])\n",
    "mat = ConfusionMatrixDisplay(confusion_matrix=cm)\n",
    "mat.plot()"
   ]
  },
  {
   "cell_type": "code",
   "execution_count": 27,
   "metadata": {},
   "outputs": [
    {
     "name": "stdout",
     "output_type": "stream",
     "text": [
      "Mean training loss: 0.207 std: 0.005\n",
      "Mean validation loss: 0.243 std: 0.016\n"
     ]
    }
   ],
   "source": [
    "kf = KFold(n_splits=5)\n",
    "\n",
    "# We fuse the training and validation set together\n",
    "X_trainval = np.concatenate((X_train, X_val))\n",
    "y_trainval = np.concatenate((y_train, y_val))\n",
    "\n",
    "# Lists to save the losses\n",
    "train_mses = []\n",
    "val_mses = []\n",
    "\n",
    "# loop through the different folds\n",
    "for train_indexes, val_indexes in kf.split(X_trainval):\n",
    "    # create an new linreg model, untrained\n",
    "    clf = svm.SVC(kernel='linear', gamma='auto', probability=True)\n",
    "    pipe = Pipeline([('scaler', StandardScaler()), ('svc', clf)])\n",
    "    # train the model on a subset of the training data\n",
    "    pipe.fit(X_trainval[train_indexes], y_trainval[train_indexes])\n",
    "    \n",
    "    # make prediction for training and validation dataset\n",
    "    y_hat_train_temp = pipe.predict(X_trainval[train_indexes])\n",
    "    y_hat_val_temp = pipe.predict(X_trainval[val_indexes])\n",
    "    \n",
    "    # compute the losses\n",
    "    mse_train_temp = np.mean((y_hat_train_temp - y_trainval[train_indexes]) ** 2)\n",
    "    mse_val_temp = np.mean((y_hat_val_temp - y_trainval[val_indexes]) ** 2)\n",
    "    \n",
    "    # append the loss values to the lists\n",
    "    train_mses.append(mse_train_temp)\n",
    "    val_mses.append(mse_val_temp)\n",
    "    \n",
    "print(f\"Mean training loss: {round(np.mean(train_mses), 3)} std: {round(np.std(train_mses), 3)}\")\n",
    "print(f\"Mean validation loss: {round(np.mean(val_mses), 3)} std: {round(np.std(val_mses), 3)}\")"
   ]
  },
  {
   "cell_type": "markdown",
   "metadata": {},
   "source": [
    "# Logistic Regression"
   ]
  },
  {
   "cell_type": "code",
   "execution_count": 28,
   "metadata": {},
   "outputs": [],
   "source": [
    "model = LogisticRegression(max_iter = 1000)\n",
    "pipe = Pipeline([(\"preprocessor\", StandardScaler()),('logReg', model)])\n",
    "pipe.fit(X_train, y_train)\n",
    "y_predlr = pipe.predict(X_test)\n",
    "y_predlr_proba = pipe.predict_proba(X_test)[:,1]"
   ]
  },
  {
   "cell_type": "code",
   "execution_count": 29,
   "metadata": {},
   "outputs": [
    {
     "name": "stdout",
     "output_type": "stream",
     "text": [
      "Accuracy: 0.7755102040816326\n",
      "Precision: 0.772327067303911\n",
      "Recall: 0.7755102040816326\n"
     ]
    }
   ],
   "source": [
    "print(\"Accuracy:\",metrics.accuracy_score(y_test, y_predlr))\n",
    "print(\"Precision:\",metrics.precision_score(y_test, y_predlr, average='weighted'))\n",
    "print(\"Recall:\",metrics.recall_score(y_test, y_predlr, average='weighted'))"
   ]
  },
  {
   "cell_type": "code",
   "execution_count": 30,
   "metadata": {},
   "outputs": [
    {
     "data": {
      "image/png": "[encoded data removed]",
      "text/plain": [
       "<Figure size 504x360 with 1 Axes>"
      ]
     },
     "metadata": {
      "needs_background": "light"
     },
     "output_type": "display_data"
    }
   ],
   "source": [
    "auc = metrics.roc_auc_score(y_test, y_predlr_proba)\n",
    "auc = \"{:.3f}\".format(auc)\n",
    "fprLR, tprLR, _ = metrics.roc_curve(y_test, y_predlr_proba)\n",
    "plt.plot(fprLR, tprLR, label=\"AUC=\"+ auc)\n",
    "plt.plot([0,1],[0,1], 'k--')\n",
    "plt.ylabel('True Positive Rate')\n",
    "plt.xlabel('False Positive Rate')\n",
    "plt.legend(loc=4)\n",
    "plt.rcParams[\"figure.figsize\"] = (7,5)\n",
    "plt.show()"
   ]
  },
  {
   "cell_type": "code",
   "execution_count": 31,
   "metadata": {},
   "outputs": [
    {
     "name": "stdout",
     "output_type": "stream",
     "text": [
      "              precision    recall  f1-score   support\n",
      "\n",
      "           0       0.79      0.87      0.83       367\n",
      "           1       0.74      0.62      0.68       221\n",
      "\n",
      "    accuracy                           0.78       588\n",
      "   macro avg       0.77      0.75      0.75       588\n",
      "weighted avg       0.77      0.78      0.77       588\n",
      "\n"
     ]
    }
   ],
   "source": [
    "print(classification_report(y_test, y_predlr, labels=[0,1]))"
   ]
  },
  {
   "cell_type": "code",
   "execution_count": 32,
   "metadata": {},
   "outputs": [
    {
     "data": {
      "text/plain": [
       "<sklearn.metrics._plot.confusion_matrix.ConfusionMatrixDisplay at 0x294073cfa30>"
      ]
     },
     "execution_count": 32,
     "metadata": {},
     "output_type": "execute_result"
    },
    {
     "data": {
      "image/png": "[encoded data removed]",
      "text/plain": [
       "<Figure size 504x360 with 2 Axes>"
      ]
     },
     "metadata": {
      "needs_background": "light"
     },
     "output_type": "display_data"
    }
   ],
   "source": [
    "cm = confusion_matrix(y_test, y_predlr)\n",
    "mat = ConfusionMatrixDisplay(confusion_matrix=cm)\n",
    "mat.plot()"
   ]
  },
  {
   "cell_type": "code",
   "execution_count": 33,
   "metadata": {},
   "outputs": [
    {
     "name": "stdout",
     "output_type": "stream",
     "text": [
      "Mean training loss: 0.217 std: 0.003\n",
      "Mean validation loss: 0.257 std: 0.016\n"
     ]
    }
   ],
   "source": [
    "kf = KFold(n_splits=5)\n",
    "\n",
    "# We fuse the training and validation set together\n",
    "X_trainval = np.concatenate((X_train, X_val))\n",
    "y_trainval = np.concatenate((y_train, y_val))\n",
    "\n",
    "# Lists to save the losses\n",
    "train_mses = []\n",
    "val_mses = []\n",
    "\n",
    "# loop through the different folds\n",
    "for train_indexes, val_indexes in kf.split(X_trainval):\n",
    "    # create an new linreg model, untrained\n",
    "    model = LogisticRegression(max_iter = 1000)\n",
    "    pipe = Pipeline([(\"preprocessor\", StandardScaler()),('logReg', model)])\n",
    "    # train the model on a subset of the training data\n",
    "    pipe.fit(X_trainval[train_indexes], y_trainval[train_indexes])\n",
    "    \n",
    "    # make prediction for training and validation dataset\n",
    "    y_hat_train_temp = pipe.predict(X_trainval[train_indexes])\n",
    "    y_hat_val_temp = pipe.predict(X_trainval[val_indexes])\n",
    "    \n",
    "    # compute the losses\n",
    "    mse_train_temp = np.mean((y_hat_train_temp - y_trainval[train_indexes]) ** 2)\n",
    "    mse_val_temp = np.mean((y_hat_val_temp - y_trainval[val_indexes]) ** 2)\n",
    "    \n",
    "    # append the loss values to the lists\n",
    "    train_mses.append(mse_train_temp)\n",
    "    val_mses.append(mse_val_temp)\n",
    "    \n",
    "print(f\"Mean training loss: {round(np.mean(train_mses), 3)} std: {round(np.std(train_mses), 3)}\")\n",
    "print(f\"Mean validation loss: {round(np.mean(val_mses), 3)} std: {round(np.std(val_mses), 3)}\")"
   ]
  },
  {
   "cell_type": "markdown",
   "metadata": {},
   "source": [
    "# Bagging"
   ]
  },
  {
   "cell_type": "code",
   "execution_count": 34,
   "metadata": {},
   "outputs": [],
   "source": [
    "bagging = BaggingClassifier(n_estimators=35, random_state=42)\n",
    "pipe = Pipeline([(\"std\", StandardScaler()), ('baggC', bagging)])\n",
    "pipe.fit(X_train, y_train)\n",
    "y_pred_bc = pipe.predict(X_test)\n",
    "y_pred_bc_proba = pipe.predict_proba(X_test)[:,1]"
   ]
  },
  {
   "cell_type": "code",
   "execution_count": 35,
   "metadata": {},
   "outputs": [
    {
     "data": {
      "image/png": "[encoded data removed]",
      "text/plain": [
       "<Figure size 504x360 with 1 Axes>"
      ]
     },
     "metadata": {
      "needs_background": "light"
     },
     "output_type": "display_data"
    }
   ],
   "source": [
    "auc = metrics.roc_auc_score(y_test, y_pred_bc_proba)\n",
    "auc = \"{:.3f}\".format(auc)\n",
    "fprBAGGING, tprBAGGING, _ = metrics.roc_curve(y_test, y_pred_bc_proba)\n",
    "plt.plot(fprBAGGING, tprBAGGING, label=\"AUC=\"+ auc)\n",
    "plt.plot([0,1],[0,1], 'k--')\n",
    "plt.ylabel('True Positive Rate')\n",
    "plt.xlabel('False Positive Rate')\n",
    "plt.legend(loc=4)\n",
    "plt.show()"
   ]
  },
  {
   "cell_type": "code",
   "execution_count": 36,
   "metadata": {},
   "outputs": [
    {
     "name": "stdout",
     "output_type": "stream",
     "text": [
      "              precision    recall  f1-score   support\n",
      "\n",
      "           0       0.79      0.88      0.84       367\n",
      "           1       0.76      0.62      0.68       221\n",
      "\n",
      "    accuracy                           0.78       588\n",
      "   macro avg       0.78      0.75      0.76       588\n",
      "weighted avg       0.78      0.78      0.78       588\n",
      "\n"
     ]
    }
   ],
   "source": [
    "print(classification_report(y_test, y_pred_bc, labels=[0,1]))"
   ]
  },
  {
   "cell_type": "code",
   "execution_count": 37,
   "metadata": {},
   "outputs": [
    {
     "data": {
      "text/plain": [
       "<sklearn.metrics._plot.confusion_matrix.ConfusionMatrixDisplay at 0x294073fd970>"
      ]
     },
     "execution_count": 37,
     "metadata": {},
     "output_type": "execute_result"
    },
    {
     "data": {
      "image/png": "[encoded data removed]",
      "text/plain": [
       "<Figure size 504x360 with 2 Axes>"
      ]
     },
     "metadata": {
      "needs_background": "light"
     },
     "output_type": "display_data"
    }
   ],
   "source": [
    "cm = confusion_matrix(y_test, y_pred_bc)\n",
    "mat = ConfusionMatrixDisplay(confusion_matrix=cm)\n",
    "mat.plot()"
   ]
  },
  {
   "cell_type": "code",
   "execution_count": 38,
   "metadata": {},
   "outputs": [
    {
     "name": "stdout",
     "output_type": "stream",
     "text": [
      "Mean training loss: 0.001 std: 0.001\n",
      "Mean validation loss: 0.234 std: 0.016\n"
     ]
    }
   ],
   "source": [
    "kf = KFold(n_splits=5)\n",
    "\n",
    "# We fuse the training and validation set together\n",
    "X_trainval = np.concatenate((X_train, X_val))\n",
    "y_trainval = np.concatenate((y_train, y_val))\n",
    "\n",
    "# Lists to save the losses\n",
    "train_mses = []\n",
    "val_mses = []\n",
    "\n",
    "# loop through the different folds\n",
    "for train_indexes, val_indexes in kf.split(X_trainval):\n",
    "    # create an new linreg model, untrained\n",
    "    bagging = BaggingClassifier(n_estimators=35, random_state=42)\n",
    "    pipe = Pipeline([(\"std\", StandardScaler()), ('baggC', bagging)])\n",
    "    # train the model on a subset of the training data\n",
    "    pipe.fit(X_trainval[train_indexes], y_trainval[train_indexes])\n",
    "    \n",
    "    # make prediction for training and validation dataset\n",
    "    y_hat_train_temp = pipe.predict(X_trainval[train_indexes])\n",
    "    y_hat_val_temp = pipe.predict(X_trainval[val_indexes])\n",
    "    \n",
    "    # compute the losses\n",
    "    mse_train_temp = np.mean((y_hat_train_temp - y_trainval[train_indexes]) ** 2)\n",
    "    mse_val_temp = np.mean((y_hat_val_temp - y_trainval[val_indexes]) ** 2)\n",
    "    \n",
    "    # append the loss values to the lists\n",
    "    train_mses.append(mse_train_temp)\n",
    "    val_mses.append(mse_val_temp)\n",
    "    \n",
    "print(f\"Mean training loss: {round(np.mean(train_mses), 3)} std: {round(np.std(train_mses), 3)}\")\n",
    "print(f\"Mean validation loss: {round(np.mean(val_mses), 3)} std: {round(np.std(val_mses), 3)}\")"
   ]
  },
  {
   "cell_type": "markdown",
   "metadata": {},
   "source": [
    "# Adaboost"
   ]
  },
  {
   "cell_type": "code",
   "execution_count": 39,
   "metadata": {},
   "outputs": [],
   "source": [
    "ada = AdaBoostClassifier(n_estimators=50, random_state=42)\n",
    "pipe = Pipeline([('std', StandardScaler()), ('ada', ada)])\n",
    "pipe.fit(X_train, y_train)\n",
    "y_predada = pipe.predict(X_test) \n",
    "y_predada_proba = pipe.predict_proba(X_test)[:,1]"
   ]
  },
  {
   "cell_type": "code",
   "execution_count": 40,
   "metadata": {},
   "outputs": [
    {
     "data": {
      "image/png": "[encoded data removed]",
      "text/plain": [
       "<Figure size 504x360 with 1 Axes>"
      ]
     },
     "metadata": {
      "needs_background": "light"
     },
     "output_type": "display_data"
    }
   ],
   "source": [
    "auc = metrics.roc_auc_score(y_test, y_predada_proba)\n",
    "auc = \"{:.3f}\".format(auc)\n",
    "fprADA, tprADA, _ = metrics.roc_curve(y_test, y_predada_proba)\n",
    "plt.plot(fprADA, tprADA, label=\"AUC=\"+ auc)\n",
    "plt.plot([0,1],[0,1], 'k--')\n",
    "plt.ylabel('True Positive Rate')\n",
    "plt.xlabel('False Positive Rate')\n",
    "plt.legend(loc=4)\n",
    "plt.show()"
   ]
  },
  {
   "cell_type": "code",
   "execution_count": 41,
   "metadata": {},
   "outputs": [
    {
     "name": "stdout",
     "output_type": "stream",
     "text": [
      "              precision    recall  f1-score   support\n",
      "\n",
      "         0.0       0.78      0.82      0.80       367\n",
      "         1.0       0.67      0.61      0.64       221\n",
      "\n",
      "    accuracy                           0.74       588\n",
      "   macro avg       0.72      0.72      0.72       588\n",
      "weighted avg       0.74      0.74      0.74       588\n",
      "\n"
     ]
    }
   ],
   "source": [
    "print(classification_report(y_test, y_predada))"
   ]
  },
  {
   "cell_type": "code",
   "execution_count": 42,
   "metadata": {},
   "outputs": [
    {
     "data": {
      "text/plain": [
       "<sklearn.metrics._plot.confusion_matrix.ConfusionMatrixDisplay at 0x294074b8760>"
      ]
     },
     "execution_count": 42,
     "metadata": {},
     "output_type": "execute_result"
    },
    {
     "data": {
      "image/png": "[encoded data removed]",
      "text/plain": [
       "<Figure size 504x360 with 2 Axes>"
      ]
     },
     "metadata": {
      "needs_background": "light"
     },
     "output_type": "display_data"
    }
   ],
   "source": [
    "cm = confusion_matrix(y_test, y_predada)\n",
    "mat = ConfusionMatrixDisplay(confusion_matrix=cm)\n",
    "mat.plot()"
   ]
  },
  {
   "cell_type": "code",
   "execution_count": 43,
   "metadata": {},
   "outputs": [
    {
     "name": "stdout",
     "output_type": "stream",
     "text": [
      "Mean training loss: 0.194 std: 0.004\n",
      "Mean validation loss: 0.254 std: 0.024\n"
     ]
    }
   ],
   "source": [
    "kf = KFold(n_splits=5)\n",
    "\n",
    "# We fuse the training and validation set together\n",
    "X_trainval = np.concatenate((X_train, X_val))\n",
    "y_trainval = np.concatenate((y_train, y_val))\n",
    "\n",
    "# Lists to save the losses\n",
    "train_mses = []\n",
    "val_mses = []\n",
    "\n",
    "# loop through the different folds\n",
    "for train_indexes, val_indexes in kf.split(X_trainval):\n",
    "    # create an new linreg model, untrained\n",
    "    ada = AdaBoostClassifier(n_estimators=50, random_state=42)\n",
    "    pipe = Pipeline([('linear_pca', StandardScaler()), ('ada', ada)])\n",
    "    # train the model on a subset of the training data\n",
    "    pipe.fit(X_trainval[train_indexes], y_trainval[train_indexes])\n",
    "    \n",
    "    # make prediction for training and validation dataset\n",
    "    y_hat_train_temp = pipe.predict(X_trainval[train_indexes])\n",
    "    y_hat_val_temp = pipe.predict(X_trainval[val_indexes])\n",
    "    \n",
    "    # compute the losses\n",
    "    mse_train_temp = np.mean((y_hat_train_temp - y_trainval[train_indexes]) ** 2)\n",
    "    mse_val_temp = np.mean((y_hat_val_temp - y_trainval[val_indexes]) ** 2)\n",
    "    \n",
    "    # append the loss values to the lists\n",
    "    train_mses.append(mse_train_temp)\n",
    "    val_mses.append(mse_val_temp)\n",
    "    \n",
    "print(f\"Mean training loss: {round(np.mean(train_mses), 3)} std: {round(np.std(train_mses), 3)}\")\n",
    "print(f\"Mean validation loss: {round(np.mean(val_mses), 3)} std: {round(np.std(val_mses), 3)}\")"
   ]
  },
  {
   "cell_type": "markdown",
   "metadata": {},
   "source": [
    "# Naives Bayes"
   ]
  },
  {
   "cell_type": "code",
   "execution_count": 50,
   "metadata": {},
   "outputs": [],
   "source": [
    "gnb = GaussianNB()\n",
    "pipe = Pipeline([(\"scaler\", StandardScaler()),('gnb', gnb)])\n",
    "pipe.fit(X_train, y_train)\n",
    "y_prednb = pipe.predict(X_test)\n",
    "y_prednb_proba = pipe.predict_proba(X_test)[:,1]"
   ]
  },
  {
   "cell_type": "code",
   "execution_count": 51,
   "metadata": {},
   "outputs": [
    {
     "data": {
      "image/png": "[encoded data removed]",
      "text/plain": [
       "<Figure size 504x360 with 1 Axes>"
      ]
     },
     "metadata": {
      "needs_background": "light"
     },
     "output_type": "display_data"
    }
   ],
   "source": [
    "auc = metrics.roc_auc_score(y_test, y_prednb_proba)\n",
    "auc = \"{:.3f}\".format(auc)\n",
    "fprNB, tprNB, _ = metrics.roc_curve(y_test, y_prednb_proba)\n",
    "plt.plot(fprNB, tprNB, label=\"AUC=\"+ auc)\n",
    "plt.plot([0,1],[0,1], 'k--')\n",
    "plt.ylabel('True Positive Rate')\n",
    "plt.xlabel('False Positive Rate')\n",
    "plt.legend(loc=4)\n",
    "plt.show()"
   ]
  },
  {
   "cell_type": "code",
   "execution_count": 52,
   "metadata": {},
   "outputs": [
    {
     "name": "stdout",
     "output_type": "stream",
     "text": [
      "              precision    recall  f1-score   support\n",
      "\n",
      "           0       0.74      0.62      0.67       367\n",
      "           1       0.50      0.64      0.56       221\n",
      "\n",
      "    accuracy                           0.63       588\n",
      "   macro avg       0.62      0.63      0.62       588\n",
      "weighted avg       0.65      0.63      0.63       588\n",
      "\n"
     ]
    }
   ],
   "source": [
    "print(classification_report(y_test, y_prednb, labels=[0,1]))"
   ]
  },
  {
   "cell_type": "code",
   "execution_count": 53,
   "metadata": {},
   "outputs": [
    {
     "data": {
      "text/plain": [
       "<sklearn.metrics._plot.confusion_matrix.ConfusionMatrixDisplay at 0x29407535460>"
      ]
     },
     "execution_count": 53,
     "metadata": {},
     "output_type": "execute_result"
    },
    {
     "data": {
      "image/png": "[encoded data removed]",
      "text/plain": [
       "<Figure size 504x360 with 2 Axes>"
      ]
     },
     "metadata": {
      "needs_background": "light"
     },
     "output_type": "display_data"
    }
   ],
   "source": [
    "cm = confusion_matrix(y_test, y_prednb)\n",
    "mat = ConfusionMatrixDisplay(confusion_matrix=cm)\n",
    "mat.plot()"
   ]
  },
  {
   "cell_type": "code",
   "execution_count": 54,
   "metadata": {},
   "outputs": [
    {
     "name": "stdout",
     "output_type": "stream",
     "text": [
      "Mean training loss: 0.373 std: 0.005\n",
      "Mean validation loss: 0.377 std: 0.015\n"
     ]
    }
   ],
   "source": [
    "kf = KFold(n_splits=5)\n",
    "\n",
    "# We fuse the training and validation set together\n",
    "X_trainval = np.concatenate((X_train, X_val))\n",
    "y_trainval = np.concatenate((y_train, y_val))\n",
    "\n",
    "# Lists to save the losses\n",
    "train_mses = []\n",
    "val_mses = []\n",
    "\n",
    "# loop through the different folds\n",
    "for train_indexes, val_indexes in kf.split(X_trainval):\n",
    "    # create an new linreg model, untrained\n",
    "    gnb = GaussianNB()\n",
    "    pipe = Pipeline([(\"scaler\", StandardScaler()),('gnb', gnb)])\n",
    "    # train the model on a subset of the training data\n",
    "    pipe.fit(X_trainval[train_indexes], y_trainval[train_indexes])\n",
    "    \n",
    "    # make prediction for training and validation dataset\n",
    "    y_hat_train_temp = pipe.predict(X_trainval[train_indexes])\n",
    "    y_hat_val_temp = pipe.predict(X_trainval[val_indexes])\n",
    "    \n",
    "    # compute the losses\n",
    "    mse_train_temp = np.mean((y_hat_train_temp - y_trainval[train_indexes]) ** 2)\n",
    "    mse_val_temp = np.mean((y_hat_val_temp - y_trainval[val_indexes]) ** 2)\n",
    "    \n",
    "    # append the loss values to the lists\n",
    "    train_mses.append(mse_train_temp)\n",
    "    val_mses.append(mse_val_temp)\n",
    "    \n",
    "print(f\"Mean training loss: {round(np.mean(train_mses), 3)} std: {round(np.std(train_mses), 3)}\")\n",
    "print(f\"Mean validation loss: {round(np.mean(val_mses), 3)} std: {round(np.std(val_mses), 3)}\")"
   ]
  },
  {
   "cell_type": "markdown",
   "metadata": {},
   "source": [
    "# KNN"
   ]
  },
  {
   "cell_type": "code",
   "execution_count": 55,
   "metadata": {},
   "outputs": [],
   "source": [
    "knn = KNeighborsClassifier(n_neighbors=25)"
   ]
  },
  {
   "cell_type": "code",
   "execution_count": 56,
   "metadata": {},
   "outputs": [],
   "source": [
    "pipe = Pipeline([(\"scaler\", StandardScaler()),('knn', knn)])\n",
    "pipe.fit(X_train, y_train)\n",
    "y_predknn = pipe.predict(X_test)\n",
    "y_predknn_proba = pipe.predict_proba(X_test)[:,1]"
   ]
  },
  {
   "cell_type": "code",
   "execution_count": 57,
   "metadata": {},
   "outputs": [
    {
     "data": {
      "image/png": "[encoded data removed]",
      "text/plain": [
       "<Figure size 504x360 with 1 Axes>"
      ]
     },
     "metadata": {
      "needs_background": "light"
     },
     "output_type": "display_data"
    }
   ],
   "source": [
    "auc = metrics.roc_auc_score(y_test, y_predknn_proba)\n",
    "auc = \"{:.3f}\".format(auc)\n",
    "fprKNN, tprKNN, _ = metrics.roc_curve(y_test, y_predknn_proba)\n",
    "plt.plot(fprKNN, tprKNN, label=\"AUC=\"+ auc)\n",
    "plt.plot([0,1],[0,1], 'k--')\n",
    "plt.ylabel('True Positive Rate')\n",
    "plt.xlabel('False Positive Rate')\n",
    "plt.legend(loc=4)\n",
    "plt.show()"
   ]
  },
  {
   "cell_type": "code",
   "execution_count": 58,
   "metadata": {},
   "outputs": [
    {
     "name": "stdout",
     "output_type": "stream",
     "text": [
      "              precision    recall  f1-score   support\n",
      "\n",
      "           0       0.75      0.91      0.82       367\n",
      "           1       0.77      0.48      0.59       221\n",
      "\n",
      "    accuracy                           0.75       588\n",
      "   macro avg       0.76      0.70      0.71       588\n",
      "weighted avg       0.76      0.75      0.74       588\n",
      "\n"
     ]
    }
   ],
   "source": [
    "print(classification_report(y_test, y_predknn, labels=[0,1]))"
   ]
  },
  {
   "cell_type": "code",
   "execution_count": 59,
   "metadata": {},
   "outputs": [
    {
     "data": {
      "text/plain": [
       "<sklearn.metrics._plot.confusion_matrix.ConfusionMatrixDisplay at 0x29407728cd0>"
      ]
     },
     "execution_count": 59,
     "metadata": {},
     "output_type": "execute_result"
    },
    {
     "data": {
      "image/png": "[encoded data removed]",
      "text/plain": [
       "<Figure size 504x360 with 2 Axes>"
      ]
     },
     "metadata": {
      "needs_background": "light"
     },
     "output_type": "display_data"
    }
   ],
   "source": [
    "cm = confusion_matrix(y_test, y_predknn)\n",
    "mat = ConfusionMatrixDisplay(confusion_matrix=cm)\n",
    "mat.plot()"
   ]
  },
  {
   "cell_type": "code",
   "execution_count": 60,
   "metadata": {},
   "outputs": [
    {
     "name": "stdout",
     "output_type": "stream",
     "text": [
      "Mean training loss: 0.264 std: 0.005\n",
      "Mean validation loss: 0.284 std: 0.019\n"
     ]
    }
   ],
   "source": [
    "kf = KFold(n_splits=5)\n",
    "\n",
    "# We fuse the training and validation set together\n",
    "X_trainval = np.concatenate((X_train, X_val))\n",
    "y_trainval = np.concatenate((y_train, y_val))\n",
    "\n",
    "# Lists to save the losses\n",
    "train_mses = []\n",
    "val_mses = []\n",
    "\n",
    "# loop through the different folds\n",
    "for train_indexes, val_indexes in kf.split(X_trainval):\n",
    "    # create an new linreg model, untrained\n",
    "    knn = KNeighborsClassifier(n_neighbors=25)\n",
    "    pipe = Pipeline([(\"scaler\", StandardScaler()),('knn', knn)])\n",
    "    # train the model on a subset of the training data\n",
    "    pipe.fit(X_trainval[train_indexes], y_trainval[train_indexes])\n",
    "    \n",
    "    # make prediction for training and validation dataset\n",
    "    y_hat_train_temp = pipe.predict(X_trainval[train_indexes])\n",
    "    y_hat_val_temp = pipe.predict(X_trainval[val_indexes])\n",
    "    \n",
    "    # compute the losses\n",
    "    mse_train_temp = np.mean((y_hat_train_temp - y_trainval[train_indexes]) ** 2)\n",
    "    mse_val_temp = np.mean((y_hat_val_temp - y_trainval[val_indexes]) ** 2)\n",
    "    \n",
    "    # append the loss values to the lists\n",
    "    train_mses.append(mse_train_temp)\n",
    "    val_mses.append(mse_val_temp)\n",
    "    \n",
    "print(f\"Mean training loss: {round(np.mean(train_mses), 3)} std: {round(np.std(train_mses), 3)}\")\n",
    "print(f\"Mean validation loss: {round(np.mean(val_mses), 3)} std: {round(np.std(val_mses), 3)}\")"
   ]
  },
  {
   "cell_type": "markdown",
   "metadata": {},
   "source": [
    "# Random Forest"
   ]
  },
  {
   "cell_type": "code",
   "execution_count": 61,
   "metadata": {},
   "outputs": [],
   "source": [
    "rf = RandomForestClassifier(n_estimators=100, random_state=42)"
   ]
  },
  {
   "cell_type": "code",
   "execution_count": 62,
   "metadata": {},
   "outputs": [],
   "source": [
    "pipe = Pipeline([(\"scaler\", StandardScaler()),('rf', rf)])\n",
    "pipe.fit(X_train, y_train)\n",
    "y_predrf = pipe.predict(X_test)\n",
    "y_predrf_proba = pipe.predict_proba(X_test)[:,1]"
   ]
  },
  {
   "cell_type": "code",
   "execution_count": 63,
   "metadata": {},
   "outputs": [
    {
     "data": {
      "image/png": "[encoded data removed]",
      "text/plain": [
       "<Figure size 504x360 with 1 Axes>"
      ]
     },
     "metadata": {
      "needs_background": "light"
     },
     "output_type": "display_data"
    }
   ],
   "source": [
    "auc = metrics.roc_auc_score(y_test, y_predrf_proba)\n",
    "auc = \"{:.3f}\".format(auc)\n",
    "fprRF, tprRF, _ = metrics.roc_curve(y_test, y_predrf_proba)\n",
    "plt.plot(fprRF, tprRF, label=\"AUC=\"+ auc)\n",
    "plt.plot([0,1],[0,1], 'k--')\n",
    "plt.ylabel('True Positive Rate')\n",
    "plt.xlabel('False Positive Rate')\n",
    "plt.legend(loc=4)\n",
    "plt.show()"
   ]
  },
  {
   "cell_type": "code",
   "execution_count": 64,
   "metadata": {},
   "outputs": [
    {
     "name": "stdout",
     "output_type": "stream",
     "text": [
      "              precision    recall  f1-score   support\n",
      "\n",
      "           0       0.80      0.90      0.85       367\n",
      "           1       0.79      0.62      0.70       221\n",
      "\n",
      "    accuracy                           0.80       588\n",
      "   macro avg       0.80      0.76      0.77       588\n",
      "weighted avg       0.80      0.80      0.79       588\n",
      "\n"
     ]
    }
   ],
   "source": [
    "print(classification_report(y_test, y_predrf, labels=[0,1]))"
   ]
  },
  {
   "cell_type": "code",
   "execution_count": 65,
   "metadata": {},
   "outputs": [
    {
     "data": {
      "text/plain": [
       "<sklearn.metrics._plot.confusion_matrix.ConfusionMatrixDisplay at 0x2940795c940>"
      ]
     },
     "execution_count": 65,
     "metadata": {},
     "output_type": "execute_result"
    },
    {
     "data": {
      "image/png": "[encoded data removed]",
      "text/plain": [
       "<Figure size 504x360 with 2 Axes>"
      ]
     },
     "metadata": {
      "needs_background": "light"
     },
     "output_type": "display_data"
    }
   ],
   "source": [
    "cm = confusion_matrix(y_test, y_predrf)\n",
    "mat = ConfusionMatrixDisplay(confusion_matrix=cm)\n",
    "mat.plot()"
   ]
  },
  {
   "cell_type": "code",
   "execution_count": 66,
   "metadata": {},
   "outputs": [
    {
     "name": "stdout",
     "output_type": "stream",
     "text": [
      "Mean training loss: 0.0 std: 0.0\n",
      "Mean validation loss: 0.225 std: 0.014\n"
     ]
    }
   ],
   "source": [
    "kf = KFold(n_splits=5)\n",
    "\n",
    "# We fuse the training and validation set together\n",
    "X_trainval = np.concatenate((X_train, X_val))\n",
    "y_trainval = np.concatenate((y_train, y_val))\n",
    "\n",
    "# Lists to save the losses\n",
    "train_mses = []\n",
    "val_mses = []\n",
    "\n",
    "# loop through the different folds\n",
    "for train_indexes, val_indexes in kf.split(X_trainval):\n",
    "    # create an new linreg model, untrained\n",
    "    rf = RandomForestClassifier(n_estimators=100, random_state=42)\n",
    "    pipe = Pipeline([(\"scaler\", StandardScaler()),('rf', rf)])\n",
    "    # train the model on a subset of the training data\n",
    "    pipe.fit(X_trainval[train_indexes], y_trainval[train_indexes])\n",
    "    \n",
    "    # make prediction for training and validation dataset\n",
    "    y_hat_train_temp = pipe.predict(X_trainval[train_indexes])\n",
    "    y_hat_val_temp = pipe.predict(X_trainval[val_indexes])\n",
    "    \n",
    "    # compute the losses\n",
    "    mse_train_temp = np.mean((y_hat_train_temp - y_trainval[train_indexes]) ** 2)\n",
    "    mse_val_temp = np.mean((y_hat_val_temp - y_trainval[val_indexes]) ** 2)\n",
    "    \n",
    "    # append the loss values to the lists\n",
    "    train_mses.append(mse_train_temp)\n",
    "    val_mses.append(mse_val_temp)\n",
    "    \n",
    "print(f\"Mean training loss: {round(np.mean(train_mses), 3)} std: {round(np.std(train_mses), 3)}\")\n",
    "print(f\"Mean validation loss: {round(np.mean(val_mses), 3)} std: {round(np.std(val_mses), 3)}\")"
   ]
  },
  {
   "cell_type": "markdown",
   "metadata": {},
   "source": [
    "# Benchmark"
   ]
  },
  {
   "cell_type": "code",
   "execution_count": 67,
   "metadata": {},
   "outputs": [
    {
     "data": {
      "image/png": "[encoded data removed]",
      "text/plain": [
       "<Figure size 504x360 with 1 Axes>"
      ]
     },
     "metadata": {
      "needs_background": "light"
     },
     "output_type": "display_data"
    }
   ],
   "source": [
    "plt.plot([0,1],[0,1], \"k--\")\n",
    "plt.plot(fprLR, tprLR, label= \"Logistic Regression\")\n",
    "plt.plot(fprSVC, tprSVC, label= \"SVM/C\")\n",
    "plt.plot(fprBAGGING, tprBAGGING, label= \"Bagging\")\n",
    "plt.plot(fprADA, tprADA, label= \"Adaboost\")\n",
    "plt.plot(fprNB, tprNB, label= \"Naive Bayes\")\n",
    "plt.plot(fprRF, tprRF, label= \"Random Forest\")\n",
    "plt.plot(fprKNN, tprKNN, label= \"KNN\")\n",
    "\n",
    "plt.legend()\n",
    "plt.xlabel(\"FPR\")\n",
    "plt.ylabel(\"TPR\")\n",
    "plt.title('Roc Benchmark')\n",
    "plt.rcParams[\"figure.figsize\"] = (20,10)\n",
    "plt.show()"
   ]
  }
 ],
 "metadata": {
  "kernelspec": {
   "display_name": "Python 3 (ipykernel)",
   "language": "python",
   "name": "python3"
  },
  "language_info": {
   "codemirror_mode": {
    "name": "ipython",
    "version": 3
   },
   "file_extension": ".py",
   "mimetype": "text/x-python",
   "name": "python",
   "nbconvert_exporter": "python",
   "pygments_lexer": "ipython3",
   "version": "3.9.12"
  }
 },
 "nbformat": 4,
 "nbformat_minor": 2
}
