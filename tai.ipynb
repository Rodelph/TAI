{
 "cells": [
  {
   "cell_type": "code",
   "execution_count": 1,
   "metadata": {},
   "outputs": [],
   "source": [
    "import pandas as pd\n",
    "import numpy as np"
   ]
  },
  {
   "cell_type": "code",
   "execution_count": 2,
   "metadata": {},
   "outputs": [],
   "source": [
    "original = pd.read_excel(\"Reduced Features for TAI project.xlsx\")"
   ]
  },
  {
   "cell_type": "code",
   "execution_count": 3,
   "metadata": {},
   "outputs": [
    {
     "data": {
      "text/html": [
       "<div>\n",
       "<style scoped>\n",
       "    .dataframe tbody tr th:only-of-type {\n",
       "        vertical-align: middle;\n",
       "    }\n",
       "\n",
       "    .dataframe tbody tr th {\n",
       "        vertical-align: top;\n",
       "    }\n",
       "\n",
       "    .dataframe thead th {\n",
       "        text-align: right;\n",
       "    }\n",
       "</style>\n",
       "<table border=\"1\" class=\"dataframe\">\n",
       "  <thead>\n",
       "    <tr style=\"text-align: right;\">\n",
       "      <th></th>\n",
       "      <th>Patient ID</th>\n",
       "      <th>original_shape_Elongation</th>\n",
       "      <th>original_firstorder_Kurtosis</th>\n",
       "      <th>original_firstorder_Skewness</th>\n",
       "      <th>wavelet-LHL_glrlm_RunVariance</th>\n",
       "      <th>wavelet2-LHL_gldm_LargeDependenceEmphasis</th>\n",
       "      <th>wavelet2-LLH_gldm_LargeDependenceEmphasis</th>\n",
       "      <th>wavelet-LHL_gldm_LargeDependenceEmphasis</th>\n",
       "      <th>wavelet2-LHL_gldm_DependenceVariance</th>\n",
       "      <th>wavelet2-LHL_glrlm_RunVariance</th>\n",
       "      <th>...</th>\n",
       "      <th>wavelet-LLL_glszm_LargeAreaLowGrayLevelEmphasis</th>\n",
       "      <th>wavelet2-HHH_firstorder_RootMeanSquared</th>\n",
       "      <th>wavelet2-LLH_firstorder_Kurtosis</th>\n",
       "      <th>wavelet-HHL_glcm_Imc2</th>\n",
       "      <th>wavelet2-LHH_firstorder_RobustMeanAbsoluteDeviation</th>\n",
       "      <th>original_shape_SphericalDisproportion</th>\n",
       "      <th>wavelet2-HHL_glcm_Idmn</th>\n",
       "      <th>wavelet2-LHH_firstorder_RootMeanSquared</th>\n",
       "      <th>wavelet2-HLL_firstorder_Maximum</th>\n",
       "      <th>Label</th>\n",
       "    </tr>\n",
       "  </thead>\n",
       "  <tbody>\n",
       "    <tr>\n",
       "      <th>0</th>\n",
       "      <td>1</td>\n",
       "      <td>0.661690</td>\n",
       "      <td>2.817688</td>\n",
       "      <td>0.769536</td>\n",
       "      <td>7.257078</td>\n",
       "      <td>3381.734540</td>\n",
       "      <td>3715.077716</td>\n",
       "      <td>3546.818663</td>\n",
       "      <td>634.748331</td>\n",
       "      <td>6.682128</td>\n",
       "      <td>...</td>\n",
       "      <td>4005.210235</td>\n",
       "      <td>0.408974</td>\n",
       "      <td>2.949406</td>\n",
       "      <td>0.231474</td>\n",
       "      <td>0.473838</td>\n",
       "      <td>1.572473</td>\n",
       "      <td>0.983853</td>\n",
       "      <td>0.875074</td>\n",
       "      <td>142.866201</td>\n",
       "      <td>0</td>\n",
       "    </tr>\n",
       "    <tr>\n",
       "      <th>1</th>\n",
       "      <td>1</td>\n",
       "      <td>0.750849</td>\n",
       "      <td>2.084800</td>\n",
       "      <td>0.442780</td>\n",
       "      <td>3.137745</td>\n",
       "      <td>2653.808184</td>\n",
       "      <td>1443.697357</td>\n",
       "      <td>2297.305200</td>\n",
       "      <td>616.359443</td>\n",
       "      <td>4.095513</td>\n",
       "      <td>...</td>\n",
       "      <td>32.058217</td>\n",
       "      <td>0.282009</td>\n",
       "      <td>2.790798</td>\n",
       "      <td>0.010531</td>\n",
       "      <td>0.401979</td>\n",
       "      <td>1.178144</td>\n",
       "      <td>0.905124</td>\n",
       "      <td>0.696716</td>\n",
       "      <td>21.693040</td>\n",
       "      <td>0</td>\n",
       "    </tr>\n",
       "    <tr>\n",
       "      <th>2</th>\n",
       "      <td>1</td>\n",
       "      <td>0.619781</td>\n",
       "      <td>2.590759</td>\n",
       "      <td>0.384512</td>\n",
       "      <td>7.005413</td>\n",
       "      <td>3551.125894</td>\n",
       "      <td>3568.780890</td>\n",
       "      <td>3342.865490</td>\n",
       "      <td>426.661231</td>\n",
       "      <td>8.535867</td>\n",
       "      <td>...</td>\n",
       "      <td>63032.030205</td>\n",
       "      <td>0.442902</td>\n",
       "      <td>3.211156</td>\n",
       "      <td>0.276207</td>\n",
       "      <td>0.446076</td>\n",
       "      <td>1.615550</td>\n",
       "      <td>0.993054</td>\n",
       "      <td>0.832938</td>\n",
       "      <td>163.039718</td>\n",
       "      <td>0</td>\n",
       "    </tr>\n",
       "    <tr>\n",
       "      <th>3</th>\n",
       "      <td>2</td>\n",
       "      <td>0.388733</td>\n",
       "      <td>2.932863</td>\n",
       "      <td>0.738215</td>\n",
       "      <td>2.178815</td>\n",
       "      <td>1564.039548</td>\n",
       "      <td>1370.065913</td>\n",
       "      <td>1839.930320</td>\n",
       "      <td>318.122386</td>\n",
       "      <td>1.939531</td>\n",
       "      <td>...</td>\n",
       "      <td>147.649047</td>\n",
       "      <td>0.330143</td>\n",
       "      <td>3.054401</td>\n",
       "      <td>0.023870</td>\n",
       "      <td>0.399957</td>\n",
       "      <td>1.306885</td>\n",
       "      <td>0.911141</td>\n",
       "      <td>0.727764</td>\n",
       "      <td>22.979554</td>\n",
       "      <td>0</td>\n",
       "    </tr>\n",
       "    <tr>\n",
       "      <th>4</th>\n",
       "      <td>2</td>\n",
       "      <td>0.820531</td>\n",
       "      <td>2.814081</td>\n",
       "      <td>0.773252</td>\n",
       "      <td>1.316850</td>\n",
       "      <td>1377.981413</td>\n",
       "      <td>1005.602230</td>\n",
       "      <td>1164.799257</td>\n",
       "      <td>325.473446</td>\n",
       "      <td>1.726775</td>\n",
       "      <td>...</td>\n",
       "      <td>65.872763</td>\n",
       "      <td>0.278449</td>\n",
       "      <td>2.074076</td>\n",
       "      <td>0.016973</td>\n",
       "      <td>0.350459</td>\n",
       "      <td>1.165727</td>\n",
       "      <td>0.906515</td>\n",
       "      <td>0.606753</td>\n",
       "      <td>24.490320</td>\n",
       "      <td>0</td>\n",
       "    </tr>\n",
       "    <tr>\n",
       "      <th>...</th>\n",
       "      <td>...</td>\n",
       "      <td>...</td>\n",
       "      <td>...</td>\n",
       "      <td>...</td>\n",
       "      <td>...</td>\n",
       "      <td>...</td>\n",
       "      <td>...</td>\n",
       "      <td>...</td>\n",
       "      <td>...</td>\n",
       "      <td>...</td>\n",
       "      <td>...</td>\n",
       "      <td>...</td>\n",
       "      <td>...</td>\n",
       "      <td>...</td>\n",
       "      <td>...</td>\n",
       "      <td>...</td>\n",
       "      <td>...</td>\n",
       "      <td>...</td>\n",
       "      <td>...</td>\n",
       "      <td>...</td>\n",
       "      <td>...</td>\n",
       "    </tr>\n",
       "    <tr>\n",
       "      <th>3557</th>\n",
       "      <td>96</td>\n",
       "      <td>0.225097</td>\n",
       "      <td>3.145095</td>\n",
       "      <td>0.887252</td>\n",
       "      <td>0.507042</td>\n",
       "      <td>113.521739</td>\n",
       "      <td>63.289855</td>\n",
       "      <td>158.304348</td>\n",
       "      <td>21.194707</td>\n",
       "      <td>0.420766</td>\n",
       "      <td>...</td>\n",
       "      <td>22.156250</td>\n",
       "      <td>0.148424</td>\n",
       "      <td>2.383944</td>\n",
       "      <td>0.025038</td>\n",
       "      <td>0.236198</td>\n",
       "      <td>1.412431</td>\n",
       "      <td>0.924402</td>\n",
       "      <td>0.649229</td>\n",
       "      <td>27.270149</td>\n",
       "      <td>1</td>\n",
       "    </tr>\n",
       "    <tr>\n",
       "      <th>3558</th>\n",
       "      <td>96</td>\n",
       "      <td>0.503842</td>\n",
       "      <td>2.484876</td>\n",
       "      <td>0.655281</td>\n",
       "      <td>4.641217</td>\n",
       "      <td>2475.349595</td>\n",
       "      <td>2771.461923</td>\n",
       "      <td>2684.326511</td>\n",
       "      <td>574.123960</td>\n",
       "      <td>4.591888</td>\n",
       "      <td>...</td>\n",
       "      <td>450.172765</td>\n",
       "      <td>0.403421</td>\n",
       "      <td>3.311709</td>\n",
       "      <td>0.546492</td>\n",
       "      <td>0.400437</td>\n",
       "      <td>1.494975</td>\n",
       "      <td>0.992242</td>\n",
       "      <td>0.734152</td>\n",
       "      <td>288.610250</td>\n",
       "      <td>1</td>\n",
       "    </tr>\n",
       "    <tr>\n",
       "      <th>3559</th>\n",
       "      <td>96</td>\n",
       "      <td>0.454726</td>\n",
       "      <td>3.363199</td>\n",
       "      <td>1.026167</td>\n",
       "      <td>6.014596</td>\n",
       "      <td>3310.430153</td>\n",
       "      <td>1430.379898</td>\n",
       "      <td>3536.925043</td>\n",
       "      <td>548.184562</td>\n",
       "      <td>5.595325</td>\n",
       "      <td>...</td>\n",
       "      <td>336.564815</td>\n",
       "      <td>0.114790</td>\n",
       "      <td>3.124013</td>\n",
       "      <td>0.028680</td>\n",
       "      <td>0.319474</td>\n",
       "      <td>1.609656</td>\n",
       "      <td>0.895515</td>\n",
       "      <td>0.566488</td>\n",
       "      <td>14.823064</td>\n",
       "      <td>1</td>\n",
       "    </tr>\n",
       "    <tr>\n",
       "      <th>3560</th>\n",
       "      <td>96</td>\n",
       "      <td>0.624101</td>\n",
       "      <td>2.205947</td>\n",
       "      <td>0.349004</td>\n",
       "      <td>1.626775</td>\n",
       "      <td>921.056338</td>\n",
       "      <td>280.690141</td>\n",
       "      <td>1045.957746</td>\n",
       "      <td>148.842690</td>\n",
       "      <td>1.583895</td>\n",
       "      <td>...</td>\n",
       "      <td>14.416448</td>\n",
       "      <td>0.131801</td>\n",
       "      <td>2.174953</td>\n",
       "      <td>0.072674</td>\n",
       "      <td>0.254557</td>\n",
       "      <td>1.280580</td>\n",
       "      <td>0.895171</td>\n",
       "      <td>0.542009</td>\n",
       "      <td>15.171972</td>\n",
       "      <td>1</td>\n",
       "    </tr>\n",
       "    <tr>\n",
       "      <th>3561</th>\n",
       "      <td>96</td>\n",
       "      <td>0.540562</td>\n",
       "      <td>2.317722</td>\n",
       "      <td>0.496575</td>\n",
       "      <td>1.933525</td>\n",
       "      <td>479.796178</td>\n",
       "      <td>393.770701</td>\n",
       "      <td>1347.133758</td>\n",
       "      <td>176.326464</td>\n",
       "      <td>0.912156</td>\n",
       "      <td>...</td>\n",
       "      <td>1.846151</td>\n",
       "      <td>0.994323</td>\n",
       "      <td>2.600714</td>\n",
       "      <td>0.293748</td>\n",
       "      <td>0.419372</td>\n",
       "      <td>1.394285</td>\n",
       "      <td>0.971497</td>\n",
       "      <td>1.223159</td>\n",
       "      <td>162.772856</td>\n",
       "      <td>1</td>\n",
       "    </tr>\n",
       "  </tbody>\n",
       "</table>\n",
       "<p>3562 rows × 152 columns</p>\n",
       "</div>"
      ],
      "text/plain": [
       "      Patient ID  original_shape_Elongation  original_firstorder_Kurtosis  \\\n",
       "0              1                   0.661690                      2.817688   \n",
       "1              1                   0.750849                      2.084800   \n",
       "2              1                   0.619781                      2.590759   \n",
       "3              2                   0.388733                      2.932863   \n",
       "4              2                   0.820531                      2.814081   \n",
       "...          ...                        ...                           ...   \n",
       "3557          96                   0.225097                      3.145095   \n",
       "3558          96                   0.503842                      2.484876   \n",
       "3559          96                   0.454726                      3.363199   \n",
       "3560          96                   0.624101                      2.205947   \n",
       "3561          96                   0.540562                      2.317722   \n",
       "\n",
       "      original_firstorder_Skewness  wavelet-LHL_glrlm_RunVariance  \\\n",
       "0                         0.769536                       7.257078   \n",
       "1                         0.442780                       3.137745   \n",
       "2                         0.384512                       7.005413   \n",
       "3                         0.738215                       2.178815   \n",
       "4                         0.773252                       1.316850   \n",
       "...                            ...                            ...   \n",
       "3557                      0.887252                       0.507042   \n",
       "3558                      0.655281                       4.641217   \n",
       "3559                      1.026167                       6.014596   \n",
       "3560                      0.349004                       1.626775   \n",
       "3561                      0.496575                       1.933525   \n",
       "\n",
       "      wavelet2-LHL_gldm_LargeDependenceEmphasis  \\\n",
       "0                                   3381.734540   \n",
       "1                                   2653.808184   \n",
       "2                                   3551.125894   \n",
       "3                                   1564.039548   \n",
       "4                                   1377.981413   \n",
       "...                                         ...   \n",
       "3557                                 113.521739   \n",
       "3558                                2475.349595   \n",
       "3559                                3310.430153   \n",
       "3560                                 921.056338   \n",
       "3561                                 479.796178   \n",
       "\n",
       "      wavelet2-LLH_gldm_LargeDependenceEmphasis  \\\n",
       "0                                   3715.077716   \n",
       "1                                   1443.697357   \n",
       "2                                   3568.780890   \n",
       "3                                   1370.065913   \n",
       "4                                   1005.602230   \n",
       "...                                         ...   \n",
       "3557                                  63.289855   \n",
       "3558                                2771.461923   \n",
       "3559                                1430.379898   \n",
       "3560                                 280.690141   \n",
       "3561                                 393.770701   \n",
       "\n",
       "      wavelet-LHL_gldm_LargeDependenceEmphasis  \\\n",
       "0                                  3546.818663   \n",
       "1                                  2297.305200   \n",
       "2                                  3342.865490   \n",
       "3                                  1839.930320   \n",
       "4                                  1164.799257   \n",
       "...                                        ...   \n",
       "3557                                158.304348   \n",
       "3558                               2684.326511   \n",
       "3559                               3536.925043   \n",
       "3560                               1045.957746   \n",
       "3561                               1347.133758   \n",
       "\n",
       "      wavelet2-LHL_gldm_DependenceVariance  wavelet2-LHL_glrlm_RunVariance  \\\n",
       "0                               634.748331                        6.682128   \n",
       "1                               616.359443                        4.095513   \n",
       "2                               426.661231                        8.535867   \n",
       "3                               318.122386                        1.939531   \n",
       "4                               325.473446                        1.726775   \n",
       "...                                    ...                             ...   \n",
       "3557                             21.194707                        0.420766   \n",
       "3558                            574.123960                        4.591888   \n",
       "3559                            548.184562                        5.595325   \n",
       "3560                            148.842690                        1.583895   \n",
       "3561                            176.326464                        0.912156   \n",
       "\n",
       "      ...  wavelet-LLL_glszm_LargeAreaLowGrayLevelEmphasis  \\\n",
       "0     ...                                      4005.210235   \n",
       "1     ...                                        32.058217   \n",
       "2     ...                                     63032.030205   \n",
       "3     ...                                       147.649047   \n",
       "4     ...                                        65.872763   \n",
       "...   ...                                              ...   \n",
       "3557  ...                                        22.156250   \n",
       "3558  ...                                       450.172765   \n",
       "3559  ...                                       336.564815   \n",
       "3560  ...                                        14.416448   \n",
       "3561  ...                                         1.846151   \n",
       "\n",
       "      wavelet2-HHH_firstorder_RootMeanSquared  \\\n",
       "0                                    0.408974   \n",
       "1                                    0.282009   \n",
       "2                                    0.442902   \n",
       "3                                    0.330143   \n",
       "4                                    0.278449   \n",
       "...                                       ...   \n",
       "3557                                 0.148424   \n",
       "3558                                 0.403421   \n",
       "3559                                 0.114790   \n",
       "3560                                 0.131801   \n",
       "3561                                 0.994323   \n",
       "\n",
       "      wavelet2-LLH_firstorder_Kurtosis  wavelet-HHL_glcm_Imc2  \\\n",
       "0                             2.949406               0.231474   \n",
       "1                             2.790798               0.010531   \n",
       "2                             3.211156               0.276207   \n",
       "3                             3.054401               0.023870   \n",
       "4                             2.074076               0.016973   \n",
       "...                                ...                    ...   \n",
       "3557                          2.383944               0.025038   \n",
       "3558                          3.311709               0.546492   \n",
       "3559                          3.124013               0.028680   \n",
       "3560                          2.174953               0.072674   \n",
       "3561                          2.600714               0.293748   \n",
       "\n",
       "      wavelet2-LHH_firstorder_RobustMeanAbsoluteDeviation  \\\n",
       "0                                              0.473838     \n",
       "1                                              0.401979     \n",
       "2                                              0.446076     \n",
       "3                                              0.399957     \n",
       "4                                              0.350459     \n",
       "...                                                 ...     \n",
       "3557                                           0.236198     \n",
       "3558                                           0.400437     \n",
       "3559                                           0.319474     \n",
       "3560                                           0.254557     \n",
       "3561                                           0.419372     \n",
       "\n",
       "      original_shape_SphericalDisproportion  wavelet2-HHL_glcm_Idmn  \\\n",
       "0                                  1.572473                0.983853   \n",
       "1                                  1.178144                0.905124   \n",
       "2                                  1.615550                0.993054   \n",
       "3                                  1.306885                0.911141   \n",
       "4                                  1.165727                0.906515   \n",
       "...                                     ...                     ...   \n",
       "3557                               1.412431                0.924402   \n",
       "3558                               1.494975                0.992242   \n",
       "3559                               1.609656                0.895515   \n",
       "3560                               1.280580                0.895171   \n",
       "3561                               1.394285                0.971497   \n",
       "\n",
       "      wavelet2-LHH_firstorder_RootMeanSquared  \\\n",
       "0                                    0.875074   \n",
       "1                                    0.696716   \n",
       "2                                    0.832938   \n",
       "3                                    0.727764   \n",
       "4                                    0.606753   \n",
       "...                                       ...   \n",
       "3557                                 0.649229   \n",
       "3558                                 0.734152   \n",
       "3559                                 0.566488   \n",
       "3560                                 0.542009   \n",
       "3561                                 1.223159   \n",
       "\n",
       "      wavelet2-HLL_firstorder_Maximum  Label  \n",
       "0                          142.866201      0  \n",
       "1                           21.693040      0  \n",
       "2                          163.039718      0  \n",
       "3                           22.979554      0  \n",
       "4                           24.490320      0  \n",
       "...                               ...    ...  \n",
       "3557                        27.270149      1  \n",
       "3558                       288.610250      1  \n",
       "3559                        14.823064      1  \n",
       "3560                        15.171972      1  \n",
       "3561                       162.772856      1  \n",
       "\n",
       "[3562 rows x 152 columns]"
      ]
     },
     "execution_count": 3,
     "metadata": {},
     "output_type": "execute_result"
    }
   ],
   "source": [
    "original"
   ]
  },
  {
   "cell_type": "code",
   "execution_count": 4,
   "metadata": {},
   "outputs": [
    {
     "data": {
      "text/plain": [
       "0"
      ]
     },
     "execution_count": 4,
     "metadata": {},
     "output_type": "execute_result"
    }
   ],
   "source": [
    "original.isna().sum().sum() "
   ]
  },
  {
   "cell_type": "markdown",
   "metadata": {},
   "source": [
    "The dataset has no NAN values."
   ]
  },
  {
   "cell_type": "code",
   "execution_count": 5,
   "metadata": {},
   "outputs": [
    {
     "data": {
      "text/plain": [
       "1"
      ]
     },
     "execution_count": 5,
     "metadata": {},
     "output_type": "execute_result"
    }
   ],
   "source": [
    "original[\"Patient ID\"][0]"
   ]
  },
  {
   "cell_type": "code",
   "execution_count": 6,
   "metadata": {
    "scrolled": true
   },
   "outputs": [
    {
     "name": "stdout",
     "output_type": "stream",
     "text": [
      "34    342\n",
      "9     141\n",
      "36    138\n",
      "71    132\n",
      "42    129\n",
      "     ... \n",
      "95      3\n",
      "1       3\n",
      "91      2\n",
      "87      1\n",
      "81      1\n",
      "Name: Patient ID, Length: 96, dtype: int64\n"
     ]
    }
   ],
   "source": [
    "print(original[\"Patient ID\"].value_counts())"
   ]
  },
  {
   "cell_type": "markdown",
   "metadata": {},
   "source": [
    "Some partients have the same rows as the test part. "
   ]
  },
  {
   "cell_type": "markdown",
   "metadata": {},
   "source": [
    "We notice here that some patients have alot of data compared to other patients. For example patient number '34' has 342 rows of data whereas patient '81' has only 1 row of data. So we need to balance the data."
   ]
  },
  {
   "cell_type": "markdown",
   "metadata": {},
   "source": [
    "We can see that the data from the 96 patients is balanced (46 Negative cases to 50 Negative cases)"
   ]
  },
  {
   "cell_type": "code",
   "execution_count": 7,
   "metadata": {},
   "outputs": [],
   "source": [
    "from sklearn.model_selection import train_test_split\n",
    "from sklearn.pipeline import Pipeline\n",
    "from sklearn.preprocessing import StandardScaler\n",
    "from sklearn.preprocessing import RobustScaler\n",
    "from sklearn.metrics import confusion_matrix\n",
    "from sklearn.metrics import balanced_accuracy_score\n",
    "from sklearn.metrics import roc_auc_score\n",
    "from sklearn import metrics\n",
    "from sklearn.metrics import confusion_matrix, ConfusionMatrixDisplay, classification_report\n",
    "from matplotlib import pyplot as plt\n",
    "from sklearn.model_selection import cross_validate\n",
    "from sklearn.model_selection import KFold\n",
    "from sklearn.linear_model import LogisticRegression\n",
    "from sklearn.ensemble import BaggingClassifier\n",
    "from sklearn import svm\n",
    "from sklearn.decomposition import PCA\n",
    "from sklearn.ensemble import AdaBoostClassifier\n",
    "from sklearn.naive_bayes import GaussianNB\n",
    "from sklearn.neighbors import KNeighborsClassifier\n",
    "from sklearn.ensemble import RandomForestClassifier\n",
    "from sklearn.model_selection import train_test_split"
   ]
  },
  {
   "cell_type": "code",
   "execution_count": 8,
   "metadata": {},
   "outputs": [],
   "source": [
    "neg = []\n",
    "pos = []\n",
    "\n",
    "for i in range(len(original)):\n",
    "    if original[\"Label\"][i] == 0:\n",
    "        neg.append(original.iloc[i])\n",
    "    else:\n",
    "        pos.append(original.iloc[i])"
   ]
  },
  {
   "cell_type": "code",
   "execution_count": 9,
   "metadata": {},
   "outputs": [],
   "source": [
    "dfneg = pd.DataFrame(neg)"
   ]
  },
  {
   "cell_type": "code",
   "execution_count": 10,
   "metadata": {},
   "outputs": [],
   "source": [
    "dfneg[[\"Patient ID\", \"Label\"]] = dfneg[[\"Patient ID\", \"Label\"]].astype(int)"
   ]
  },
  {
   "cell_type": "code",
   "execution_count": 11,
   "metadata": {},
   "outputs": [
    {
     "data": {
      "text/html": [
       "<div>\n",
       "<style scoped>\n",
       "    .dataframe tbody tr th:only-of-type {\n",
       "        vertical-align: middle;\n",
       "    }\n",
       "\n",
       "    .dataframe tbody tr th {\n",
       "        vertical-align: top;\n",
       "    }\n",
       "\n",
       "    .dataframe thead th {\n",
       "        text-align: right;\n",
       "    }\n",
       "</style>\n",
       "<table border=\"1\" class=\"dataframe\">\n",
       "  <thead>\n",
       "    <tr style=\"text-align: right;\">\n",
       "      <th></th>\n",
       "      <th>Patient ID</th>\n",
       "      <th>original_shape_Elongation</th>\n",
       "      <th>original_firstorder_Kurtosis</th>\n",
       "      <th>original_firstorder_Skewness</th>\n",
       "      <th>wavelet-LHL_glrlm_RunVariance</th>\n",
       "      <th>wavelet2-LHL_gldm_LargeDependenceEmphasis</th>\n",
       "      <th>wavelet2-LLH_gldm_LargeDependenceEmphasis</th>\n",
       "      <th>wavelet-LHL_gldm_LargeDependenceEmphasis</th>\n",
       "      <th>wavelet2-LHL_gldm_DependenceVariance</th>\n",
       "      <th>wavelet2-LHL_glrlm_RunVariance</th>\n",
       "      <th>...</th>\n",
       "      <th>wavelet-LLL_glszm_LargeAreaLowGrayLevelEmphasis</th>\n",
       "      <th>wavelet2-HHH_firstorder_RootMeanSquared</th>\n",
       "      <th>wavelet2-LLH_firstorder_Kurtosis</th>\n",
       "      <th>wavelet-HHL_glcm_Imc2</th>\n",
       "      <th>wavelet2-LHH_firstorder_RobustMeanAbsoluteDeviation</th>\n",
       "      <th>original_shape_SphericalDisproportion</th>\n",
       "      <th>wavelet2-HHL_glcm_Idmn</th>\n",
       "      <th>wavelet2-LHH_firstorder_RootMeanSquared</th>\n",
       "      <th>wavelet2-HLL_firstorder_Maximum</th>\n",
       "      <th>Label</th>\n",
       "    </tr>\n",
       "  </thead>\n",
       "  <tbody>\n",
       "    <tr>\n",
       "      <th>0</th>\n",
       "      <td>1</td>\n",
       "      <td>0.661690</td>\n",
       "      <td>2.817688</td>\n",
       "      <td>0.769536</td>\n",
       "      <td>7.257078</td>\n",
       "      <td>3381.734540</td>\n",
       "      <td>3715.077716</td>\n",
       "      <td>3546.818663</td>\n",
       "      <td>634.748331</td>\n",
       "      <td>6.682128</td>\n",
       "      <td>...</td>\n",
       "      <td>4005.210235</td>\n",
       "      <td>0.408974</td>\n",
       "      <td>2.949406</td>\n",
       "      <td>0.231474</td>\n",
       "      <td>0.473838</td>\n",
       "      <td>1.572473</td>\n",
       "      <td>0.983853</td>\n",
       "      <td>0.875074</td>\n",
       "      <td>142.866201</td>\n",
       "      <td>0</td>\n",
       "    </tr>\n",
       "    <tr>\n",
       "      <th>1</th>\n",
       "      <td>1</td>\n",
       "      <td>0.750849</td>\n",
       "      <td>2.084800</td>\n",
       "      <td>0.442780</td>\n",
       "      <td>3.137745</td>\n",
       "      <td>2653.808184</td>\n",
       "      <td>1443.697357</td>\n",
       "      <td>2297.305200</td>\n",
       "      <td>616.359443</td>\n",
       "      <td>4.095513</td>\n",
       "      <td>...</td>\n",
       "      <td>32.058217</td>\n",
       "      <td>0.282009</td>\n",
       "      <td>2.790798</td>\n",
       "      <td>0.010531</td>\n",
       "      <td>0.401979</td>\n",
       "      <td>1.178144</td>\n",
       "      <td>0.905124</td>\n",
       "      <td>0.696716</td>\n",
       "      <td>21.693040</td>\n",
       "      <td>0</td>\n",
       "    </tr>\n",
       "    <tr>\n",
       "      <th>2</th>\n",
       "      <td>1</td>\n",
       "      <td>0.619781</td>\n",
       "      <td>2.590759</td>\n",
       "      <td>0.384512</td>\n",
       "      <td>7.005413</td>\n",
       "      <td>3551.125894</td>\n",
       "      <td>3568.780890</td>\n",
       "      <td>3342.865490</td>\n",
       "      <td>426.661231</td>\n",
       "      <td>8.535867</td>\n",
       "      <td>...</td>\n",
       "      <td>63032.030205</td>\n",
       "      <td>0.442902</td>\n",
       "      <td>3.211156</td>\n",
       "      <td>0.276207</td>\n",
       "      <td>0.446076</td>\n",
       "      <td>1.615550</td>\n",
       "      <td>0.993054</td>\n",
       "      <td>0.832938</td>\n",
       "      <td>163.039718</td>\n",
       "      <td>0</td>\n",
       "    </tr>\n",
       "    <tr>\n",
       "      <th>3</th>\n",
       "      <td>2</td>\n",
       "      <td>0.388733</td>\n",
       "      <td>2.932863</td>\n",
       "      <td>0.738215</td>\n",
       "      <td>2.178815</td>\n",
       "      <td>1564.039548</td>\n",
       "      <td>1370.065913</td>\n",
       "      <td>1839.930320</td>\n",
       "      <td>318.122386</td>\n",
       "      <td>1.939531</td>\n",
       "      <td>...</td>\n",
       "      <td>147.649047</td>\n",
       "      <td>0.330143</td>\n",
       "      <td>3.054401</td>\n",
       "      <td>0.023870</td>\n",
       "      <td>0.399957</td>\n",
       "      <td>1.306885</td>\n",
       "      <td>0.911141</td>\n",
       "      <td>0.727764</td>\n",
       "      <td>22.979554</td>\n",
       "      <td>0</td>\n",
       "    </tr>\n",
       "    <tr>\n",
       "      <th>4</th>\n",
       "      <td>2</td>\n",
       "      <td>0.820531</td>\n",
       "      <td>2.814081</td>\n",
       "      <td>0.773252</td>\n",
       "      <td>1.316850</td>\n",
       "      <td>1377.981413</td>\n",
       "      <td>1005.602230</td>\n",
       "      <td>1164.799257</td>\n",
       "      <td>325.473446</td>\n",
       "      <td>1.726775</td>\n",
       "      <td>...</td>\n",
       "      <td>65.872763</td>\n",
       "      <td>0.278449</td>\n",
       "      <td>2.074076</td>\n",
       "      <td>0.016973</td>\n",
       "      <td>0.350459</td>\n",
       "      <td>1.165727</td>\n",
       "      <td>0.906515</td>\n",
       "      <td>0.606753</td>\n",
       "      <td>24.490320</td>\n",
       "      <td>0</td>\n",
       "    </tr>\n",
       "    <tr>\n",
       "      <th>...</th>\n",
       "      <td>...</td>\n",
       "      <td>...</td>\n",
       "      <td>...</td>\n",
       "      <td>...</td>\n",
       "      <td>...</td>\n",
       "      <td>...</td>\n",
       "      <td>...</td>\n",
       "      <td>...</td>\n",
       "      <td>...</td>\n",
       "      <td>...</td>\n",
       "      <td>...</td>\n",
       "      <td>...</td>\n",
       "      <td>...</td>\n",
       "      <td>...</td>\n",
       "      <td>...</td>\n",
       "      <td>...</td>\n",
       "      <td>...</td>\n",
       "      <td>...</td>\n",
       "      <td>...</td>\n",
       "      <td>...</td>\n",
       "      <td>...</td>\n",
       "    </tr>\n",
       "    <tr>\n",
       "      <th>2015</th>\n",
       "      <td>46</td>\n",
       "      <td>0.577087</td>\n",
       "      <td>2.603525</td>\n",
       "      <td>0.710759</td>\n",
       "      <td>6.556231</td>\n",
       "      <td>2896.170217</td>\n",
       "      <td>2142.948016</td>\n",
       "      <td>3388.937854</td>\n",
       "      <td>485.392841</td>\n",
       "      <td>5.569620</td>\n",
       "      <td>...</td>\n",
       "      <td>220.845578</td>\n",
       "      <td>0.146085</td>\n",
       "      <td>3.380679</td>\n",
       "      <td>0.036039</td>\n",
       "      <td>0.370779</td>\n",
       "      <td>1.402542</td>\n",
       "      <td>0.895293</td>\n",
       "      <td>0.667424</td>\n",
       "      <td>21.795029</td>\n",
       "      <td>0</td>\n",
       "    </tr>\n",
       "    <tr>\n",
       "      <th>2016</th>\n",
       "      <td>46</td>\n",
       "      <td>0.907373</td>\n",
       "      <td>1.822670</td>\n",
       "      <td>0.173061</td>\n",
       "      <td>7.887598</td>\n",
       "      <td>3628.381862</td>\n",
       "      <td>2428.119023</td>\n",
       "      <td>3596.726294</td>\n",
       "      <td>533.588966</td>\n",
       "      <td>9.443781</td>\n",
       "      <td>...</td>\n",
       "      <td>10.746221</td>\n",
       "      <td>0.157173</td>\n",
       "      <td>3.605559</td>\n",
       "      <td>0.048991</td>\n",
       "      <td>0.390818</td>\n",
       "      <td>2.006712</td>\n",
       "      <td>0.892271</td>\n",
       "      <td>0.702332</td>\n",
       "      <td>25.016651</td>\n",
       "      <td>0</td>\n",
       "    </tr>\n",
       "    <tr>\n",
       "      <th>2017</th>\n",
       "      <td>46</td>\n",
       "      <td>0.642163</td>\n",
       "      <td>2.459737</td>\n",
       "      <td>0.688368</td>\n",
       "      <td>0.654063</td>\n",
       "      <td>87.486486</td>\n",
       "      <td>144.351351</td>\n",
       "      <td>271.000000</td>\n",
       "      <td>8.420745</td>\n",
       "      <td>0.407397</td>\n",
       "      <td>...</td>\n",
       "      <td>5.858770</td>\n",
       "      <td>0.395420</td>\n",
       "      <td>2.430561</td>\n",
       "      <td>0.070254</td>\n",
       "      <td>0.156133</td>\n",
       "      <td>1.148375</td>\n",
       "      <td>0.983085</td>\n",
       "      <td>1.055117</td>\n",
       "      <td>110.600405</td>\n",
       "      <td>0</td>\n",
       "    </tr>\n",
       "    <tr>\n",
       "      <th>2018</th>\n",
       "      <td>46</td>\n",
       "      <td>0.680525</td>\n",
       "      <td>2.152316</td>\n",
       "      <td>0.495054</td>\n",
       "      <td>5.743015</td>\n",
       "      <td>3055.746041</td>\n",
       "      <td>2036.252786</td>\n",
       "      <td>3182.018573</td>\n",
       "      <td>605.873446</td>\n",
       "      <td>5.728189</td>\n",
       "      <td>...</td>\n",
       "      <td>1.439775</td>\n",
       "      <td>0.249950</td>\n",
       "      <td>3.498572</td>\n",
       "      <td>0.075893</td>\n",
       "      <td>0.326827</td>\n",
       "      <td>1.203721</td>\n",
       "      <td>0.907640</td>\n",
       "      <td>0.599508</td>\n",
       "      <td>34.910723</td>\n",
       "      <td>0</td>\n",
       "    </tr>\n",
       "    <tr>\n",
       "      <th>2019</th>\n",
       "      <td>46</td>\n",
       "      <td>0.591652</td>\n",
       "      <td>3.462226</td>\n",
       "      <td>1.069288</td>\n",
       "      <td>5.407382</td>\n",
       "      <td>1953.784853</td>\n",
       "      <td>1780.620357</td>\n",
       "      <td>3149.514713</td>\n",
       "      <td>318.630022</td>\n",
       "      <td>3.138269</td>\n",
       "      <td>...</td>\n",
       "      <td>23.681600</td>\n",
       "      <td>0.239050</td>\n",
       "      <td>2.350955</td>\n",
       "      <td>0.059949</td>\n",
       "      <td>0.319837</td>\n",
       "      <td>1.380883</td>\n",
       "      <td>0.916004</td>\n",
       "      <td>0.583212</td>\n",
       "      <td>30.551811</td>\n",
       "      <td>0</td>\n",
       "    </tr>\n",
       "  </tbody>\n",
       "</table>\n",
       "<p>2020 rows × 152 columns</p>\n",
       "</div>"
      ],
      "text/plain": [
       "      Patient ID  original_shape_Elongation  original_firstorder_Kurtosis  \\\n",
       "0              1                   0.661690                      2.817688   \n",
       "1              1                   0.750849                      2.084800   \n",
       "2              1                   0.619781                      2.590759   \n",
       "3              2                   0.388733                      2.932863   \n",
       "4              2                   0.820531                      2.814081   \n",
       "...          ...                        ...                           ...   \n",
       "2015          46                   0.577087                      2.603525   \n",
       "2016          46                   0.907373                      1.822670   \n",
       "2017          46                   0.642163                      2.459737   \n",
       "2018          46                   0.680525                      2.152316   \n",
       "2019          46                   0.591652                      3.462226   \n",
       "\n",
       "      original_firstorder_Skewness  wavelet-LHL_glrlm_RunVariance  \\\n",
       "0                         0.769536                       7.257078   \n",
       "1                         0.442780                       3.137745   \n",
       "2                         0.384512                       7.005413   \n",
       "3                         0.738215                       2.178815   \n",
       "4                         0.773252                       1.316850   \n",
       "...                            ...                            ...   \n",
       "2015                      0.710759                       6.556231   \n",
       "2016                      0.173061                       7.887598   \n",
       "2017                      0.688368                       0.654063   \n",
       "2018                      0.495054                       5.743015   \n",
       "2019                      1.069288                       5.407382   \n",
       "\n",
       "      wavelet2-LHL_gldm_LargeDependenceEmphasis  \\\n",
       "0                                   3381.734540   \n",
       "1                                   2653.808184   \n",
       "2                                   3551.125894   \n",
       "3                                   1564.039548   \n",
       "4                                   1377.981413   \n",
       "...                                         ...   \n",
       "2015                                2896.170217   \n",
       "2016                                3628.381862   \n",
       "2017                                  87.486486   \n",
       "2018                                3055.746041   \n",
       "2019                                1953.784853   \n",
       "\n",
       "      wavelet2-LLH_gldm_LargeDependenceEmphasis  \\\n",
       "0                                   3715.077716   \n",
       "1                                   1443.697357   \n",
       "2                                   3568.780890   \n",
       "3                                   1370.065913   \n",
       "4                                   1005.602230   \n",
       "...                                         ...   \n",
       "2015                                2142.948016   \n",
       "2016                                2428.119023   \n",
       "2017                                 144.351351   \n",
       "2018                                2036.252786   \n",
       "2019                                1780.620357   \n",
       "\n",
       "      wavelet-LHL_gldm_LargeDependenceEmphasis  \\\n",
       "0                                  3546.818663   \n",
       "1                                  2297.305200   \n",
       "2                                  3342.865490   \n",
       "3                                  1839.930320   \n",
       "4                                  1164.799257   \n",
       "...                                        ...   \n",
       "2015                               3388.937854   \n",
       "2016                               3596.726294   \n",
       "2017                                271.000000   \n",
       "2018                               3182.018573   \n",
       "2019                               3149.514713   \n",
       "\n",
       "      wavelet2-LHL_gldm_DependenceVariance  wavelet2-LHL_glrlm_RunVariance  \\\n",
       "0                               634.748331                        6.682128   \n",
       "1                               616.359443                        4.095513   \n",
       "2                               426.661231                        8.535867   \n",
       "3                               318.122386                        1.939531   \n",
       "4                               325.473446                        1.726775   \n",
       "...                                    ...                             ...   \n",
       "2015                            485.392841                        5.569620   \n",
       "2016                            533.588966                        9.443781   \n",
       "2017                              8.420745                        0.407397   \n",
       "2018                            605.873446                        5.728189   \n",
       "2019                            318.630022                        3.138269   \n",
       "\n",
       "      ...  wavelet-LLL_glszm_LargeAreaLowGrayLevelEmphasis  \\\n",
       "0     ...                                      4005.210235   \n",
       "1     ...                                        32.058217   \n",
       "2     ...                                     63032.030205   \n",
       "3     ...                                       147.649047   \n",
       "4     ...                                        65.872763   \n",
       "...   ...                                              ...   \n",
       "2015  ...                                       220.845578   \n",
       "2016  ...                                        10.746221   \n",
       "2017  ...                                         5.858770   \n",
       "2018  ...                                         1.439775   \n",
       "2019  ...                                        23.681600   \n",
       "\n",
       "      wavelet2-HHH_firstorder_RootMeanSquared  \\\n",
       "0                                    0.408974   \n",
       "1                                    0.282009   \n",
       "2                                    0.442902   \n",
       "3                                    0.330143   \n",
       "4                                    0.278449   \n",
       "...                                       ...   \n",
       "2015                                 0.146085   \n",
       "2016                                 0.157173   \n",
       "2017                                 0.395420   \n",
       "2018                                 0.249950   \n",
       "2019                                 0.239050   \n",
       "\n",
       "      wavelet2-LLH_firstorder_Kurtosis  wavelet-HHL_glcm_Imc2  \\\n",
       "0                             2.949406               0.231474   \n",
       "1                             2.790798               0.010531   \n",
       "2                             3.211156               0.276207   \n",
       "3                             3.054401               0.023870   \n",
       "4                             2.074076               0.016973   \n",
       "...                                ...                    ...   \n",
       "2015                          3.380679               0.036039   \n",
       "2016                          3.605559               0.048991   \n",
       "2017                          2.430561               0.070254   \n",
       "2018                          3.498572               0.075893   \n",
       "2019                          2.350955               0.059949   \n",
       "\n",
       "      wavelet2-LHH_firstorder_RobustMeanAbsoluteDeviation  \\\n",
       "0                                              0.473838     \n",
       "1                                              0.401979     \n",
       "2                                              0.446076     \n",
       "3                                              0.399957     \n",
       "4                                              0.350459     \n",
       "...                                                 ...     \n",
       "2015                                           0.370779     \n",
       "2016                                           0.390818     \n",
       "2017                                           0.156133     \n",
       "2018                                           0.326827     \n",
       "2019                                           0.319837     \n",
       "\n",
       "      original_shape_SphericalDisproportion  wavelet2-HHL_glcm_Idmn  \\\n",
       "0                                  1.572473                0.983853   \n",
       "1                                  1.178144                0.905124   \n",
       "2                                  1.615550                0.993054   \n",
       "3                                  1.306885                0.911141   \n",
       "4                                  1.165727                0.906515   \n",
       "...                                     ...                     ...   \n",
       "2015                               1.402542                0.895293   \n",
       "2016                               2.006712                0.892271   \n",
       "2017                               1.148375                0.983085   \n",
       "2018                               1.203721                0.907640   \n",
       "2019                               1.380883                0.916004   \n",
       "\n",
       "      wavelet2-LHH_firstorder_RootMeanSquared  \\\n",
       "0                                    0.875074   \n",
       "1                                    0.696716   \n",
       "2                                    0.832938   \n",
       "3                                    0.727764   \n",
       "4                                    0.606753   \n",
       "...                                       ...   \n",
       "2015                                 0.667424   \n",
       "2016                                 0.702332   \n",
       "2017                                 1.055117   \n",
       "2018                                 0.599508   \n",
       "2019                                 0.583212   \n",
       "\n",
       "      wavelet2-HLL_firstorder_Maximum  Label  \n",
       "0                          142.866201      0  \n",
       "1                           21.693040      0  \n",
       "2                          163.039718      0  \n",
       "3                           22.979554      0  \n",
       "4                           24.490320      0  \n",
       "...                               ...    ...  \n",
       "2015                        21.795029      0  \n",
       "2016                        25.016651      0  \n",
       "2017                       110.600405      0  \n",
       "2018                        34.910723      0  \n",
       "2019                        30.551811      0  \n",
       "\n",
       "[2020 rows x 152 columns]"
      ]
     },
     "execution_count": 11,
     "metadata": {},
     "output_type": "execute_result"
    }
   ],
   "source": [
    "dfneg"
   ]
  },
  {
   "cell_type": "code",
   "execution_count": 12,
   "metadata": {},
   "outputs": [],
   "source": [
    "dfpos = pd.DataFrame(pos)\n",
    "dfpos[[\"Patient ID\", \"Label\"]] = dfpos[[\"Patient ID\", \"Label\"]].astype(int)"
   ]
  },
  {
   "cell_type": "code",
   "execution_count": 13,
   "metadata": {},
   "outputs": [
    {
     "data": {
      "text/html": [
       "<div>\n",
       "<style scoped>\n",
       "    .dataframe tbody tr th:only-of-type {\n",
       "        vertical-align: middle;\n",
       "    }\n",
       "\n",
       "    .dataframe tbody tr th {\n",
       "        vertical-align: top;\n",
       "    }\n",
       "\n",
       "    .dataframe thead th {\n",
       "        text-align: right;\n",
       "    }\n",
       "</style>\n",
       "<table border=\"1\" class=\"dataframe\">\n",
       "  <thead>\n",
       "    <tr style=\"text-align: right;\">\n",
       "      <th></th>\n",
       "      <th>Patient ID</th>\n",
       "      <th>original_shape_Elongation</th>\n",
       "      <th>original_firstorder_Kurtosis</th>\n",
       "      <th>original_firstorder_Skewness</th>\n",
       "      <th>wavelet-LHL_glrlm_RunVariance</th>\n",
       "      <th>wavelet2-LHL_gldm_LargeDependenceEmphasis</th>\n",
       "      <th>wavelet2-LLH_gldm_LargeDependenceEmphasis</th>\n",
       "      <th>wavelet-LHL_gldm_LargeDependenceEmphasis</th>\n",
       "      <th>wavelet2-LHL_gldm_DependenceVariance</th>\n",
       "      <th>wavelet2-LHL_glrlm_RunVariance</th>\n",
       "      <th>...</th>\n",
       "      <th>wavelet-LLL_glszm_LargeAreaLowGrayLevelEmphasis</th>\n",
       "      <th>wavelet2-HHH_firstorder_RootMeanSquared</th>\n",
       "      <th>wavelet2-LLH_firstorder_Kurtosis</th>\n",
       "      <th>wavelet-HHL_glcm_Imc2</th>\n",
       "      <th>wavelet2-LHH_firstorder_RobustMeanAbsoluteDeviation</th>\n",
       "      <th>original_shape_SphericalDisproportion</th>\n",
       "      <th>wavelet2-HHL_glcm_Idmn</th>\n",
       "      <th>wavelet2-LHH_firstorder_RootMeanSquared</th>\n",
       "      <th>wavelet2-HLL_firstorder_Maximum</th>\n",
       "      <th>Label</th>\n",
       "    </tr>\n",
       "  </thead>\n",
       "  <tbody>\n",
       "    <tr>\n",
       "      <th>2020</th>\n",
       "      <td>47</td>\n",
       "      <td>0.416225</td>\n",
       "      <td>2.521806</td>\n",
       "      <td>0.439906</td>\n",
       "      <td>0.533505</td>\n",
       "      <td>138.849057</td>\n",
       "      <td>90.132075</td>\n",
       "      <td>187.377358</td>\n",
       "      <td>26.008544</td>\n",
       "      <td>0.529860</td>\n",
       "      <td>...</td>\n",
       "      <td>49.375000</td>\n",
       "      <td>0.118690</td>\n",
       "      <td>2.362302</td>\n",
       "      <td>0.038090</td>\n",
       "      <td>0.167263</td>\n",
       "      <td>1.279397</td>\n",
       "      <td>0.895734</td>\n",
       "      <td>0.377417</td>\n",
       "      <td>18.605135</td>\n",
       "      <td>1</td>\n",
       "    </tr>\n",
       "    <tr>\n",
       "      <th>2021</th>\n",
       "      <td>47</td>\n",
       "      <td>0.736010</td>\n",
       "      <td>2.173015</td>\n",
       "      <td>0.483420</td>\n",
       "      <td>0.552986</td>\n",
       "      <td>166.500000</td>\n",
       "      <td>63.500000</td>\n",
       "      <td>185.642857</td>\n",
       "      <td>10.250000</td>\n",
       "      <td>0.521358</td>\n",
       "      <td>...</td>\n",
       "      <td>6.466722</td>\n",
       "      <td>0.403556</td>\n",
       "      <td>2.315923</td>\n",
       "      <td>0.019693</td>\n",
       "      <td>0.824728</td>\n",
       "      <td>1.058369</td>\n",
       "      <td>0.943474</td>\n",
       "      <td>2.449881</td>\n",
       "      <td>52.971706</td>\n",
       "      <td>1</td>\n",
       "    </tr>\n",
       "    <tr>\n",
       "      <th>2022</th>\n",
       "      <td>47</td>\n",
       "      <td>0.641362</td>\n",
       "      <td>3.087188</td>\n",
       "      <td>0.909156</td>\n",
       "      <td>0.956684</td>\n",
       "      <td>241.235294</td>\n",
       "      <td>251.742081</td>\n",
       "      <td>587.461538</td>\n",
       "      <td>47.635143</td>\n",
       "      <td>0.500438</td>\n",
       "      <td>...</td>\n",
       "      <td>20.771146</td>\n",
       "      <td>0.610023</td>\n",
       "      <td>3.151656</td>\n",
       "      <td>0.093560</td>\n",
       "      <td>1.928797</td>\n",
       "      <td>1.295517</td>\n",
       "      <td>0.944976</td>\n",
       "      <td>3.136327</td>\n",
       "      <td>71.439527</td>\n",
       "      <td>1</td>\n",
       "    </tr>\n",
       "    <tr>\n",
       "      <th>2023</th>\n",
       "      <td>47</td>\n",
       "      <td>0.664107</td>\n",
       "      <td>3.407474</td>\n",
       "      <td>1.054132</td>\n",
       "      <td>2.226909</td>\n",
       "      <td>631.497549</td>\n",
       "      <td>116.884804</td>\n",
       "      <td>1560.713235</td>\n",
       "      <td>163.114595</td>\n",
       "      <td>1.015119</td>\n",
       "      <td>...</td>\n",
       "      <td>0.345548</td>\n",
       "      <td>0.151758</td>\n",
       "      <td>3.259447</td>\n",
       "      <td>0.032884</td>\n",
       "      <td>0.546592</td>\n",
       "      <td>1.289721</td>\n",
       "      <td>0.908851</td>\n",
       "      <td>1.109485</td>\n",
       "      <td>56.191556</td>\n",
       "      <td>1</td>\n",
       "    </tr>\n",
       "    <tr>\n",
       "      <th>2024</th>\n",
       "      <td>47</td>\n",
       "      <td>0.849858</td>\n",
       "      <td>2.284232</td>\n",
       "      <td>0.410488</td>\n",
       "      <td>18.573472</td>\n",
       "      <td>3579.715899</td>\n",
       "      <td>3939.033036</td>\n",
       "      <td>4893.125788</td>\n",
       "      <td>526.151309</td>\n",
       "      <td>8.866858</td>\n",
       "      <td>...</td>\n",
       "      <td>748.787596</td>\n",
       "      <td>0.377844</td>\n",
       "      <td>3.885238</td>\n",
       "      <td>0.157732</td>\n",
       "      <td>0.364693</td>\n",
       "      <td>1.416575</td>\n",
       "      <td>0.981349</td>\n",
       "      <td>0.644504</td>\n",
       "      <td>97.866878</td>\n",
       "      <td>1</td>\n",
       "    </tr>\n",
       "    <tr>\n",
       "      <th>...</th>\n",
       "      <td>...</td>\n",
       "      <td>...</td>\n",
       "      <td>...</td>\n",
       "      <td>...</td>\n",
       "      <td>...</td>\n",
       "      <td>...</td>\n",
       "      <td>...</td>\n",
       "      <td>...</td>\n",
       "      <td>...</td>\n",
       "      <td>...</td>\n",
       "      <td>...</td>\n",
       "      <td>...</td>\n",
       "      <td>...</td>\n",
       "      <td>...</td>\n",
       "      <td>...</td>\n",
       "      <td>...</td>\n",
       "      <td>...</td>\n",
       "      <td>...</td>\n",
       "      <td>...</td>\n",
       "      <td>...</td>\n",
       "      <td>...</td>\n",
       "    </tr>\n",
       "    <tr>\n",
       "      <th>3557</th>\n",
       "      <td>96</td>\n",
       "      <td>0.225097</td>\n",
       "      <td>3.145095</td>\n",
       "      <td>0.887252</td>\n",
       "      <td>0.507042</td>\n",
       "      <td>113.521739</td>\n",
       "      <td>63.289855</td>\n",
       "      <td>158.304348</td>\n",
       "      <td>21.194707</td>\n",
       "      <td>0.420766</td>\n",
       "      <td>...</td>\n",
       "      <td>22.156250</td>\n",
       "      <td>0.148424</td>\n",
       "      <td>2.383944</td>\n",
       "      <td>0.025038</td>\n",
       "      <td>0.236198</td>\n",
       "      <td>1.412431</td>\n",
       "      <td>0.924402</td>\n",
       "      <td>0.649229</td>\n",
       "      <td>27.270149</td>\n",
       "      <td>1</td>\n",
       "    </tr>\n",
       "    <tr>\n",
       "      <th>3558</th>\n",
       "      <td>96</td>\n",
       "      <td>0.503842</td>\n",
       "      <td>2.484876</td>\n",
       "      <td>0.655281</td>\n",
       "      <td>4.641217</td>\n",
       "      <td>2475.349595</td>\n",
       "      <td>2771.461923</td>\n",
       "      <td>2684.326511</td>\n",
       "      <td>574.123960</td>\n",
       "      <td>4.591888</td>\n",
       "      <td>...</td>\n",
       "      <td>450.172765</td>\n",
       "      <td>0.403421</td>\n",
       "      <td>3.311709</td>\n",
       "      <td>0.546492</td>\n",
       "      <td>0.400437</td>\n",
       "      <td>1.494975</td>\n",
       "      <td>0.992242</td>\n",
       "      <td>0.734152</td>\n",
       "      <td>288.610250</td>\n",
       "      <td>1</td>\n",
       "    </tr>\n",
       "    <tr>\n",
       "      <th>3559</th>\n",
       "      <td>96</td>\n",
       "      <td>0.454726</td>\n",
       "      <td>3.363199</td>\n",
       "      <td>1.026167</td>\n",
       "      <td>6.014596</td>\n",
       "      <td>3310.430153</td>\n",
       "      <td>1430.379898</td>\n",
       "      <td>3536.925043</td>\n",
       "      <td>548.184562</td>\n",
       "      <td>5.595325</td>\n",
       "      <td>...</td>\n",
       "      <td>336.564815</td>\n",
       "      <td>0.114790</td>\n",
       "      <td>3.124013</td>\n",
       "      <td>0.028680</td>\n",
       "      <td>0.319474</td>\n",
       "      <td>1.609656</td>\n",
       "      <td>0.895515</td>\n",
       "      <td>0.566488</td>\n",
       "      <td>14.823064</td>\n",
       "      <td>1</td>\n",
       "    </tr>\n",
       "    <tr>\n",
       "      <th>3560</th>\n",
       "      <td>96</td>\n",
       "      <td>0.624101</td>\n",
       "      <td>2.205947</td>\n",
       "      <td>0.349004</td>\n",
       "      <td>1.626775</td>\n",
       "      <td>921.056338</td>\n",
       "      <td>280.690141</td>\n",
       "      <td>1045.957746</td>\n",
       "      <td>148.842690</td>\n",
       "      <td>1.583895</td>\n",
       "      <td>...</td>\n",
       "      <td>14.416448</td>\n",
       "      <td>0.131801</td>\n",
       "      <td>2.174953</td>\n",
       "      <td>0.072674</td>\n",
       "      <td>0.254557</td>\n",
       "      <td>1.280580</td>\n",
       "      <td>0.895171</td>\n",
       "      <td>0.542009</td>\n",
       "      <td>15.171972</td>\n",
       "      <td>1</td>\n",
       "    </tr>\n",
       "    <tr>\n",
       "      <th>3561</th>\n",
       "      <td>96</td>\n",
       "      <td>0.540562</td>\n",
       "      <td>2.317722</td>\n",
       "      <td>0.496575</td>\n",
       "      <td>1.933525</td>\n",
       "      <td>479.796178</td>\n",
       "      <td>393.770701</td>\n",
       "      <td>1347.133758</td>\n",
       "      <td>176.326464</td>\n",
       "      <td>0.912156</td>\n",
       "      <td>...</td>\n",
       "      <td>1.846151</td>\n",
       "      <td>0.994323</td>\n",
       "      <td>2.600714</td>\n",
       "      <td>0.293748</td>\n",
       "      <td>0.419372</td>\n",
       "      <td>1.394285</td>\n",
       "      <td>0.971497</td>\n",
       "      <td>1.223159</td>\n",
       "      <td>162.772856</td>\n",
       "      <td>1</td>\n",
       "    </tr>\n",
       "  </tbody>\n",
       "</table>\n",
       "<p>1542 rows × 152 columns</p>\n",
       "</div>"
      ],
      "text/plain": [
       "      Patient ID  original_shape_Elongation  original_firstorder_Kurtosis  \\\n",
       "2020          47                   0.416225                      2.521806   \n",
       "2021          47                   0.736010                      2.173015   \n",
       "2022          47                   0.641362                      3.087188   \n",
       "2023          47                   0.664107                      3.407474   \n",
       "2024          47                   0.849858                      2.284232   \n",
       "...          ...                        ...                           ...   \n",
       "3557          96                   0.225097                      3.145095   \n",
       "3558          96                   0.503842                      2.484876   \n",
       "3559          96                   0.454726                      3.363199   \n",
       "3560          96                   0.624101                      2.205947   \n",
       "3561          96                   0.540562                      2.317722   \n",
       "\n",
       "      original_firstorder_Skewness  wavelet-LHL_glrlm_RunVariance  \\\n",
       "2020                      0.439906                       0.533505   \n",
       "2021                      0.483420                       0.552986   \n",
       "2022                      0.909156                       0.956684   \n",
       "2023                      1.054132                       2.226909   \n",
       "2024                      0.410488                      18.573472   \n",
       "...                            ...                            ...   \n",
       "3557                      0.887252                       0.507042   \n",
       "3558                      0.655281                       4.641217   \n",
       "3559                      1.026167                       6.014596   \n",
       "3560                      0.349004                       1.626775   \n",
       "3561                      0.496575                       1.933525   \n",
       "\n",
       "      wavelet2-LHL_gldm_LargeDependenceEmphasis  \\\n",
       "2020                                 138.849057   \n",
       "2021                                 166.500000   \n",
       "2022                                 241.235294   \n",
       "2023                                 631.497549   \n",
       "2024                                3579.715899   \n",
       "...                                         ...   \n",
       "3557                                 113.521739   \n",
       "3558                                2475.349595   \n",
       "3559                                3310.430153   \n",
       "3560                                 921.056338   \n",
       "3561                                 479.796178   \n",
       "\n",
       "      wavelet2-LLH_gldm_LargeDependenceEmphasis  \\\n",
       "2020                                  90.132075   \n",
       "2021                                  63.500000   \n",
       "2022                                 251.742081   \n",
       "2023                                 116.884804   \n",
       "2024                                3939.033036   \n",
       "...                                         ...   \n",
       "3557                                  63.289855   \n",
       "3558                                2771.461923   \n",
       "3559                                1430.379898   \n",
       "3560                                 280.690141   \n",
       "3561                                 393.770701   \n",
       "\n",
       "      wavelet-LHL_gldm_LargeDependenceEmphasis  \\\n",
       "2020                                187.377358   \n",
       "2021                                185.642857   \n",
       "2022                                587.461538   \n",
       "2023                               1560.713235   \n",
       "2024                               4893.125788   \n",
       "...                                        ...   \n",
       "3557                                158.304348   \n",
       "3558                               2684.326511   \n",
       "3559                               3536.925043   \n",
       "3560                               1045.957746   \n",
       "3561                               1347.133758   \n",
       "\n",
       "      wavelet2-LHL_gldm_DependenceVariance  wavelet2-LHL_glrlm_RunVariance  \\\n",
       "2020                             26.008544                        0.529860   \n",
       "2021                             10.250000                        0.521358   \n",
       "2022                             47.635143                        0.500438   \n",
       "2023                            163.114595                        1.015119   \n",
       "2024                            526.151309                        8.866858   \n",
       "...                                    ...                             ...   \n",
       "3557                             21.194707                        0.420766   \n",
       "3558                            574.123960                        4.591888   \n",
       "3559                            548.184562                        5.595325   \n",
       "3560                            148.842690                        1.583895   \n",
       "3561                            176.326464                        0.912156   \n",
       "\n",
       "      ...  wavelet-LLL_glszm_LargeAreaLowGrayLevelEmphasis  \\\n",
       "2020  ...                                        49.375000   \n",
       "2021  ...                                         6.466722   \n",
       "2022  ...                                        20.771146   \n",
       "2023  ...                                         0.345548   \n",
       "2024  ...                                       748.787596   \n",
       "...   ...                                              ...   \n",
       "3557  ...                                        22.156250   \n",
       "3558  ...                                       450.172765   \n",
       "3559  ...                                       336.564815   \n",
       "3560  ...                                        14.416448   \n",
       "3561  ...                                         1.846151   \n",
       "\n",
       "      wavelet2-HHH_firstorder_RootMeanSquared  \\\n",
       "2020                                 0.118690   \n",
       "2021                                 0.403556   \n",
       "2022                                 0.610023   \n",
       "2023                                 0.151758   \n",
       "2024                                 0.377844   \n",
       "...                                       ...   \n",
       "3557                                 0.148424   \n",
       "3558                                 0.403421   \n",
       "3559                                 0.114790   \n",
       "3560                                 0.131801   \n",
       "3561                                 0.994323   \n",
       "\n",
       "      wavelet2-LLH_firstorder_Kurtosis  wavelet-HHL_glcm_Imc2  \\\n",
       "2020                          2.362302               0.038090   \n",
       "2021                          2.315923               0.019693   \n",
       "2022                          3.151656               0.093560   \n",
       "2023                          3.259447               0.032884   \n",
       "2024                          3.885238               0.157732   \n",
       "...                                ...                    ...   \n",
       "3557                          2.383944               0.025038   \n",
       "3558                          3.311709               0.546492   \n",
       "3559                          3.124013               0.028680   \n",
       "3560                          2.174953               0.072674   \n",
       "3561                          2.600714               0.293748   \n",
       "\n",
       "      wavelet2-LHH_firstorder_RobustMeanAbsoluteDeviation  \\\n",
       "2020                                           0.167263     \n",
       "2021                                           0.824728     \n",
       "2022                                           1.928797     \n",
       "2023                                           0.546592     \n",
       "2024                                           0.364693     \n",
       "...                                                 ...     \n",
       "3557                                           0.236198     \n",
       "3558                                           0.400437     \n",
       "3559                                           0.319474     \n",
       "3560                                           0.254557     \n",
       "3561                                           0.419372     \n",
       "\n",
       "      original_shape_SphericalDisproportion  wavelet2-HHL_glcm_Idmn  \\\n",
       "2020                               1.279397                0.895734   \n",
       "2021                               1.058369                0.943474   \n",
       "2022                               1.295517                0.944976   \n",
       "2023                               1.289721                0.908851   \n",
       "2024                               1.416575                0.981349   \n",
       "...                                     ...                     ...   \n",
       "3557                               1.412431                0.924402   \n",
       "3558                               1.494975                0.992242   \n",
       "3559                               1.609656                0.895515   \n",
       "3560                               1.280580                0.895171   \n",
       "3561                               1.394285                0.971497   \n",
       "\n",
       "      wavelet2-LHH_firstorder_RootMeanSquared  \\\n",
       "2020                                 0.377417   \n",
       "2021                                 2.449881   \n",
       "2022                                 3.136327   \n",
       "2023                                 1.109485   \n",
       "2024                                 0.644504   \n",
       "...                                       ...   \n",
       "3557                                 0.649229   \n",
       "3558                                 0.734152   \n",
       "3559                                 0.566488   \n",
       "3560                                 0.542009   \n",
       "3561                                 1.223159   \n",
       "\n",
       "      wavelet2-HLL_firstorder_Maximum  Label  \n",
       "2020                        18.605135      1  \n",
       "2021                        52.971706      1  \n",
       "2022                        71.439527      1  \n",
       "2023                        56.191556      1  \n",
       "2024                        97.866878      1  \n",
       "...                               ...    ...  \n",
       "3557                        27.270149      1  \n",
       "3558                       288.610250      1  \n",
       "3559                        14.823064      1  \n",
       "3560                        15.171972      1  \n",
       "3561                       162.772856      1  \n",
       "\n",
       "[1542 rows x 152 columns]"
      ]
     },
     "execution_count": 13,
     "metadata": {},
     "output_type": "execute_result"
    }
   ],
   "source": [
    "dfpos"
   ]
  },
  {
   "cell_type": "code",
   "execution_count": 14,
   "metadata": {},
   "outputs": [],
   "source": [
    "from sklearn.model_selection import GroupShuffleSplit "
   ]
  },
  {
   "cell_type": "code",
   "execution_count": 15,
   "metadata": {},
   "outputs": [],
   "source": [
    "splitter = GroupShuffleSplit(test_size=0.33, n_splits=2, random_state = 7)\n",
    "splitp = splitter.split(dfpos, groups=dfpos['Patient ID'])\n",
    "train_indsp, test_indsp = next(splitp)\n",
    "train_pos = dfpos.iloc[train_indsp]\n",
    "test_pos = dfpos.iloc[test_indsp]"
   ]
  },
  {
   "cell_type": "code",
   "execution_count": 16,
   "metadata": {},
   "outputs": [],
   "source": [
    "splitn = splitter.split(dfneg, groups=dfneg['Patient ID'])\n",
    "train_indsn, test_indsn = next(splitn)\n",
    "train_neg = dfneg.iloc[train_indsn]\n",
    "test_neg = dfneg.iloc[test_indsn]"
   ]
  },
  {
   "cell_type": "code",
   "execution_count": 17,
   "metadata": {},
   "outputs": [],
   "source": [
    "train_data = pd.concat([train_neg, train_pos])\n",
    "test_data = pd.concat([test_neg, test_pos])"
   ]
  },
  {
   "cell_type": "code",
   "execution_count": 18,
   "metadata": {},
   "outputs": [],
   "source": [
    "train_labels = train_data[\"Label\"]\n",
    "test_labels = test_data[\"Label\"]"
   ]
  },
  {
   "cell_type": "code",
   "execution_count": 19,
   "metadata": {},
   "outputs": [],
   "source": [
    "train_data = train_data.drop(columns=[\"Patient ID\", \"Label\"])\n",
    "test_data = test_data.drop(columns=[\"Patient ID\", \"Label\"])"
   ]
  },
  {
   "cell_type": "code",
   "execution_count": 20,
   "metadata": {},
   "outputs": [],
   "source": [
    "X_val, X_test, y_val, y_test = train_test_split(test_data, test_labels, test_size=0.5)"
   ]
  },
  {
   "cell_type": "code",
   "execution_count": 22,
   "metadata": {},
   "outputs": [
    {
     "name": "stdout",
     "output_type": "stream",
     "text": [
      "2252 for training\n",
      "655 for validating\n",
      "655 for testing\n"
     ]
    }
   ],
   "source": [
    "print(f\"{len(train_data)} for training\")\n",
    "print(f\"{len(X_val)} for validating\")\n",
    "print(f\"{len(X_test)} for testing\")"
   ]
  },
  {
   "cell_type": "markdown",
   "metadata": {},
   "source": [
    "# SVM / SVC"
   ]
  },
  {
   "cell_type": "code",
   "execution_count": 24,
   "metadata": {},
   "outputs": [],
   "source": [
    "clf = svm.SVC(kernel='linear', gamma='auto', probability=True)\n",
    "pipe = Pipeline([('scaler', StandardScaler()), ('svc', clf)])"
   ]
  },
  {
   "cell_type": "code",
   "execution_count": 25,
   "metadata": {},
   "outputs": [
    {
     "data": {
      "text/html": [
       "<style>#sk-container-id-1 {color: black;background-color: white;}#sk-container-id-1 pre{padding: 0;}#sk-container-id-1 div.sk-toggleable {background-color: white;}#sk-container-id-1 label.sk-toggleable__label {cursor: pointer;display: block;width: 100%;margin-bottom: 0;padding: 0.3em;box-sizing: border-box;text-align: center;}#sk-container-id-1 label.sk-toggleable__label-arrow:before {content: \"▸\";float: left;margin-right: 0.25em;color: #696969;}#sk-container-id-1 label.sk-toggleable__label-arrow:hover:before {color: black;}#sk-container-id-1 div.sk-estimator:hover label.sk-toggleable__label-arrow:before {color: black;}#sk-container-id-1 div.sk-toggleable__content {max-height: 0;max-width: 0;overflow: hidden;text-align: left;background-color: #f0f8ff;}#sk-container-id-1 div.sk-toggleable__content pre {margin: 0.2em;color: black;border-radius: 0.25em;background-color: #f0f8ff;}#sk-container-id-1 input.sk-toggleable__control:checked~div.sk-toggleable__content {max-height: 200px;max-width: 100%;overflow: auto;}#sk-container-id-1 input.sk-toggleable__control:checked~label.sk-toggleable__label-arrow:before {content: \"▾\";}#sk-container-id-1 div.sk-estimator input.sk-toggleable__control:checked~label.sk-toggleable__label {background-color: #d4ebff;}#sk-container-id-1 div.sk-label input.sk-toggleable__control:checked~label.sk-toggleable__label {background-color: #d4ebff;}#sk-container-id-1 input.sk-hidden--visually {border: 0;clip: rect(1px 1px 1px 1px);clip: rect(1px, 1px, 1px, 1px);height: 1px;margin: -1px;overflow: hidden;padding: 0;position: absolute;width: 1px;}#sk-container-id-1 div.sk-estimator {font-family: monospace;background-color: #f0f8ff;border: 1px dotted black;border-radius: 0.25em;box-sizing: border-box;margin-bottom: 0.5em;}#sk-container-id-1 div.sk-estimator:hover {background-color: #d4ebff;}#sk-container-id-1 div.sk-parallel-item::after {content: \"\";width: 100%;border-bottom: 1px solid gray;flex-grow: 1;}#sk-container-id-1 div.sk-label:hover label.sk-toggleable__label {background-color: #d4ebff;}#sk-container-id-1 div.sk-serial::before {content: \"\";position: absolute;border-left: 1px solid gray;box-sizing: border-box;top: 0;bottom: 0;left: 50%;z-index: 0;}#sk-container-id-1 div.sk-serial {display: flex;flex-direction: column;align-items: center;background-color: white;padding-right: 0.2em;padding-left: 0.2em;position: relative;}#sk-container-id-1 div.sk-item {position: relative;z-index: 1;}#sk-container-id-1 div.sk-parallel {display: flex;align-items: stretch;justify-content: center;background-color: white;position: relative;}#sk-container-id-1 div.sk-item::before, #sk-container-id-1 div.sk-parallel-item::before {content: \"\";position: absolute;border-left: 1px solid gray;box-sizing: border-box;top: 0;bottom: 0;left: 50%;z-index: -1;}#sk-container-id-1 div.sk-parallel-item {display: flex;flex-direction: column;z-index: 1;position: relative;background-color: white;}#sk-container-id-1 div.sk-parallel-item:first-child::after {align-self: flex-end;width: 50%;}#sk-container-id-1 div.sk-parallel-item:last-child::after {align-self: flex-start;width: 50%;}#sk-container-id-1 div.sk-parallel-item:only-child::after {width: 0;}#sk-container-id-1 div.sk-dashed-wrapped {border: 1px dashed gray;margin: 0 0.4em 0.5em 0.4em;box-sizing: border-box;padding-bottom: 0.4em;background-color: white;}#sk-container-id-1 div.sk-label label {font-family: monospace;font-weight: bold;display: inline-block;line-height: 1.2em;}#sk-container-id-1 div.sk-label-container {text-align: center;}#sk-container-id-1 div.sk-container {/* jupyter's `normalize.less` sets `[hidden] { display: none; }` but bootstrap.min.css set `[hidden] { display: none !important; }` so we also need the `!important` here to be able to override the default hidden behavior on the sphinx rendered scikit-learn.org. See: https://github.com/scikit-learn/scikit-learn/issues/21755 */display: inline-block !important;position: relative;}#sk-container-id-1 div.sk-text-repr-fallback {display: none;}</style><div id=\"sk-container-id-1\" class=\"sk-top-container\"><div class=\"sk-text-repr-fallback\"><pre>Pipeline(steps=[(&#x27;scaler&#x27;, StandardScaler()),\n",
       "                (&#x27;svc&#x27;, SVC(gamma=&#x27;auto&#x27;, kernel=&#x27;linear&#x27;, probability=True))])</pre><b>In a Jupyter environment, please rerun this cell to show the HTML representation or trust the notebook. <br />On GitHub, the HTML representation is unable to render, please try loading this page with nbviewer.org.</b></div><div class=\"sk-container\" hidden><div class=\"sk-item sk-dashed-wrapped\"><div class=\"sk-label-container\"><div class=\"sk-label sk-toggleable\"><input class=\"sk-toggleable__control sk-hidden--visually\" id=\"sk-estimator-id-1\" type=\"checkbox\" ><label for=\"sk-estimator-id-1\" class=\"sk-toggleable__label sk-toggleable__label-arrow\">Pipeline</label><div class=\"sk-toggleable__content\"><pre>Pipeline(steps=[(&#x27;scaler&#x27;, StandardScaler()),\n",
       "                (&#x27;svc&#x27;, SVC(gamma=&#x27;auto&#x27;, kernel=&#x27;linear&#x27;, probability=True))])</pre></div></div></div><div class=\"sk-serial\"><div class=\"sk-item\"><div class=\"sk-estimator sk-toggleable\"><input class=\"sk-toggleable__control sk-hidden--visually\" id=\"sk-estimator-id-2\" type=\"checkbox\" ><label for=\"sk-estimator-id-2\" class=\"sk-toggleable__label sk-toggleable__label-arrow\">StandardScaler</label><div class=\"sk-toggleable__content\"><pre>StandardScaler()</pre></div></div></div><div class=\"sk-item\"><div class=\"sk-estimator sk-toggleable\"><input class=\"sk-toggleable__control sk-hidden--visually\" id=\"sk-estimator-id-3\" type=\"checkbox\" ><label for=\"sk-estimator-id-3\" class=\"sk-toggleable__label sk-toggleable__label-arrow\">SVC</label><div class=\"sk-toggleable__content\"><pre>SVC(gamma=&#x27;auto&#x27;, kernel=&#x27;linear&#x27;, probability=True)</pre></div></div></div></div></div></div></div>"
      ],
      "text/plain": [
       "Pipeline(steps=[('scaler', StandardScaler()),\n",
       "                ('svc', SVC(gamma='auto', kernel='linear', probability=True))])"
      ]
     },
     "execution_count": 25,
     "metadata": {},
     "output_type": "execute_result"
    }
   ],
   "source": [
    "pipe.fit(train_data, train_labels)"
   ]
  },
  {
   "cell_type": "code",
   "execution_count": 31,
   "metadata": {},
   "outputs": [],
   "source": [
    "y_pred_svm_proba = pipe.predict_proba(X_test)[:, 1]\n",
    "y_pred_svm = pipe.predict(X_test)"
   ]
  },
  {
   "cell_type": "code",
   "execution_count": 32,
   "metadata": {},
   "outputs": [
    {
     "data": {
      "text/plain": [
       "array([[348,  50],\n",
       "       [ 73, 184]])"
      ]
     },
     "execution_count": 32,
     "metadata": {},
     "output_type": "execute_result"
    }
   ],
   "source": [
    "confusion_matrix(y_test, y_pred_svm)"
   ]
  },
  {
   "cell_type": "code",
   "execution_count": 33,
   "metadata": {},
   "outputs": [
    {
     "name": "stdout",
     "output_type": "stream",
     "text": [
      "Accuracy: 0.8122137404580153\n",
      "Precision: 0.7863247863247863\n",
      "Recall: 0.7159533073929961\n"
     ]
    }
   ],
   "source": [
    "print(\"Accuracy:\",metrics.accuracy_score(y_test, y_pred_svm))\n",
    "print(\"Precision:\",metrics.precision_score(y_test, y_pred_svm))\n",
    "print(\"Recall:\",metrics.recall_score(y_test, y_pred_svm))"
   ]
  },
  {
   "cell_type": "code",
   "execution_count": 34,
   "metadata": {},
   "outputs": [
    {
     "data": {
      "image/png": "[encoded data removed]",
      "text/plain": [
       "<Figure size 700x500 with 1 Axes>"
      ]
     },
     "metadata": {},
     "output_type": "display_data"
    }
   ],
   "source": [
    "auc = metrics.roc_auc_score(y_test, y_pred_svm_proba)\n",
    "auc = \"{:.3f}\".format(auc)\n",
    "fprSVC, tprSVC, _ = metrics.roc_curve(y_test, y_pred_svm_proba)\n",
    "plt.plot(fprSVC, tprSVC, label=\"AUC=\"+ auc)\n",
    "plt.plot([0,1],[0,1], 'k--')\n",
    "plt.ylabel('True Positive Rate')\n",
    "plt.xlabel('False Positive Rate')\n",
    "plt.legend(loc=4)\n",
    "plt.rcParams[\"figure.figsize\"] = (7,5)\n",
    "plt.show()"
   ]
  },
  {
   "cell_type": "code",
   "execution_count": 35,
   "metadata": {},
   "outputs": [
    {
     "name": "stdout",
     "output_type": "stream",
     "text": [
      "              precision    recall  f1-score   support\n",
      "\n",
      "           0       0.83      0.87      0.85       398\n",
      "           1       0.79      0.72      0.75       257\n",
      "\n",
      "    accuracy                           0.81       655\n",
      "   macro avg       0.81      0.80      0.80       655\n",
      "weighted avg       0.81      0.81      0.81       655\n",
      "\n"
     ]
    }
   ],
   "source": [
    "print(classification_report(y_test, y_pred_svm, labels=[0,1]))"
   ]
  },
  {
   "cell_type": "code",
   "execution_count": 36,
   "metadata": {},
   "outputs": [
    {
     "data": {
      "text/plain": [
       "<sklearn.metrics._plot.confusion_matrix.ConfusionMatrixDisplay at 0x7fa856df3400>"
      ]
     },
     "execution_count": 36,
     "metadata": {},
     "output_type": "execute_result"
    },
    {
     "data": {
      "image/png": "[encoded data removed]",
      "text/plain": [
       "<Figure size 700x500 with 2 Axes>"
      ]
     },
     "metadata": {},
     "output_type": "display_data"
    }
   ],
   "source": [
    "cm = confusion_matrix(y_test, y_pred_svm,  labels=[0,1])\n",
    "mat = ConfusionMatrixDisplay(confusion_matrix=cm)\n",
    "mat.plot()"
   ]
  },
  {
   "cell_type": "code",
   "execution_count": 37,
   "metadata": {},
   "outputs": [
    {
     "name": "stdout",
     "output_type": "stream",
     "text": [
      "Mean training loss: 0.208 std: 0.045\n",
      "Mean validation loss: 0.366 std: 0.173\n"
     ]
    }
   ],
   "source": [
    "kf = KFold(n_splits=5)\n",
    "\n",
    "# We fuse the training and validation set together\n",
    "X_trainval = np.concatenate((train_data, X_val))\n",
    "y_trainval = np.concatenate((train_labels, y_val))\n",
    "\n",
    "# Lists to save the losses\n",
    "train_mses = []\n",
    "val_mses = []\n",
    "\n",
    "# loop through the different folds\n",
    "for train_indexes, val_indexes in kf.split(X_trainval):\n",
    "    # create an new linreg model, untrained\n",
    "    clf = svm.SVC(kernel='linear', gamma='auto', probability=True)\n",
    "    pipe = Pipeline([('scaler', StandardScaler()), ('svc', clf)])\n",
    "    # train the model on a subset of the training data\n",
    "    pipe.fit(X_trainval[train_indexes], y_trainval[train_indexes])\n",
    "    \n",
    "    # make prediction for training and validation dataset\n",
    "    y_hat_train_temp = pipe.predict(X_trainval[train_indexes])\n",
    "    y_hat_val_temp = pipe.predict(X_trainval[val_indexes])\n",
    "    \n",
    "    # compute the losses\n",
    "    mse_train_temp = np.mean((y_hat_train_temp - y_trainval[train_indexes]) ** 2)\n",
    "    mse_val_temp = np.mean((y_hat_val_temp - y_trainval[val_indexes]) ** 2)\n",
    "    \n",
    "    # append the loss values to the lists\n",
    "    train_mses.append(mse_train_temp)\n",
    "    val_mses.append(mse_val_temp)\n",
    "    \n",
    "print(f\"Mean training loss: {round(np.mean(train_mses), 3)} std: {round(np.std(train_mses), 3)}\")\n",
    "print(f\"Mean validation loss: {round(np.mean(val_mses), 3)} std: {round(np.std(val_mses), 3)}\")"
   ]
  },
  {
   "cell_type": "markdown",
   "metadata": {},
   "source": [
    "# Logistic Regression"
   ]
  },
  {
   "cell_type": "code",
   "execution_count": 40,
   "metadata": {},
   "outputs": [],
   "source": [
    "model = LogisticRegression(max_iter = 10000)\n",
    "pipe = Pipeline([(\"preprocessor\", RobustScaler()),('logReg', model)])\n",
    "pipe.fit(train_data, train_labels)\n",
    "y_predlr = pipe.predict(X_test)\n",
    "y_predlr_proba = pipe.predict_proba(X_test)[:, 1]"
   ]
  },
  {
   "cell_type": "code",
   "execution_count": 41,
   "metadata": {},
   "outputs": [
    {
     "name": "stdout",
     "output_type": "stream",
     "text": [
      "Accuracy: 0.815267175572519\n",
      "Precision: 0.8151427590923875\n",
      "Recall: 0.815267175572519\n"
     ]
    }
   ],
   "source": [
    "print(\"Accuracy:\",metrics.accuracy_score(y_test, y_predlr))\n",
    "print(\"Precision:\",metrics.precision_score(y_test, y_predlr, average='weighted'))\n",
    "print(\"Recall:\",metrics.recall_score(y_test, y_predlr, average='weighted'))"
   ]
  },
  {
   "cell_type": "code",
   "execution_count": 42,
   "metadata": {},
   "outputs": [
    {
     "data": {
      "image/png": "[encoded data removed]",
      "text/plain": [
       "<Figure size 700x500 with 1 Axes>"
      ]
     },
     "metadata": {},
     "output_type": "display_data"
    }
   ],
   "source": [
    "auc = metrics.roc_auc_score(y_test, y_predlr_proba)\n",
    "auc = \"{:.3f}\".format(auc)\n",
    "fprLR, tprLR, _ = metrics.roc_curve(y_test, y_predlr_proba)\n",
    "plt.plot(fprLR, tprLR, label=\"AUC=\"+ auc)\n",
    "plt.plot([0,1],[0,1], 'k--')\n",
    "plt.ylabel('True Positive Rate')\n",
    "plt.xlabel('False Positive Rate')\n",
    "plt.legend(loc=4)\n",
    "plt.rcParams[\"figure.figsize\"] = (7,5)\n",
    "plt.show()"
   ]
  },
  {
   "cell_type": "code",
   "execution_count": 43,
   "metadata": {},
   "outputs": [
    {
     "name": "stdout",
     "output_type": "stream",
     "text": [
      "              precision    recall  f1-score   support\n",
      "\n",
      "           0       0.85      0.85      0.85       398\n",
      "           1       0.77      0.76      0.76       257\n",
      "\n",
      "    accuracy                           0.82       655\n",
      "   macro avg       0.81      0.81      0.81       655\n",
      "weighted avg       0.82      0.82      0.82       655\n",
      "\n"
     ]
    }
   ],
   "source": [
    "print(classification_report(y_test, y_predlr, labels=[0,1]))"
   ]
  },
  {
   "cell_type": "code",
   "execution_count": 44,
   "metadata": {},
   "outputs": [
    {
     "data": {
      "text/plain": [
       "<sklearn.metrics._plot.confusion_matrix.ConfusionMatrixDisplay at 0x7fa854057190>"
      ]
     },
     "execution_count": 44,
     "metadata": {},
     "output_type": "execute_result"
    },
    {
     "data": {
      "image/png": "[encoded data removed]",
      "text/plain": [
       "<Figure size 700x500 with 2 Axes>"
      ]
     },
     "metadata": {},
     "output_type": "display_data"
    }
   ],
   "source": [
    "cm = confusion_matrix(y_test, y_predlr)\n",
    "mat = ConfusionMatrixDisplay(confusion_matrix=cm)\n",
    "mat.plot()"
   ]
  },
  {
   "cell_type": "code",
   "execution_count": 72,
   "metadata": {},
   "outputs": [
    {
     "name": "stdout",
     "output_type": "stream",
     "text": [
      "Mean training loss: 0.222 std: 0.049\n",
      "Mean validation loss: 0.379 std: 0.174\n"
     ]
    }
   ],
   "source": [
    "kf = KFold(n_splits=5)\n",
    "\n",
    "# We fuse the training and validation set together\n",
    "X_trainval = np.concatenate((train_data, X_val))\n",
    "y_trainval = np.concatenate((train_labels, y_val))\n",
    "\n",
    "# Lists to save the losses\n",
    "train_mses = []\n",
    "val_mses = []\n",
    "\n",
    "# loop through the different folds\n",
    "for train_indexes, val_indexes in kf.split(X_trainval):\n",
    "    # create an new linreg model, untrained\n",
    "    model = LogisticRegression(max_iter = 10000)\n",
    "    pipe = Pipeline([(\"preprocessor\", RobustScaler()),('logReg', model)])\n",
    "    # train the model on a subset of the training data\n",
    "    pipe.fit(X_trainval[train_indexes], y_trainval[train_indexes])\n",
    "    \n",
    "    # make prediction for training and validation dataset\n",
    "    y_hat_train_temp = pipe.predict(X_trainval[train_indexes])\n",
    "    y_hat_val_temp = pipe.predict(X_trainval[val_indexes])\n",
    "    \n",
    "    # compute the losses\n",
    "    mse_train_temp = np.mean((y_hat_train_temp - y_trainval[train_indexes]) ** 2)\n",
    "    mse_val_temp = np.mean((y_hat_val_temp - y_trainval[val_indexes]) ** 2)\n",
    "    \n",
    "    # append the loss values to the lists\n",
    "    train_mses.append(mse_train_temp)\n",
    "    val_mses.append(mse_val_temp)\n",
    "    \n",
    "print(f\"Mean training loss: {round(np.mean(train_mses), 3)} std: {round(np.std(train_mses), 3)}\")\n",
    "print(f\"Mean validation loss: {round(np.mean(val_mses), 3)} std: {round(np.std(val_mses), 3)}\")"
   ]
  },
  {
   "cell_type": "markdown",
   "metadata": {},
   "source": [
    "# Bagging"
   ]
  },
  {
   "cell_type": "code",
   "execution_count": 45,
   "metadata": {},
   "outputs": [],
   "source": [
    "bagging = BaggingClassifier(n_estimators=35, random_state=42)\n",
    "pipe = Pipeline([(\"std\", StandardScaler()), ('baggC', bagging)])\n",
    "pipe.fit(train_data, train_labels)\n",
    "y_pred_bc = pipe.predict(X_test)\n",
    "y_pred_bc_proba = pipe.predict_proba(X_test)[:, 1]"
   ]
  },
  {
   "cell_type": "code",
   "execution_count": 46,
   "metadata": {},
   "outputs": [
    {
     "data": {
      "image/png": "[encoded data removed]",
      "text/plain": [
       "<Figure size 700x500 with 1 Axes>"
      ]
     },
     "metadata": {},
     "output_type": "display_data"
    }
   ],
   "source": [
    "auc = metrics.roc_auc_score(y_test, y_pred_bc_proba)\n",
    "auc = \"{:.3f}\".format(auc)\n",
    "fprBAGGING, tprBAGGING, _ = metrics.roc_curve(y_test, y_pred_bc_proba)\n",
    "plt.plot(fprBAGGING, tprBAGGING, label=\"AUC=\"+ auc)\n",
    "plt.plot([0,1],[0,1], 'k--')\n",
    "plt.ylabel('True Positive Rate')\n",
    "plt.xlabel('False Positive Rate')\n",
    "plt.legend(loc=4)\n",
    "plt.show()"
   ]
  },
  {
   "cell_type": "code",
   "execution_count": 50,
   "metadata": {},
   "outputs": [
    {
     "name": "stdout",
     "output_type": "stream",
     "text": [
      "              precision    recall  f1-score   support\n",
      "\n",
      "           0       0.81      0.86      0.84       398\n",
      "           1       0.77      0.69      0.73       257\n",
      "\n",
      "    accuracy                           0.80       655\n",
      "   macro avg       0.79      0.78      0.78       655\n",
      "weighted avg       0.80      0.80      0.79       655\n",
      "\n"
     ]
    }
   ],
   "source": [
    "print(classification_report(y_test, y_pred_bc))"
   ]
  },
  {
   "cell_type": "code",
   "execution_count": 49,
   "metadata": {},
   "outputs": [
    {
     "data": {
      "text/plain": [
       "<sklearn.metrics._plot.confusion_matrix.ConfusionMatrixDisplay at 0x7fa84e5f74c0>"
      ]
     },
     "execution_count": 49,
     "metadata": {},
     "output_type": "execute_result"
    },
    {
     "data": {
      "image/png": "[encoded data removed]",
      "text/plain": [
       "<Figure size 700x500 with 2 Axes>"
      ]
     },
     "metadata": {},
     "output_type": "display_data"
    }
   ],
   "source": [
    "cm = confusion_matrix(y_test, y_pred_bc)\n",
    "mat = ConfusionMatrixDisplay(confusion_matrix=cm)\n",
    "mat.plot()"
   ]
  },
  {
   "cell_type": "code",
   "execution_count": 73,
   "metadata": {},
   "outputs": [
    {
     "name": "stdout",
     "output_type": "stream",
     "text": [
      "Mean training loss: 0.001 std: 0.001\n",
      "Mean validation loss: 0.366 std: 0.162\n"
     ]
    }
   ],
   "source": [
    "kf = KFold(n_splits=5)\n",
    "\n",
    "# We fuse the training and validation set together\n",
    "X_trainval = np.concatenate((train_data, X_val))\n",
    "y_trainval = np.concatenate((train_labels, y_val))\n",
    "\n",
    "# Lists to save the losses\n",
    "train_mses = []\n",
    "val_mses = []\n",
    "\n",
    "# loop through the different folds\n",
    "for train_indexes, val_indexes in kf.split(X_trainval):\n",
    "    # create an new linreg model, untrained\n",
    "    model = LogisticRegression(max_iter = 10000)\n",
    "    pipe = Pipeline([(\"preprocessor\", RobustScaler()),('logReg', model)])\n",
    "    # train the model on a subset of the training data\n",
    "    pipe.fit(X_trainval[train_indexes], y_trainval[train_indexes])\n",
    "    \n",
    "    # make prediction for training and validation dataset\n",
    "    y_hat_train_temp = pipe.predict(X_trainval[train_indexes])\n",
    "    y_hat_val_temp = pipe.predict(X_trainval[val_indexes])\n",
    "    \n",
    "    # compute the losses\n",
    "    mse_train_temp = np.mean((y_hat_train_temp - y_trainval[train_indexes]) ** 2)\n",
    "    mse_val_temp = np.mean((y_hat_val_temp - y_trainval[val_indexes]) ** 2)\n",
    "    \n",
    "    # append the loss values to the lists\n",
    "    train_mses.append(mse_train_temp)\n",
    "    val_mses.append(mse_val_temp)\n",
    "    \n",
    "print(f\"Mean training loss: {round(np.mean(train_mses), 3)} std: {round(np.std(train_mses), 3)}\")\n",
    "print(f\"Mean validation loss: {round(np.mean(val_mses), 3)} std: {round(np.std(val_mses), 3)}\")"
   ]
  },
  {
   "cell_type": "markdown",
   "metadata": {},
   "source": [
    "# Adaboost"
   ]
  },
  {
   "cell_type": "code",
   "execution_count": 51,
   "metadata": {},
   "outputs": [],
   "source": [
    "ada = AdaBoostClassifier(n_estimators=20, random_state=42)\n",
    "pipe = Pipeline([('linear_pca', RobustScaler()), ('ada', ada)])\n",
    "pipe.fit(train_data, train_labels)\n",
    "y_predada = pipe.predict(X_test)\n",
    "y_predada_proba = pipe.predict_proba(X_test)[:,1]"
   ]
  },
  {
   "cell_type": "code",
   "execution_count": 52,
   "metadata": {},
   "outputs": [
    {
     "data": {
      "image/png": "[encoded data removed]",
      "text/plain": [
       "<Figure size 700x500 with 1 Axes>"
      ]
     },
     "metadata": {},
     "output_type": "display_data"
    }
   ],
   "source": [
    "auc = metrics.roc_auc_score(y_test, y_predada_proba)\n",
    "auc = \"{:.3f}\".format(auc)\n",
    "fprADA, tprADA, _ = metrics.roc_curve(y_test, y_predada_proba)\n",
    "plt.plot(fprADA, tprADA, label=\"AUC=\"+ auc)\n",
    "plt.plot([0,1],[0,1], 'k--')\n",
    "plt.ylabel('True Positive Rate')\n",
    "plt.xlabel('False Positive Rate')\n",
    "plt.legend(loc=4)\n",
    "plt.show()"
   ]
  },
  {
   "cell_type": "code",
   "execution_count": 53,
   "metadata": {},
   "outputs": [
    {
     "name": "stdout",
     "output_type": "stream",
     "text": [
      "              precision    recall  f1-score   support\n",
      "\n",
      "           0       0.81      0.82      0.81       398\n",
      "           1       0.71      0.70      0.71       257\n",
      "\n",
      "    accuracy                           0.77       655\n",
      "   macro avg       0.76      0.76      0.76       655\n",
      "weighted avg       0.77      0.77      0.77       655\n",
      "\n"
     ]
    }
   ],
   "source": [
    "print(classification_report(y_test, y_predada))"
   ]
  },
  {
   "cell_type": "code",
   "execution_count": 54,
   "metadata": {},
   "outputs": [
    {
     "data": {
      "text/plain": [
       "<sklearn.metrics._plot.confusion_matrix.ConfusionMatrixDisplay at 0x7fa84e567880>"
      ]
     },
     "execution_count": 54,
     "metadata": {},
     "output_type": "execute_result"
    },
    {
     "data": {
      "image/png": "[encoded data removed]",
      "text/plain": [
       "<Figure size 700x500 with 2 Axes>"
      ]
     },
     "metadata": {},
     "output_type": "display_data"
    }
   ],
   "source": [
    "cm = confusion_matrix(y_test, y_predada)\n",
    "mat = ConfusionMatrixDisplay(confusion_matrix=cm)\n",
    "mat.plot()"
   ]
  },
  {
   "cell_type": "code",
   "execution_count": 74,
   "metadata": {},
   "outputs": [
    {
     "name": "stdout",
     "output_type": "stream",
     "text": [
      "Mean training loss: 0.23 std: 0.04\n",
      "Mean validation loss: 0.395 std: 0.149\n"
     ]
    }
   ],
   "source": [
    "kf = KFold(n_splits=5)\n",
    "\n",
    "# We fuse the training and validation set together\n",
    "X_trainval = np.concatenate((train_data, X_val))\n",
    "y_trainval = np.concatenate((train_labels, y_val))\n",
    "\n",
    "# Lists to save the losses\n",
    "train_mses = []\n",
    "val_mses = []\n",
    "\n",
    "# loop through the different folds\n",
    "for train_indexes, val_indexes in kf.split(X_trainval):\n",
    "    # create an new linreg model, untrained\n",
    "    model = LogisticRegression(max_iter = 10000)\n",
    "    pipe = Pipeline([(\"preprocessor\", RobustScaler()),('logReg', model)])\n",
    "    # train the model on a subset of the training data\n",
    "    pipe.fit(X_trainval[train_indexes], y_trainval[train_indexes])\n",
    "    \n",
    "    # make prediction for training and validation dataset\n",
    "    y_hat_train_temp = pipe.predict(X_trainval[train_indexes])\n",
    "    y_hat_val_temp = pipe.predict(X_trainval[val_indexes])\n",
    "    \n",
    "    # compute the losses\n",
    "    mse_train_temp = np.mean((y_hat_train_temp - y_trainval[train_indexes]) ** 2)\n",
    "    mse_val_temp = np.mean((y_hat_val_temp - y_trainval[val_indexes]) ** 2)\n",
    "    \n",
    "    # append the loss values to the lists\n",
    "    train_mses.append(mse_train_temp)\n",
    "    val_mses.append(mse_val_temp)\n",
    "    \n",
    "print(f\"Mean training loss: {round(np.mean(train_mses), 3)} std: {round(np.std(train_mses), 3)}\")\n",
    "print(f\"Mean validation loss: {round(np.mean(val_mses), 3)} std: {round(np.std(val_mses), 3)}\")"
   ]
  },
  {
   "cell_type": "markdown",
   "metadata": {},
   "source": [
    "# Naives Bayes"
   ]
  },
  {
   "cell_type": "code",
   "execution_count": 55,
   "metadata": {},
   "outputs": [],
   "source": [
    "gnb = GaussianNB()\n",
    "pipe = Pipeline([(\"scaler\", RobustScaler()),('gnb', gnb)])\n",
    "pipe.fit(train_data, train_labels)\n",
    "y_prednb = pipe.predict(X_test)\n",
    "y_prednb_proba = pipe.predict_proba(X_test)[:,1]"
   ]
  },
  {
   "cell_type": "code",
   "execution_count": 56,
   "metadata": {},
   "outputs": [
    {
     "data": {
      "image/png": "[encoded data removed]",
      "text/plain": [
       "<Figure size 700x500 with 1 Axes>"
      ]
     },
     "metadata": {},
     "output_type": "display_data"
    }
   ],
   "source": [
    "auc = metrics.roc_auc_score(y_test, y_prednb_proba)\n",
    "auc = \"{:.3f}\".format(auc)\n",
    "fprNB, tprNB, _ = metrics.roc_curve(y_test, y_prednb_proba)\n",
    "plt.plot(fprNB, tprNB, label=\"AUC=\"+ auc)\n",
    "plt.plot([0,1],[0,1], 'k--')\n",
    "plt.ylabel('True Positive Rate')\n",
    "plt.xlabel('False Positive Rate')\n",
    "plt.legend(loc=4)\n",
    "plt.show()"
   ]
  },
  {
   "cell_type": "code",
   "execution_count": 57,
   "metadata": {},
   "outputs": [
    {
     "name": "stdout",
     "output_type": "stream",
     "text": [
      "              precision    recall  f1-score   support\n",
      "\n",
      "           0       0.77      0.81      0.79       398\n",
      "           1       0.68      0.63      0.65       257\n",
      "\n",
      "    accuracy                           0.74       655\n",
      "   macro avg       0.73      0.72      0.72       655\n",
      "weighted avg       0.74      0.74      0.74       655\n",
      "\n"
     ]
    }
   ],
   "source": [
    "print(classification_report(y_test, y_prednb, labels=[0,1]))"
   ]
  },
  {
   "cell_type": "code",
   "execution_count": 58,
   "metadata": {},
   "outputs": [
    {
     "data": {
      "text/plain": [
       "<sklearn.metrics._plot.confusion_matrix.ConfusionMatrixDisplay at 0x7fa84e571850>"
      ]
     },
     "execution_count": 58,
     "metadata": {},
     "output_type": "execute_result"
    },
    {
     "data": {
      "image/png": "[encoded data removed]",
      "text/plain": [
       "<Figure size 700x500 with 2 Axes>"
      ]
     },
     "metadata": {},
     "output_type": "display_data"
    }
   ],
   "source": [
    "cm = confusion_matrix(y_test, y_prednb)\n",
    "mat = ConfusionMatrixDisplay(confusion_matrix=cm)\n",
    "mat.plot()"
   ]
  },
  {
   "cell_type": "code",
   "execution_count": 75,
   "metadata": {},
   "outputs": [
    {
     "name": "stdout",
     "output_type": "stream",
     "text": [
      "Mean training loss: 0.384 std: 0.023\n",
      "Mean validation loss: 0.422 std: 0.102\n"
     ]
    }
   ],
   "source": [
    "kf = KFold(n_splits=5)\n",
    "\n",
    "# We fuse the training and validation set together\n",
    "X_trainval = np.concatenate((train_data, X_val))\n",
    "y_trainval = np.concatenate((train_labels, y_val))\n",
    "\n",
    "# Lists to save the losses\n",
    "train_mses = []\n",
    "val_mses = []\n",
    "\n",
    "# loop through the different folds\n",
    "for train_indexes, val_indexes in kf.split(X_trainval):\n",
    "    # create an new linreg model, untrained\n",
    "    gnb = GaussianNB()\n",
    "    pipe = Pipeline([(\"scaler\", RobustScaler()),('gnb', gnb)])\n",
    "    # train the model on a subset of the training data\n",
    "    pipe.fit(X_trainval[train_indexes], y_trainval[train_indexes])\n",
    "    \n",
    "    # make prediction for training and validation dataset\n",
    "    y_hat_train_temp = pipe.predict(X_trainval[train_indexes])\n",
    "    y_hat_val_temp = pipe.predict(X_trainval[val_indexes])\n",
    "    \n",
    "    # compute the losses\n",
    "    mse_train_temp = np.mean((y_hat_train_temp - y_trainval[train_indexes]) ** 2)\n",
    "    mse_val_temp = np.mean((y_hat_val_temp - y_trainval[val_indexes]) ** 2)\n",
    "    \n",
    "    # append the loss values to the lists\n",
    "    train_mses.append(mse_train_temp)\n",
    "    val_mses.append(mse_val_temp)\n",
    "    \n",
    "print(f\"Mean training loss: {round(np.mean(train_mses), 3)} std: {round(np.std(train_mses), 3)}\")\n",
    "print(f\"Mean validation loss: {round(np.mean(val_mses), 3)} std: {round(np.std(val_mses), 3)}\")"
   ]
  },
  {
   "cell_type": "markdown",
   "metadata": {},
   "source": [
    "# KNN"
   ]
  },
  {
   "cell_type": "code",
   "execution_count": 60,
   "metadata": {},
   "outputs": [],
   "source": [
    "knn = KNeighborsClassifier(n_neighbors=25)"
   ]
  },
  {
   "cell_type": "code",
   "execution_count": 61,
   "metadata": {},
   "outputs": [],
   "source": [
    "pipe = Pipeline([(\"scaler\", RobustScaler()),('knn', knn)])\n",
    "pipe.fit(train_data, train_labels)\n",
    "y_predknn = pipe.predict(X_test)\n",
    "y_predknn_proba = pipe.predict_proba(X_test)[:,1]"
   ]
  },
  {
   "cell_type": "code",
   "execution_count": 62,
   "metadata": {},
   "outputs": [
    {
     "data": {
      "image/png": "[encoded data removed]",
      "text/plain": [
       "<Figure size 700x500 with 1 Axes>"
      ]
     },
     "metadata": {},
     "output_type": "display_data"
    }
   ],
   "source": [
    "auc = metrics.roc_auc_score(y_test, y_predknn_proba)\n",
    "auc = \"{:.3f}\".format(auc)\n",
    "fprKNN, tprKNN, _ = metrics.roc_curve(y_test, y_predknn_proba)\n",
    "plt.plot(fprKNN, tprKNN, label=\"AUC=\"+ auc)\n",
    "plt.plot([0,1],[0,1], 'k--')\n",
    "plt.ylabel('True Positive Rate')\n",
    "plt.xlabel('False Positive Rate')\n",
    "plt.legend(loc=4)\n",
    "plt.show()"
   ]
  },
  {
   "cell_type": "code",
   "execution_count": 63,
   "metadata": {},
   "outputs": [
    {
     "name": "stdout",
     "output_type": "stream",
     "text": [
      "              precision    recall  f1-score   support\n",
      "\n",
      "           0       0.74      0.83      0.78       398\n",
      "           1       0.68      0.55      0.61       257\n",
      "\n",
      "    accuracy                           0.72       655\n",
      "   macro avg       0.71      0.69      0.70       655\n",
      "weighted avg       0.72      0.72      0.71       655\n",
      "\n"
     ]
    }
   ],
   "source": [
    "print(classification_report(y_test, y_predknn, labels=[0,1]))"
   ]
  },
  {
   "cell_type": "code",
   "execution_count": 64,
   "metadata": {},
   "outputs": [
    {
     "data": {
      "text/plain": [
       "<sklearn.metrics._plot.confusion_matrix.ConfusionMatrixDisplay at 0x7fa84c28ffd0>"
      ]
     },
     "execution_count": 64,
     "metadata": {},
     "output_type": "execute_result"
    },
    {
     "data": {
      "image/png": "[encoded data removed]",
      "text/plain": [
       "<Figure size 700x500 with 2 Axes>"
      ]
     },
     "metadata": {},
     "output_type": "display_data"
    }
   ],
   "source": [
    "cm = confusion_matrix(y_test, y_predknn)\n",
    "mat = ConfusionMatrixDisplay(confusion_matrix=cm)\n",
    "mat.plot()"
   ]
  },
  {
   "cell_type": "code",
   "execution_count": 76,
   "metadata": {},
   "outputs": [
    {
     "name": "stdout",
     "output_type": "stream",
     "text": [
      "Mean training loss: 0.283 std: 0.027\n",
      "Mean validation loss: 0.497 std: 0.192\n"
     ]
    }
   ],
   "source": [
    "kf = KFold(n_splits=5)\n",
    "\n",
    "# We fuse the training and validation set together\n",
    "X_trainval = np.concatenate((train_data, X_val))\n",
    "y_trainval = np.concatenate((train_labels, y_val))\n",
    "\n",
    "# Lists to save the losses\n",
    "train_mses = []\n",
    "val_mses = []\n",
    "\n",
    "# loop through the different folds\n",
    "for train_indexes, val_indexes in kf.split(X_trainval):\n",
    "    # create an new linreg model, untrained\n",
    "    knn = KNeighborsClassifier(n_neighbors=25)\n",
    "    pipe = Pipeline([(\"scaler\", RobustScaler()),('knn', knn)])\n",
    "    # train the model on a subset of the training data\n",
    "    pipe.fit(X_trainval[train_indexes], y_trainval[train_indexes])\n",
    "    \n",
    "    # make prediction for training and validation dataset\n",
    "    y_hat_train_temp = pipe.predict(X_trainval[train_indexes])\n",
    "    y_hat_val_temp = pipe.predict(X_trainval[val_indexes])\n",
    "    \n",
    "    # compute the losses\n",
    "    mse_train_temp = np.mean((y_hat_train_temp - y_trainval[train_indexes]) ** 2)\n",
    "    mse_val_temp = np.mean((y_hat_val_temp - y_trainval[val_indexes]) ** 2)\n",
    "    \n",
    "    # append the loss values to the lists\n",
    "    train_mses.append(mse_train_temp)\n",
    "    val_mses.append(mse_val_temp)\n",
    "    \n",
    "print(f\"Mean training loss: {round(np.mean(train_mses), 3)} std: {round(np.std(train_mses), 3)}\")\n",
    "print(f\"Mean validation loss: {round(np.mean(val_mses), 3)} std: {round(np.std(val_mses), 3)}\")"
   ]
  },
  {
   "cell_type": "markdown",
   "metadata": {},
   "source": [
    "# Random Forest"
   ]
  },
  {
   "cell_type": "code",
   "execution_count": 66,
   "metadata": {},
   "outputs": [],
   "source": [
    "rf = RandomForestClassifier(n_estimators=50, random_state=42)"
   ]
  },
  {
   "cell_type": "code",
   "execution_count": 67,
   "metadata": {},
   "outputs": [],
   "source": [
    "pipe = Pipeline([(\"scaler\", RobustScaler()),('rf', rf)])\n",
    "pipe.fit(train_data, train_labels)\n",
    "y_predrf = pipe.predict(X_test)\n",
    "y_predrf_proba = pipe.predict_proba(X_test)[:,1]"
   ]
  },
  {
   "cell_type": "code",
   "execution_count": 68,
   "metadata": {},
   "outputs": [
    {
     "data": {
      "image/png": "[encoded data removed]",
      "text/plain": [
       "<Figure size 700x500 with 1 Axes>"
      ]
     },
     "metadata": {},
     "output_type": "display_data"
    }
   ],
   "source": [
    "auc = metrics.roc_auc_score(y_test, y_predrf_proba)\n",
    "auc = \"{:.3f}\".format(auc)\n",
    "fprRF, tprRF, _ = metrics.roc_curve(y_test, y_predrf_proba)\n",
    "plt.plot(fprRF, tprRF, label=\"AUC=\"+ auc)\n",
    "plt.plot([0,1],[0,1], 'k--')\n",
    "plt.ylabel('True Positive Rate')\n",
    "plt.xlabel('False Positive Rate')\n",
    "plt.legend(loc=4)\n",
    "plt.show()"
   ]
  },
  {
   "cell_type": "code",
   "execution_count": 69,
   "metadata": {},
   "outputs": [
    {
     "name": "stdout",
     "output_type": "stream",
     "text": [
      "              precision    recall  f1-score   support\n",
      "\n",
      "           0       0.82      0.91      0.86       398\n",
      "           1       0.83      0.68      0.75       257\n",
      "\n",
      "    accuracy                           0.82       655\n",
      "   macro avg       0.82      0.80      0.81       655\n",
      "weighted avg       0.82      0.82      0.82       655\n",
      "\n"
     ]
    }
   ],
   "source": [
    "print(classification_report(y_test, y_predrf, labels=[0,1]))"
   ]
  },
  {
   "cell_type": "code",
   "execution_count": 70,
   "metadata": {},
   "outputs": [
    {
     "data": {
      "text/plain": [
       "<sklearn.metrics._plot.confusion_matrix.ConfusionMatrixDisplay at 0x7fa84e507400>"
      ]
     },
     "execution_count": 70,
     "metadata": {},
     "output_type": "execute_result"
    },
    {
     "data": {
      "image/png": "[encoded data removed]",
      "text/plain": [
       "<Figure size 700x500 with 2 Axes>"
      ]
     },
     "metadata": {},
     "output_type": "display_data"
    }
   ],
   "source": [
    "cm = confusion_matrix(y_test, y_predrf)\n",
    "mat = ConfusionMatrixDisplay(confusion_matrix=cm)\n",
    "mat.plot()"
   ]
  },
  {
   "cell_type": "code",
   "execution_count": 77,
   "metadata": {},
   "outputs": [
    {
     "name": "stdout",
     "output_type": "stream",
     "text": [
      "Mean training loss: 0.0 std: 0.0\n",
      "Mean validation loss: 0.371 std: 0.173\n"
     ]
    }
   ],
   "source": [
    "kf = KFold(n_splits=5)\n",
    "\n",
    "# We fuse the training and validation set together\n",
    "X_trainval = np.concatenate((train_data, X_val))\n",
    "y_trainval = np.concatenate((train_labels, y_val))\n",
    "\n",
    "# Lists to save the losses\n",
    "train_mses = []\n",
    "val_mses = []\n",
    "\n",
    "# loop through the different folds\n",
    "for train_indexes, val_indexes in kf.split(X_trainval):\n",
    "    # create an new linreg model, untrained\n",
    "    rf = RandomForestClassifier(n_estimators=50, random_state=42)\n",
    "    pipe = Pipeline([(\"scaler\", RobustScaler()),('rf', rf)])\n",
    "    # train the model on a subset of the training data\n",
    "    pipe.fit(X_trainval[train_indexes], y_trainval[train_indexes])\n",
    "    \n",
    "    # make prediction for training and validation dataset\n",
    "    y_hat_train_temp = pipe.predict(X_trainval[train_indexes])\n",
    "    y_hat_val_temp = pipe.predict(X_trainval[val_indexes])\n",
    "    \n",
    "    # compute the losses\n",
    "    mse_train_temp = np.mean((y_hat_train_temp - y_trainval[train_indexes]) ** 2)\n",
    "    mse_val_temp = np.mean((y_hat_val_temp - y_trainval[val_indexes]) ** 2)\n",
    "    \n",
    "    # append the loss values to the lists\n",
    "    train_mses.append(mse_train_temp)\n",
    "    val_mses.append(mse_val_temp)\n",
    "    \n",
    "print(f\"Mean training loss: {round(np.mean(train_mses), 3)} std: {round(np.std(train_mses), 3)}\")\n",
    "print(f\"Mean validation loss: {round(np.mean(val_mses), 3)} std: {round(np.std(val_mses), 3)}\")"
   ]
  },
  {
   "cell_type": "markdown",
   "metadata": {},
   "source": [
    "# Benchmark"
   ]
  },
  {
   "cell_type": "code",
   "execution_count": 71,
   "metadata": {},
   "outputs": [
    {
     "data": {
      "image/png": "[encoded data removed]",
      "text/plain": [
       "<Figure size 700x500 with 1 Axes>"
      ]
     },
     "metadata": {},
     "output_type": "display_data"
    }
   ],
   "source": [
    "plt.plot([0,1],[0,1], \"k--\")\n",
    "plt.plot(fprLR, tprLR, label= \"Logistic Regression\")\n",
    "plt.plot(fprSVC, tprSVC, label= \"SVM/C\")\n",
    "plt.plot(fprBAGGING, tprBAGGING, label= \"Bagging\")\n",
    "plt.plot(fprADA, tprADA, label= \"Adaboost\")\n",
    "plt.plot(fprNB, tprNB, label= \"Naive Bayes\")\n",
    "plt.plot(fprRF, tprRF, label= \"Random Forest\")\n",
    "plt.plot(fprKNN, tprKNN, label= \"KNN\")\n",
    "\n",
    "plt.legend()\n",
    "plt.xlabel(\"FPR\")\n",
    "plt.ylabel(\"TPR\")\n",
    "plt.title('Roc Benchmark')\n",
    "plt.rcParams[\"figure.figsize\"] = (20,10)\n",
    "plt.show()"
   ]
  }
 ],
 "metadata": {
  "kernelspec": {
   "display_name": "Python 3 (ipykernel)",
   "language": "python",
   "name": "python3"
  },
  "language_info": {
   "codemirror_mode": {
    "name": "ipython",
    "version": 3
   },
   "file_extension": ".py",
   "mimetype": "text/x-python",
   "name": "python",
   "nbconvert_exporter": "python",
   "pygments_lexer": "ipython3",
   "version": "3.8.16"
  }
 },
 "nbformat": 4,
 "nbformat_minor": 2
}
